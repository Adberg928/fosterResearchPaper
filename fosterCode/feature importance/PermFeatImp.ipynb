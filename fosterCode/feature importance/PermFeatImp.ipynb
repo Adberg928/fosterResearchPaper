{
  "nbformat": 4,
  "nbformat_minor": 0,
  "metadata": {
    "colab": {
      "provenance": []
    },
    "kernelspec": {
      "name": "python3",
      "display_name": "Python 3"
    },
    "language_info": {
      "name": "python"
    }
  },
  "cells": [
    {
      "cell_type": "code",
      "execution_count": null,
      "metadata": {
        "id": "7lqrG8Zav9dv"
      },
      "outputs": [],
      "source": [
        "import numpy as np\n",
        "import pandas as pd\n",
        "import matplotlib.pyplot as plt\n",
        "import os\n",
        "import time\n",
        "from sklearn.preprocessing import MinMaxScaler\n",
        "from sklearn.model_selection import cross_validate, cross_val_predict, StratifiedKFold\n",
        "from sklearn.inspection import permutation_importance # 1002\n"
      ]
    },
    {
      "cell_type": "code",
      "source": [
        "# mount drive\n",
        "from google.colab import drive\n",
        "drive.mount('/content/drive/')\n",
        "%cd 'drive/Shareddrives/CSCI 461/processed'\n",
        "#%ls processed/*"
      ],
      "metadata": {
        "id": "6kutAi0v5Xtl"
      },
      "execution_count": null,
      "outputs": []
    },
    {
      "cell_type": "code",
      "source": [
        "# pred = model.predict()\n",
        "splits = kfold.split(X, y)\n",
        "imp_by_cat = {key: [0.0,0.0] for key in CATEGORIES}    # keys: categories, values: [running total of permutation importance, count]\n",
        "# imp_by_cat = {}\n",
        "for n,(train_index, test_index) in enumerate(splits):   # each of k training/test sets\n",
        "  r = permutation_importance(model, myX_ns.iloc[test_index, :], y.iloc[test_index],\n",
        "                              n_repeats=30,     # can change this\n",
        "                              random_state=0)\n",
        "  # model.fit(X.iloc[train_index, :-1], y.iloc[train_index])\n",
        "  # pred = model.predict(X.iloc[test_index, :-1])\n",
        "  # for i in y[test_index]: y_truth.append(i)\n",
        "  # for i in pred: y_pred.append(i)\n",
        "\n",
        "\n",
        "  for i in r.importances_mean.argsort()[::-1]:\n",
        "    if r.importances_mean[i] - 2 * r.importances_std[i] > 0:\n",
        "      feat = lin_svc.feature[i]\n",
        "      cat = feature_cat[feat]\n",
        "      imp = r.importances_mean[i]\n",
        "      # if cat in imp_by_cat:\n",
        "      imp_by_cat[cat][0] += imp   # sum of means\n",
        "      imp_by_cat[cat][1] += 1.0   # count\n",
        "      # else:\n",
        "      #   imp_by_cat[cat] = [0.0,0.0]\n",
        "      print(f\"{feat:<8}\\t\"\n",
        "            f\"{cat:<8}\\t\"\n",
        "            f\"{imp:.3f}\\t\"\n",
        "            f\" +/- {r.importances_std[i]:.3f}\")\n",
        "\n",
        "radar_input = {key: imp_by_cat[key][0]/imp_by_cat[key][1] if imp_by_cat[key][1] > 0 else 0 for key in imp_by_cat.keys()}    # keys: categories, values: mean importance in that category\n"
      ],
      "metadata": {
        "id": "UgCpOl9A7ICX"
      },
      "execution_count": null,
      "outputs": []
    },
    {
      "cell_type": "code",
      "source": [
        "# example radar graph\n",
        "\n",
        "import plotly.graph_objects as go\n",
        "\n",
        "fig = go.Figure(layout_title_text=\"SVM Feature Importance\")\n",
        "fig.add_trace(go.Scatterpolar(\n",
        "      r=list(radar_input.values()),\n",
        "      theta=CATEGORIES,\n",
        "      fill='toself',\n",
        "      name='SVM'\n",
        "))\n",
        "# fig.add_trace(go.Scatterpolar(\n",
        "#       r=[4, 3, 2.5, 1, 2],\n",
        "#       theta=CATEGORIES,\n",
        "#       fill='toself',\n",
        "#       name='Product B'\n",
        "# ))\n",
        "\n",
        "\n",
        "fig.update_layout(\n",
        "  polar=dict(\n",
        "    radialaxis=dict(\n",
        "      visible=True,\n",
        "      range=[0, max_val]\n",
        "    )),\n",
        "  showlegend=False\n",
        ")\n",
        "\n",
        "fig.show()\n"
      ],
      "metadata": {
        "id": "UO2tJvg57CXA"
      },
      "execution_count": null,
      "outputs": []
    }
  ]
}