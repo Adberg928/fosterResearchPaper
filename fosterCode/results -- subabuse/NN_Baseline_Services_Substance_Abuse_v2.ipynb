{
  "nbformat": 4,
  "nbformat_minor": 0,
  "metadata": {
    "colab": {
      "provenance": []
    },
    "kernelspec": {
      "name": "python3",
      "display_name": "Python 3"
    },
    "language_info": {
      "name": "python"
    }
  },
  "cells": [
    {
      "cell_type": "markdown",
      "source": [
        "#Mount Drive + Load Libraries#"
      ],
      "metadata": {
        "id": "fyzbDZk5aiNS"
      }
    },
    {
      "cell_type": "code",
      "execution_count": null,
      "metadata": {
        "colab": {
          "base_uri": "https://localhost:8080/"
        },
        "id": "SFrwtuWe3DEO",
        "outputId": "84519fa4-8e1e-4ba4-f834-a69757b52711"
      },
      "outputs": [
        {
          "output_type": "stream",
          "name": "stdout",
          "text": [
            "Mounted at /content/drive/\n",
            "/content/drive/Shareddrives/CSCI 461\n"
          ]
        }
      ],
      "source": [
        "# mount drive\n",
        "from google.colab import drive\n",
        "drive.mount('/content/drive/')\n",
        "%cd 'drive/Shareddrives/CSCI 461'"
      ]
    },
    {
      "cell_type": "code",
      "source": [
        "# python libraries\n",
        "import pandas as pd\n",
        "import torch \n",
        "import torch.nn as nn\n",
        "from datetime import date\n",
        "import os\n",
        "import matplotlib.pyplot as plt\n",
        "from sklearn.utils import shuffle\n",
        "from sklearn.metrics import f1_score, recall_score, precision_score, confusion_matrix, roc_auc_score\n",
        "import numpy as np\n",
        "from sklearn.metrics import f1_score\n",
        "from sklearn.model_selection import StratifiedKFold, train_test_split\n",
        "import seaborn as sns\n",
        "from sklearn.preprocessing import MinMaxScaler\n",
        "from imblearn.combine import SMOTEENN\n",
        "import time\n",
        "kfold = StratifiedKFold(n_splits=5,shuffle=True,random_state=11)\n",
        "\n",
        "device = torch.device(\"cuda\") if torch.cuda.is_available() else torch.device(\"cpu\")"
      ],
      "metadata": {
        "id": "orOUi10Y3-5y"
      },
      "execution_count": null,
      "outputs": []
    },
    {
      "cell_type": "markdown",
      "source": [
        "#ANN Modeling#"
      ],
      "metadata": {
        "id": "GEvGVIrAaz_C"
      }
    },
    {
      "cell_type": "code",
      "source": [
        "# Importing the data\n",
        "data = pd.read_csv(\"processed/combined_ohe_17.csv\")\n",
        "edu_matrix = data[[\"highedcert_associate degree\",\"highedcert_bachelor degree\",\"highedcert_high school or ged\",\n",
        "                  \"highedcert_higher degree\",\"highedcert_none of the above\",\"highedcert_vocational certificate\",\n",
        "                  \"highedcert_vocational license\"]]\n",
        "data[\"edu_categorical\"] = edu_matrix.idxmax(axis=1)\n",
        "\n",
        "# making education binary\n",
        "educationBinary = \\\n",
        "{   \n",
        "    \"highedcert_associate degree\": 1,\n",
        "    \"highedcert_bachelor degree\": 1,\n",
        "    \"highedcert_high school or ged\": 1,\n",
        "    \"highedcert_higher degree\": 1,\n",
        "    \"highedcert_none of the above\":0,\n",
        "    \"highedcert_vocational certificate\": 1,\n",
        "    \"highedcert_vocational license\": 1\n",
        "}\n",
        "\n",
        "# # drop features\n",
        "# data.drop(columns=['specedsv_No',\n",
        "#  'specedsv_Yes',\n",
        "#  'ilnasv_No',\n",
        "#  'ilnasv_Yes',\n",
        "#  'acsuppsv_No',\n",
        "#  'acsuppsv_Yes',\n",
        "#  'psedsuppsv_No',\n",
        "#  'psedsuppsv_Yes',\n",
        "#  'careersv_No',\n",
        "#  'careersv_Yes',\n",
        "#  'emplytrsv_No',\n",
        "#  'emplytrsv_Yes',\n",
        "#  'budgetsv_No',\n",
        "#  'budgetsv_Yes',\n",
        "#  'housedsv_No',\n",
        "#  'housedsv_Yes',\n",
        "#  'hlthedsv_No',\n",
        "#  'hlthedsv_Yes',\n",
        "#  'famsuppsv_No',\n",
        "#  'famsuppsv_Yes',\n",
        "#  'mentorsv_No',\n",
        "#  'mentorsv_Yes',\n",
        "#  'silsv_No',\n",
        "#  'silsv_Yes',\n",
        "#  'rmbrdfasv_No',\n",
        "#  'rmbrdfasv_Yes',\n",
        "#  'educfinasv_No',\n",
        "#  'educfinasv_Yes',\n",
        "#  'othrfinasv_No',\n",
        "#  'othrfinasv_Yes'], axis=1, inplace=True)\n",
        "\n",
        "data['edu_binary'] = data[\"edu_categorical\"].map(educationBinary) \n",
        "\n",
        "# dropping overlap variables (and other outcome features, recnumbr)\n",
        "data.drop(columns=[\"recnumbr\", \"highedcert_associate degree\",\"highedcert_bachelor degree\",\"highedcert_high school or ged\",\n",
        "                  \"highedcert_higher degree\",\"highedcert_none of the above\",\"highedcert_vocational certificate\",\n",
        "                  \"highedcert_vocational license\",\"edu_categorical\", 'edu_binary','homeless_no','homeless_yes',\n",
        "                   'subabuse_no', 'incarc_no', 'incarc_yes', 'edu_categorical',  'currpte_yes', 'currpte_no','currfte_yes', \n",
        "                   'currfte_no','age'], axis=1, inplace=True)\n",
        "\n",
        "# filtering for age 19+ and balancing the class\n",
        "#data = data[data['age']>18].sort_values('edu_binary').iloc[:1084*2,:]\n",
        "target=\"subabuse_yes\"\n",
        "# Setting target variables\n",
        "data = data.sample(frac=1)\n",
        "y = data.loc[:,target]\n",
        "X = data.loc[:,data.columns !=target]\n",
        "\n",
        "# Feature scaling \n",
        "# scaler = MinMaxScaler((-1,1))\n",
        "# X['age'] = scaler.fit_transform(np.array(X['age']).reshape(-1, 1))\n",
        "\n"
      ],
      "metadata": {
        "id": "SvC37nBuqNuI"
      },
      "execution_count": null,
      "outputs": []
    },
    {
      "cell_type": "code",
      "source": [
        "# OVER SAMPLING\n",
        "# over = pd.DataFrame()\n",
        "# for i in range(2):\n",
        "#   over=over.append(data[data[\"subabuse_yes\"] == 1])\n",
        "# over=over.append(data[data[\"subabuse_yes\"] == 1].iloc[:int(5980 /2),:])\n",
        "# data=data.append(over).sample(frac=1)\n",
        "smote_enn = SMOTEENN(random_state=0)\n",
        "X, y = smote_enn.fit_resample(X, y)\n",
        "X_train, X_test, y_train, y_test = train_test_split(X, y, test_size = 0.2, random_state = 0)"
      ],
      "metadata": {
        "id": "MF6g8ls3-Qie"
      },
      "execution_count": null,
      "outputs": []
    },
    {
      "cell_type": "code",
      "source": [
        "def my_cm_dec(y,y_pred):\n",
        "  cm = confusion_matrix(y,y_pred)\n",
        "  # print(cm.ravel())\n",
        "  # print('(tn, fp, fn, tp)')\n",
        "  n=sum(cm.ravel()[:2])\n",
        "  p=sum(cm.ravel()[2:])\n",
        "  cm_matrix = pd.DataFrame(data=cm, columns=['Predict Negative:0','Predict Positive:1'], \n",
        "                                 index=[ 'Actual Negative:0','Actual Positive:1'])\n",
        "  cm_matrix = cm_matrix.loc[ ['Actual Positive:1','Actual Negative:0'], [ 'Predict Positive:1', 'Predict Negative:0']]\n",
        "  cm_matrix.loc['Actual Positive:1', :] = cm_matrix.loc['Actual Positive:1', :] /p\n",
        "  cm_matrix.loc['Actual Negative:0', :]  = cm_matrix.loc['Actual Negative:0', :] /n\n",
        "  sns.heatmap(cm_matrix, annot=True, cmap='YlGnBu')\n",
        "  plt.show()\n",
        "  return cm.ravel()\n"
      ],
      "metadata": {
        "id": "fSOnZu-ArCM9"
      },
      "execution_count": null,
      "outputs": []
    },
    {
      "cell_type": "code",
      "source": [
        "#data loader for torch\n",
        "class data_class(torch.utils.data.Dataset):\n",
        "  def __init__(self, X,y):\n",
        "    self.x=torch.tensor(X.values,dtype=torch.float32)\n",
        "    self.y=torch.tensor(y.values.reshape(-1,1),dtype=torch.float32)\n",
        "  def __len__(self):\n",
        "    return len(self.y)\n",
        "  def __getitem__(self, idx):\n",
        "    return self.x[idx], self.y[idx]\n",
        "train_loader=torch.utils.data.DataLoader(data_class(X_train,y_train),batch_size=128,shuffle=True)\n",
        "test_loader=torch.utils.data.DataLoader(data_class(X_test,y_test), batch_size=128, shuffle=True)"
      ],
      "metadata": {
        "id": "wv7-uAb3iDHv"
      },
      "execution_count": null,
      "outputs": []
    },
    {
      "cell_type": "markdown",
      "source": [
        "Modeling "
      ],
      "metadata": {
        "id": "_zfe5lkWMkBN"
      }
    },
    {
      "cell_type": "code",
      "source": [
        "# viewing data loader\n",
        "print(\"Number of training examples:\", len(train_loader))\n",
        "print(\"Number of testing examples:\", len(test_loader))\n",
        "\n",
        "# features in sample\n",
        "examples = iter(train_loader)\n",
        "samples, labels = next(examples)\n",
        "print(\"Sample shape: \", samples.shape)\n",
        "print(\"Label shape: \", labels.shape)\n"
      ],
      "metadata": {
        "colab": {
          "base_uri": "https://localhost:8080/"
        },
        "id": "eTWfjAU7n2Zn",
        "outputId": "ce3aafe3-25b1-43fd-9f8a-ddec2d8850e4"
      },
      "execution_count": null,
      "outputs": [
        {
          "output_type": "stream",
          "name": "stdout",
          "text": [
            "Number of training examples: 238\n",
            "Number of testing examples: 60\n",
            "Sample shape:  torch.Size([128, 141])\n",
            "Label shape:  torch.Size([128, 1])\n"
          ]
        }
      ]
    },
    {
      "cell_type": "code",
      "source": [
        "# defining the model\n",
        "class ANN(nn.Module):\n",
        "  def __init__(self, input_size, num_classes):\n",
        "    super(ANN, self).__init__()\n",
        "    self.relu = nn.ReLU()\n",
        "    self.input_layer = nn.Linear(input_size, 128)\n",
        "    self.hidden1 = nn.Linear(128,64)\n",
        "    self.hidden2 = nn.Linear(64,32)\n",
        "    self.hidden3 = nn.Linear(32,16)\n",
        "    self.hidden4 = nn.Linear(16,8)\n",
        "    self.output_layer= nn.Linear(8,num_classes)\n",
        "    self.activation = nn.Sigmoid()\n",
        "    self.batch_norm = nn.BatchNorm1d(8)\n",
        "  def forward(self, sample):\n",
        "    out = self.input_layer(sample)\n",
        "    out = self.relu(out)\n",
        "    out = self.hidden1(out)\n",
        "    out = self.relu(out)\n",
        "    out = self.hidden2(out)\n",
        "    out = self.relu(out)\n",
        "    out = self.hidden3(out)\n",
        "    out = self.relu(out)\n",
        "    out = self.hidden4(out)\n",
        "    out = self.relu(out)\n",
        "    out = self.batch_norm(out)\n",
        "    return self.activation(self.output_layer(out))\n",
        "model = ANN(141, 1)\n",
        "print(model)"
      ],
      "metadata": {
        "id": "8GmnRGedpc7J",
        "colab": {
          "base_uri": "https://localhost:8080/"
        },
        "outputId": "143507e9-7d8e-492d-a007-581ece516b10"
      },
      "execution_count": null,
      "outputs": [
        {
          "output_type": "stream",
          "name": "stdout",
          "text": [
            "ANN(\n",
            "  (relu): ReLU()\n",
            "  (input_layer): Linear(in_features=141, out_features=128, bias=True)\n",
            "  (hidden1): Linear(in_features=128, out_features=64, bias=True)\n",
            "  (hidden2): Linear(in_features=64, out_features=32, bias=True)\n",
            "  (hidden3): Linear(in_features=32, out_features=16, bias=True)\n",
            "  (hidden4): Linear(in_features=16, out_features=8, bias=True)\n",
            "  (output_layer): Linear(in_features=8, out_features=1, bias=True)\n",
            "  (activation): Sigmoid()\n",
            "  (batch_norm): BatchNorm1d(8, eps=1e-05, momentum=0.1, affine=True, track_running_stats=True)\n",
            ")\n"
          ]
        }
      ]
    },
    {
      "cell_type": "code",
      "source": [
        "# define loss and optimizer\n",
        "# loss_function = nn.functional.binary_cross_entropy_with_logits\n",
        "loss_function = nn.BCELoss()\n",
        "optimizer = torch.optim.Adam(model.parameters())"
      ],
      "metadata": {
        "id": "z2g8GhVZB_Re"
      },
      "execution_count": null,
      "outputs": []
    },
    {
      "cell_type": "code",
      "source": [
        "# training model\n",
        "num_epochs = 10\n",
        "total_steps = len(train_loader)\n",
        "for epoch in range(num_epochs):\n",
        "  for i, (samples,labels) in enumerate (train_loader):\n",
        "    samples = samples.to(device)\n",
        "    labels = labels.to(device)\n",
        "\n",
        "    output = model.forward(samples)\n",
        "    loss = loss_function(output, labels)\n",
        "\n",
        "    optimizer.zero_grad()\n",
        "    loss.backward()\n",
        "    optimizer.step()\n",
        "\n",
        "    if (i+1) % 100 == 0:\n",
        "      print(f'epoch {epoch+1} / {num_epochs}, step {i+1}/{total_steps}, loss = {loss.item():.4f}')"
      ],
      "metadata": {
        "id": "QiGsB2D6CP2h",
        "colab": {
          "base_uri": "https://localhost:8080/"
        },
        "outputId": "6140cc6c-99c2-4b30-dc16-8e1ae6852ff2"
      },
      "execution_count": null,
      "outputs": [
        {
          "output_type": "stream",
          "name": "stdout",
          "text": [
            "epoch 1 / 10, step 100/238, loss = 0.3889\n",
            "epoch 1 / 10, step 200/238, loss = 0.3342\n",
            "epoch 2 / 10, step 100/238, loss = 0.3834\n",
            "epoch 2 / 10, step 200/238, loss = 0.3182\n",
            "epoch 3 / 10, step 100/238, loss = 0.2669\n",
            "epoch 3 / 10, step 200/238, loss = 0.3154\n",
            "epoch 4 / 10, step 100/238, loss = 0.2397\n",
            "epoch 4 / 10, step 200/238, loss = 0.3208\n",
            "epoch 5 / 10, step 100/238, loss = 0.2347\n",
            "epoch 5 / 10, step 200/238, loss = 0.3013\n",
            "epoch 6 / 10, step 100/238, loss = 0.2584\n",
            "epoch 6 / 10, step 200/238, loss = 0.3144\n",
            "epoch 7 / 10, step 100/238, loss = 0.3518\n",
            "epoch 7 / 10, step 200/238, loss = 0.2506\n",
            "epoch 8 / 10, step 100/238, loss = 0.2530\n",
            "epoch 8 / 10, step 200/238, loss = 0.2728\n",
            "epoch 9 / 10, step 100/238, loss = 0.3222\n",
            "epoch 9 / 10, step 200/238, loss = 0.2715\n",
            "epoch 10 / 10, step 100/238, loss = 0.3036\n",
            "epoch 10 / 10, step 200/238, loss = 0.1855\n"
          ]
        }
      ]
    },
    {
      "cell_type": "code",
      "source": [
        "# test set, do not updatee gradients\n",
        "with torch.no_grad():\n",
        "  accuracy_arr=[]\n",
        "  loss_arr=[]\n",
        "  f1_arr = []\n",
        "  recall_arr=[]\n",
        "  precision_arr=[]\n",
        "  labels_arr=[]\n",
        "  predictions_arr=[]\n",
        "  auc_arr=[]\n",
        "  corr_num = 0\n",
        "  sample_num=0\n",
        "\n",
        "  for indiv, labels in test_loader:\n",
        "    indiv =   indiv.to(device)\n",
        "    labels = labels.to(device)\n",
        "    #print(indiv)\n",
        "    output = model(indiv)\n",
        "\n",
        "    sample_num += labels.shape[0]\n",
        "    predictions = torch.round(output)\n",
        "    corr_num += (predictions == labels).sum().item()\n",
        "\n",
        "    loss = loss_function(output, labels)\n",
        "    loss_arr.append(loss)\n",
        "    accuracy = corr_num / sample_num\n",
        "    accuracy_arr.append(accuracy)\n",
        "\n",
        "    f1 = f1_score(predictions, labels, labels=labels)\n",
        "    f1_arr.append(f1)\n",
        "    recall = recall_score(predictions, labels, labels=labels)\n",
        "    precision = precision_score(predictions, labels, labels=labels)\n",
        "    auc = roc_auc_score(predictions, labels, labels=labels)\n",
        "    recall_arr.append(recall)\n",
        "    precision_arr.append(precision)\n",
        "    auc_arr.append(auc)\n",
        "    labels_arr += labels.tolist()\n",
        "    predictions_arr += predictions.tolist()\n",
        "\n",
        "print(my_cm_dec(labels_arr, predictions_arr))\n",
        "print(sum(my_cm_dec(labels_arr, predictions_arr)))\n",
        "\n",
        "print(f'Average Accuracy: {sum(accuracy_arr)/len(accuracy_arr)}')\n",
        "print(f'Average Cost/Loss: {sum(loss_arr)/len(loss_arr)}')\n",
        "print(f'Average F1 score:\\t{np.average(np.array(f1_arr))}')\n",
        "print(f'Average AUC score:\\t{np.average(np.array(auc_arr))}')\n",
        "print(f'Average Recall score:\\t{np.average(np.array(recall_arr))}')\n",
        "print(f'Average Precision score:\\t{np.average(np.array(precision_arr))}')\n"
      ],
      "metadata": {
        "colab": {
          "base_uri": "https://localhost:8080/",
          "height": 649
        },
        "id": "T5R966ZVDtFb",
        "outputId": "e60b4e0d-b3e1-4f8b-d0d9-166b723ea6fc"
      },
      "execution_count": null,
      "outputs": [
        {
          "output_type": "display_data",
          "data": {
            "text/plain": [
              "<Figure size 432x288 with 2 Axes>"
            ],
            "image/png": "[encoded data removed]"
          },
          "metadata": {
            "needs_background": "light"
          }
        },
        {
          "output_type": "stream",
          "name": "stdout",
          "text": [
            "[2507  360  649 4070]\n"
          ]
        },
        {
          "output_type": "display_data",
          "data": {
            "text/plain": [
              "<Figure size 432x288 with 2 Axes>"
            ],
            "image/png": "[encoded data removed]"
          },
          "metadata": {
            "needs_background": "light"
          }
        },
        {
          "output_type": "stream",
          "name": "stdout",
          "text": [
            "7586\n",
            "Average Accuracy: 0.8695776973317657\n",
            "Average Cost/Loss: 0.2968045473098755\n",
            "Average F1 score:\t0.8868594165540409\n",
            "Average AUC score:\t0.8543832699876943\n",
            "Average Recall score:\t0.9152477686708237\n",
            "Average Precision score:\t0.8620050447579589\n"
          ]
        }
      ]
    },
    {
      "cell_type": "markdown",
      "source": [
        "Cross Validation"
      ],
      "metadata": {
        "id": "mupDlOaBNJi_"
      }
    },
    {
      "cell_type": "code",
      "source": [
        "def reset_weights(m):\n",
        "  for layer in m.children():\n",
        "   if hasattr(layer, 'reset_parameters'):\n",
        "    print(f'Reset trainable parameters of layer = {layer}')\n",
        "    layer.reset_parameters()"
      ],
      "metadata": {
        "id": "9N8vVf1CGlDm"
      },
      "execution_count": null,
      "outputs": []
    },
    {
      "cell_type": "code",
      "source": [
        "def stdev(test_list):\n",
        "  mean = sum(test_list) / len(test_list)\n",
        "  return (sum([((x - mean) ** 2) for x in test_list]) / len(test_list)) ** 0.5"
      ],
      "metadata": {
        "id": "MJskkOzoGJFR"
      },
      "execution_count": null,
      "outputs": []
    },
    {
      "cell_type": "code",
      "source": [
        "start = time.perf_counter()\n",
        "loss_function = nn.BCELoss()\n",
        "\n",
        "num_batch = 128\n",
        "num_epochs = 10\n",
        "accuracy_arr=[]\n",
        "loss_arr=[]\n",
        "f1_arr = []\n",
        "recall_arr=[]\n",
        "precision_arr=[]\n",
        "labels_arr=[]\n",
        "predictions_arr=[]\n",
        "f1_fold=[]\n",
        "auc_arr=[]\n",
        "for train_index, test_index in kfold.split(X,y):\n",
        "  X_train, X_test = X.iloc[train_index], X.iloc[test_index]\n",
        "  y_train, y_test = y.iloc[train_index], y.iloc[test_index]\n",
        "  train_loader=torch.utils.data.DataLoader(data_class(X_train,y_train),batch_size=num_batch,shuffle=True)\n",
        "  test_loader=torch.utils.data.DataLoader(data_class(X_test,y_test), batch_size=num_batch, shuffle=True)\n",
        "  model = ANN(141, 1)\n",
        "  model.to(device)\n",
        "  model.apply(reset_weights)\n",
        "  optimizer = torch.optim.Adam(model.parameters())\n",
        "  for epoch in range(num_epochs):\n",
        "    for i, (samples,labels) in enumerate (train_loader):\n",
        "      samples = samples.to(device)\n",
        "      labels = labels.to(device)\n",
        "\n",
        "      output = model.forward(samples)\n",
        "      loss = loss_function(output, labels)\n",
        "\n",
        "      optimizer.zero_grad()\n",
        "      loss.backward()\n",
        "      optimizer.step()\n",
        "\n",
        "      if (i+1) % 100 == 0:\n",
        "        print(f'epoch {epoch+1} / {num_epochs}, step {i+1}/{total_steps}, loss = {loss.item():.4f}')\n",
        "      \n",
        "    with torch.no_grad():\n",
        "      corr_num = 0\n",
        "      sample_num=0\n",
        "\n",
        "      for indiv, labels in test_loader:\n",
        "        indiv =   indiv.to(device)\n",
        "        labels = labels.to(device)\n",
        "        \n",
        "        output = model(indiv)\n",
        "\n",
        "        sample_num += labels.shape[0]\n",
        "        predictions = torch.round(output)\n",
        "        corr_num += (predictions == labels).sum().item()\n",
        "\n",
        "\n",
        "\n",
        "        loss = loss_function(output, labels)\n",
        "        loss_arr.append(loss)\n",
        "        accuracy = corr_num / sample_num\n",
        "        accuracy_arr.append(accuracy)\n",
        "\n",
        "        f1 = f1_score(predictions, labels, labels=labels)\n",
        "        f1_arr.append(f1)\n",
        "        recall = recall_score(predictions, labels, labels=labels)\n",
        "        #precision = precision_score(predictions, labels, labels=labels)\n",
        "        auc=roc_auc_score(predictions, labels, labels=labels)\n",
        "        f1_arr.append(f1)\n",
        "        auc_arr.append(auc)\n",
        "        recall_arr.append(recall)\n",
        "        #precision_arr.append(precision)\n",
        "        labels_arr += labels.tolist()\n",
        "        predictions_arr += predictions.tolist()\n",
        "    #print(my_cm_dec(labels_arr, predictions_arr))\n",
        "print(my_cm_dec(labels_arr, predictions_arr))\n",
        "\n",
        "print(f'Average Accuracy: {sum(accuracy_arr)/len(accuracy_arr)}')\n",
        "print(f'Average Cost/Loss: {sum(loss_arr)/len(loss_arr)}')\n",
        "print(f'Average F1 score:\\t{np.average(np.array(f1_arr))}')\n",
        "print(f'Average AUC score:\\t{np.average(np.array(auc_arr))}')\n",
        "print(f'Average Recall score:\\t{np.average(np.array(recall_arr))}')\n",
        "print(f'Average Precision score:\\t{np.average(np.array(precision_arr))}')\n",
        "print(stdev(auc_arr))\n",
        "print(stdev(f1_arr))\n",
        "end = time.perf_counter()\n",
        "print(\"TIME:\",(end-start)/60,\"min\")"
      ],
      "metadata": {
        "colab": {
          "base_uri": "https://localhost:8080/",
          "height": 1000
        },
        "id": "tJkymy7awJ3o",
        "outputId": "d8f52423-2688-43f2-b6fe-4a8a6cd9a6c8"
      },
      "execution_count": null,
      "outputs": [
        {
          "output_type": "stream",
          "name": "stdout",
          "text": [
            "Reset trainable parameters of layer = Linear(in_features=141, out_features=128, bias=True)\n",
            "Reset trainable parameters of layer = Linear(in_features=128, out_features=64, bias=True)\n",
            "Reset trainable parameters of layer = Linear(in_features=64, out_features=32, bias=True)\n",
            "Reset trainable parameters of layer = Linear(in_features=32, out_features=16, bias=True)\n",
            "Reset trainable parameters of layer = Linear(in_features=16, out_features=8, bias=True)\n",
            "Reset trainable parameters of layer = Linear(in_features=8, out_features=1, bias=True)\n",
            "Reset trainable parameters of layer = BatchNorm1d(8, eps=1e-05, momentum=0.1, affine=True, track_running_stats=True)\n",
            "epoch 1 / 10, step 100/238, loss = 0.4917\n",
            "epoch 1 / 10, step 200/238, loss = 0.4655\n",
            "epoch 2 / 10, step 100/238, loss = 0.3911\n",
            "epoch 2 / 10, step 200/238, loss = 0.4018\n",
            "epoch 3 / 10, step 100/238, loss = 0.3182\n",
            "epoch 3 / 10, step 200/238, loss = 0.3017\n",
            "epoch 4 / 10, step 100/238, loss = 0.3045\n",
            "epoch 4 / 10, step 200/238, loss = 0.2439\n",
            "epoch 5 / 10, step 100/238, loss = 0.3548\n",
            "epoch 5 / 10, step 200/238, loss = 0.3285\n",
            "epoch 6 / 10, step 100/238, loss = 0.3839\n",
            "epoch 6 / 10, step 200/238, loss = 0.2811\n",
            "epoch 7 / 10, step 100/238, loss = 0.3011\n",
            "epoch 7 / 10, step 200/238, loss = 0.2937\n",
            "epoch 8 / 10, step 100/238, loss = 0.2081\n",
            "epoch 8 / 10, step 200/238, loss = 0.2706\n",
            "epoch 9 / 10, step 100/238, loss = 0.1684\n",
            "epoch 9 / 10, step 200/238, loss = 0.2151\n",
            "epoch 10 / 10, step 100/238, loss = 0.2648\n",
            "epoch 10 / 10, step 200/238, loss = 0.2774\n",
            "Reset trainable parameters of layer = Linear(in_features=141, out_features=128, bias=True)\n",
            "Reset trainable parameters of layer = Linear(in_features=128, out_features=64, bias=True)\n",
            "Reset trainable parameters of layer = Linear(in_features=64, out_features=32, bias=True)\n",
            "Reset trainable parameters of layer = Linear(in_features=32, out_features=16, bias=True)\n",
            "Reset trainable parameters of layer = Linear(in_features=16, out_features=8, bias=True)\n",
            "Reset trainable parameters of layer = Linear(in_features=8, out_features=1, bias=True)\n",
            "Reset trainable parameters of layer = BatchNorm1d(8, eps=1e-05, momentum=0.1, affine=True, track_running_stats=True)\n",
            "epoch 1 / 10, step 100/238, loss = 0.4262\n",
            "epoch 1 / 10, step 200/238, loss = 0.4356\n",
            "epoch 2 / 10, step 100/238, loss = 0.3475\n",
            "epoch 2 / 10, step 200/238, loss = 0.2924\n",
            "epoch 3 / 10, step 100/238, loss = 0.2065\n",
            "epoch 3 / 10, step 200/238, loss = 0.3181\n",
            "epoch 4 / 10, step 100/238, loss = 0.2583\n",
            "epoch 4 / 10, step 200/238, loss = 0.3334\n",
            "epoch 5 / 10, step 100/238, loss = 0.2077\n",
            "epoch 5 / 10, step 200/238, loss = 0.3423\n",
            "epoch 6 / 10, step 100/238, loss = 0.2162\n",
            "epoch 6 / 10, step 200/238, loss = 0.2656\n",
            "epoch 7 / 10, step 100/238, loss = 0.3324\n",
            "epoch 7 / 10, step 200/238, loss = 0.3362\n",
            "epoch 8 / 10, step 100/238, loss = 0.2466\n",
            "epoch 8 / 10, step 200/238, loss = 0.2227\n",
            "epoch 9 / 10, step 100/238, loss = 0.2070\n",
            "epoch 9 / 10, step 200/238, loss = 0.2388\n",
            "epoch 10 / 10, step 100/238, loss = 0.2458\n",
            "epoch 10 / 10, step 200/238, loss = 0.2349\n",
            "Reset trainable parameters of layer = Linear(in_features=141, out_features=128, bias=True)\n",
            "Reset trainable parameters of layer = Linear(in_features=128, out_features=64, bias=True)\n",
            "Reset trainable parameters of layer = Linear(in_features=64, out_features=32, bias=True)\n",
            "Reset trainable parameters of layer = Linear(in_features=32, out_features=16, bias=True)\n",
            "Reset trainable parameters of layer = Linear(in_features=16, out_features=8, bias=True)\n",
            "Reset trainable parameters of layer = Linear(in_features=8, out_features=1, bias=True)\n",
            "Reset trainable parameters of layer = BatchNorm1d(8, eps=1e-05, momentum=0.1, affine=True, track_running_stats=True)\n",
            "epoch 1 / 10, step 100/238, loss = 0.5683\n",
            "epoch 1 / 10, step 200/238, loss = 0.5190\n",
            "epoch 2 / 10, step 100/238, loss = 0.4709\n",
            "epoch 2 / 10, step 200/238, loss = 0.4332\n",
            "epoch 3 / 10, step 100/238, loss = 0.3684\n",
            "epoch 3 / 10, step 200/238, loss = 0.3485\n",
            "epoch 4 / 10, step 100/238, loss = 0.3577\n",
            "epoch 4 / 10, step 200/238, loss = 0.2789\n",
            "epoch 5 / 10, step 100/238, loss = 0.2788\n",
            "epoch 5 / 10, step 200/238, loss = 0.3101\n",
            "epoch 6 / 10, step 100/238, loss = 0.2755\n",
            "epoch 6 / 10, step 200/238, loss = 0.3440\n",
            "epoch 7 / 10, step 100/238, loss = 0.2618\n",
            "epoch 7 / 10, step 200/238, loss = 0.2156\n",
            "epoch 8 / 10, step 100/238, loss = 0.3345\n",
            "epoch 8 / 10, step 200/238, loss = 0.2542\n",
            "epoch 9 / 10, step 100/238, loss = 0.2484\n",
            "epoch 9 / 10, step 200/238, loss = 0.3105\n",
            "epoch 10 / 10, step 100/238, loss = 0.2618\n",
            "epoch 10 / 10, step 200/238, loss = 0.2319\n",
            "Reset trainable parameters of layer = Linear(in_features=141, out_features=128, bias=True)\n",
            "Reset trainable parameters of layer = Linear(in_features=128, out_features=64, bias=True)\n",
            "Reset trainable parameters of layer = Linear(in_features=64, out_features=32, bias=True)\n",
            "Reset trainable parameters of layer = Linear(in_features=32, out_features=16, bias=True)\n",
            "Reset trainable parameters of layer = Linear(in_features=16, out_features=8, bias=True)\n",
            "Reset trainable parameters of layer = Linear(in_features=8, out_features=1, bias=True)\n",
            "Reset trainable parameters of layer = BatchNorm1d(8, eps=1e-05, momentum=0.1, affine=True, track_running_stats=True)\n",
            "epoch 1 / 10, step 100/238, loss = 0.4072\n",
            "epoch 1 / 10, step 200/238, loss = 0.3787\n",
            "epoch 2 / 10, step 100/238, loss = 0.3106\n",
            "epoch 2 / 10, step 200/238, loss = 0.3476\n",
            "epoch 3 / 10, step 100/238, loss = 0.3370\n",
            "epoch 3 / 10, step 200/238, loss = 0.3138\n",
            "epoch 4 / 10, step 100/238, loss = 0.3361\n",
            "epoch 4 / 10, step 200/238, loss = 0.2805\n",
            "epoch 5 / 10, step 100/238, loss = 0.2703\n",
            "epoch 5 / 10, step 200/238, loss = 0.2547\n",
            "epoch 6 / 10, step 100/238, loss = 0.2236\n",
            "epoch 6 / 10, step 200/238, loss = 0.3481\n",
            "epoch 7 / 10, step 100/238, loss = 0.3089\n",
            "epoch 7 / 10, step 200/238, loss = 0.2166\n",
            "epoch 8 / 10, step 100/238, loss = 0.2669\n",
            "epoch 8 / 10, step 200/238, loss = 0.1858\n",
            "epoch 9 / 10, step 100/238, loss = 0.2620\n",
            "epoch 9 / 10, step 200/238, loss = 0.2720\n",
            "epoch 10 / 10, step 100/238, loss = 0.2470\n",
            "epoch 10 / 10, step 200/238, loss = 0.1822\n",
            "Reset trainable parameters of layer = Linear(in_features=141, out_features=128, bias=True)\n",
            "Reset trainable parameters of layer = Linear(in_features=128, out_features=64, bias=True)\n",
            "Reset trainable parameters of layer = Linear(in_features=64, out_features=32, bias=True)\n",
            "Reset trainable parameters of layer = Linear(in_features=32, out_features=16, bias=True)\n",
            "Reset trainable parameters of layer = Linear(in_features=16, out_features=8, bias=True)\n",
            "Reset trainable parameters of layer = Linear(in_features=8, out_features=1, bias=True)\n",
            "Reset trainable parameters of layer = BatchNorm1d(8, eps=1e-05, momentum=0.1, affine=True, track_running_stats=True)\n",
            "epoch 1 / 10, step 100/238, loss = 0.5077\n",
            "epoch 1 / 10, step 200/238, loss = 0.4153\n",
            "epoch 2 / 10, step 100/238, loss = 0.3609\n",
            "epoch 2 / 10, step 200/238, loss = 0.3045\n",
            "epoch 3 / 10, step 100/238, loss = 0.3617\n",
            "epoch 3 / 10, step 200/238, loss = 0.3131\n",
            "epoch 4 / 10, step 100/238, loss = 0.3035\n",
            "epoch 4 / 10, step 200/238, loss = 0.2656\n",
            "epoch 5 / 10, step 100/238, loss = 0.2016\n",
            "epoch 5 / 10, step 200/238, loss = 0.2172\n",
            "epoch 6 / 10, step 100/238, loss = 0.2480\n",
            "epoch 6 / 10, step 200/238, loss = 0.2949\n",
            "epoch 7 / 10, step 100/238, loss = 0.2475\n",
            "epoch 7 / 10, step 200/238, loss = 0.2747\n",
            "epoch 8 / 10, step 100/238, loss = 0.2912\n",
            "epoch 8 / 10, step 200/238, loss = 0.1812\n",
            "epoch 9 / 10, step 100/238, loss = 0.2225\n",
            "epoch 9 / 10, step 200/238, loss = 0.2521\n",
            "epoch 10 / 10, step 100/238, loss = 0.2220\n",
            "epoch 10 / 10, step 200/238, loss = 0.3117\n"
          ]
        },
        {
          "output_type": "display_data",
          "data": {
            "text/plain": [
              "<Figure size 432x288 with 2 Axes>"
            ],
            "image/png": "[encoded data removed]"
          },
          "metadata": {
            "needs_background": "light"
          }
        },
        {
          "output_type": "stream",
          "name": "stdout",
          "text": [
            "[122271  23229  30613 203147]\n",
            "Average Accuracy: 0.8575186396503683\n",
            "Average Cost/Loss: 0.32156699895858765\n",
            "Average F1 score:\t0.8826778424803652\n",
            "Average AUC score:\t0.8495001793237804\n",
            "Average Recall score:\t0.8986378717296493\n",
            "Average Precision score:\tnan\n",
            "0.034862167991021535\n",
            "0.029144312418924852\n",
            "TIME: 1.0982844058166676 min\n"
          ]
        },
        {
          "output_type": "stream",
          "name": "stderr",
          "text": [
            "/usr/local/lib/python3.8/dist-packages/numpy/lib/function_base.py:380: RuntimeWarning: Mean of empty slice.\n",
            "  avg = a.mean(axis)\n",
            "/usr/local/lib/python3.8/dist-packages/numpy/core/_methods.py:189: RuntimeWarning: invalid value encountered in double_scalars\n",
            "  ret = ret.dtype.type(ret / rcount)\n"
          ]
        }
      ]
    },
    {
      "cell_type": "code",
      "source": [
        "labels=np.array(labels_arr).flatten()\n",
        "predictions=np.array(predictions_arr).flatten()"
      ],
      "metadata": {
        "id": "Be7ai7XbefkA"
      },
      "execution_count": null,
      "outputs": []
    },
    {
      "cell_type": "code",
      "source": [
        "state=data[[\"st_AK\",\n",
        "\"st_AL\",\n",
        "\"st_AR\",\n",
        "\"st_AZ\",\n",
        "\"st_CA\",\n",
        "\"st_CO\",\n",
        "\"st_CT\",\n",
        "\"st_DC\",\n",
        "\"st_DE\",\n",
        "\"st_FL\",\n",
        "\"st_GA\",\n",
        "\"st_HI\",\n",
        "\"st_IA\",\n",
        "\"st_ID\",\n",
        "\"st_IL\",\n",
        "\"st_IN\",\n",
        "\"st_KS\",\n",
        "\"st_KY\",\n",
        "\"st_LA\",\n",
        "\"st_MA\",\n",
        "\"st_MD\",\n",
        "\"st_ME\",\n",
        "\"st_MI\",\n",
        "\"st_MN\",\n",
        "\"st_MO\",\n",
        "\"st_MS\",\n",
        "\"st_MT\",\n",
        "\"st_NC\",\n",
        "\"st_ND\",\n",
        "\"st_NE\",\n",
        "\"st_NH\",\n",
        "\"st_NJ\",\n",
        "\"st_NM\",\n",
        "\"st_NV\",\n",
        "\"st_NY\",\n",
        "\"st_OH\",\n",
        "\"st_OK\",\n",
        "\"st_OR\",\n",
        "\"st_PA\",\n",
        "\"st_PR\",\n",
        "\"st_RI\",\n",
        "\"st_SC\",\n",
        "\"st_SD\",\n",
        "\"st_TN\",\n",
        "\"st_TX\",\n",
        "\"st_UT\",\n",
        "\"st_VA\",\n",
        "\"st_VT\",\n",
        "\"st_WA\",\n",
        "\"st_WI\",\n",
        "\"st_WV\",\n",
        "\"st_WY\"]].idxmax(axis=1)\n",
        "\n",
        "mapping={\"st_AK\":\"West\",\n",
        "\"st_AZ\":\"West\",\n",
        "\"st_CA\":\"West\",\n",
        "\"st_CO\":\"West\",\n",
        "\"st_HI\":\"West\",\n",
        "\"st_ID\":\"West\",\n",
        "\"st_MT\":\"West\",\n",
        "\"st_NM\":\"West\",\n",
        "\"st_NV\":\"West\",\n",
        "\"st_OR\":\"West\",\n",
        "\"st_UT\":\"West\",\n",
        "\"st_WA\":\"West\",\n",
        "\"st_WY\":\"West\",\n",
        "\"st_AL\":\"South\",\n",
        "\"st_AR\":\"South\",\n",
        "\"st_DC\":\"South\",\n",
        "\"st_DE\":\"South\",\n",
        "\"st_FL\":\"South\",\n",
        "\"st_GA\":\"South\",\n",
        "\"st_KY\":\"South\",\n",
        "\"st_LA\":\"South\",\n",
        "\"st_MD\":\"South\",\n",
        "\"st_MS\":\"South\",\n",
        "\"st_NC\":\"South\",\n",
        "\"st_OK\":\"South\",\n",
        "\"st_PR\":\"South\",\n",
        "\"st_SC\":\"South\",\n",
        "\"st_TN\":\"South\",\n",
        "\"st_TX\":\"South\",\n",
        "\"st_VA\":\"South\",\n",
        "\"st_WV\":\"South\",\n",
        "\"st_CT\":\"Northeast\",\n",
        "\"st_ME\":\"Northeast\",\n",
        "\"st_MA\":\"Northeast\",\n",
        "\"st_NH\":\"Northeast\",\n",
        "\"st_NJ\":\"Northeast\",\n",
        "\"st_NY\":\"Northeast\",\n",
        "\"st_PA\":\"Northeast\",\n",
        "\"st_RI\":\"Northeast\",\n",
        "\"st_VT\":\"Northeast\",\n",
        "\"st_IA\":\"Midwest\",\n",
        "\"st_IL\":\"Midwest\",\n",
        "\"st_IN\":\"Midwest\",\n",
        "\"st_KS\":\"Midwest\",\n",
        "\"st_MI\":\"Midwest\",\n",
        "\"st_MN\":\"Midwest\",\n",
        "\"st_MO\":\"Midwest\",\n",
        "\"st_ND\":\"Midwest\",\n",
        "\"st_NE\":\"Midwest\",\n",
        "\"st_OH\":\"Midwest\",\n",
        "\"st_SD\":\"Midwest\",\n",
        "\"st_WI\":\"Midwest\"\n",
        "}\n",
        "region =state.map(mapping)"
      ],
      "metadata": {
        "id": "RDceAnwrfTdU"
      },
      "execution_count": null,
      "outputs": []
    },
    {
      "cell_type": "code",
      "source": [
        "print(\"Female by Percenct\")\n",
        "\n",
        "print(my_cm_dec(labels[X.index[X['sex_female'] == True].tolist()],predictions[X.index[X['sex_female'] == True].tolist()]))\n",
        "plt.show()\n",
        "print(\"Male by Percenct\")\n",
        "print(my_cm_dec(labels[X.index[X['sex_male'] == True].tolist()],predictions[X.index[X['sex_male'] == True].tolist()]))\n",
        "plt.show()\n",
        "\n",
        "for i in ['South', 'Midwest', \"Northeast\", 'West']:\n",
        "  print(\"Breakdown by {}\".format(i))\n",
        "  print(my_cm_dec(labels[region.index[region == i]], predictions[region.index[region == i]]))\n",
        "  plt.show()\n",
        "\n",
        "for i in ['white', 'blkafram']:\n",
        "  print(\"Breakdown by {}\".format(i))\n",
        "\n",
        "  print(\"YES - By percent\")\n",
        "  print(my_cm_dec(labels[X.index[X[i+'_yes']==True].tolist()],predictions[X.index[X[i+'_yes'] == True].tolist()]))\n",
        "  plt.show()\n",
        "\n",
        "  print(\"NO - by percent\")\n",
        "  print(my_cm_dec(labels[X.index[X[i+'_no'] == True].tolist()],predictions[X.index[X[i+'_no'] == True].tolist()]))\n",
        "  plt.show()"
      ],
      "metadata": {
        "id": "8l9siW7tEEkb",
        "colab": {
          "base_uri": "https://localhost:8080/",
          "height": 1000
        },
        "outputId": "6aa9dde8-f810-4804-ab11-fe62ad2cbf58"
      },
      "execution_count": null,
      "outputs": [
        {
          "output_type": "stream",
          "name": "stdout",
          "text": [
            "Female by Percenct\n"
          ]
        },
        {
          "output_type": "display_data",
          "data": {
            "text/plain": [
              "<Figure size 432x288 with 2 Axes>"
            ],
            "image/png": "[encoded data removed]"
          },
          "metadata": {
            "needs_background": "light"
          }
        },
        {
          "output_type": "stream",
          "name": "stdout",
          "text": [
            "[5882 1079 1577 9668]\n",
            "Male by Percenct\n"
          ]
        },
        {
          "output_type": "display_data",
          "data": {
            "text/plain": [
              "<Figure size 432x288 with 2 Axes>"
            ],
            "image/png": "[encoded data removed]"
          },
          "metadata": {
            "needs_background": "light"
          }
        },
        {
          "output_type": "stream",
          "name": "stdout",
          "text": [
            "[5797 1059 1431 9449]\n",
            "Breakdown by South\n"
          ]
        },
        {
          "output_type": "display_data",
          "data": {
            "text/plain": [
              "<Figure size 432x288 with 2 Axes>"
            ],
            "image/png": "[encoded data removed]"
          },
          "metadata": {
            "needs_background": "light"
          }
        },
        {
          "output_type": "stream",
          "name": "stdout",
          "text": [
            "[5464 1055 1459 8896]\n",
            "Breakdown by Midwest\n"
          ]
        },
        {
          "output_type": "display_data",
          "data": {
            "text/plain": [
              "<Figure size 432x288 with 2 Axes>"
            ],
            "image/png": "[encoded data removed]"
          },
          "metadata": {
            "needs_background": "light"
          }
        },
        {
          "output_type": "stream",
          "name": "stdout",
          "text": [
            "[3406  659  942 5733]\n",
            "Breakdown by Northeast\n"
          ]
        },
        {
          "output_type": "display_data",
          "data": {
            "text/plain": [
              "<Figure size 432x288 with 2 Axes>"
            ],
            "image/png": "[encoded data removed]"
          },
          "metadata": {
            "needs_background": "light"
          }
        },
        {
          "output_type": "stream",
          "name": "stdout",
          "text": [
            "[2157  438  566 3416]\n",
            "Breakdown by West\n"
          ]
        },
        {
          "output_type": "display_data",
          "data": {
            "text/plain": [
              "<Figure size 432x288 with 2 Axes>"
            ],
            "image/png": "[encoded data removed]"
          },
          "metadata": {
            "needs_background": "light"
          }
        },
        {
          "output_type": "stream",
          "name": "stdout",
          "text": [
            "[3584  689  916 5984]\n",
            "Breakdown by white\n",
            "YES - By percent\n"
          ]
        },
        {
          "output_type": "display_data",
          "data": {
            "text/plain": [
              "<Figure size 432x288 with 2 Axes>"
            ],
            "image/png": "[encoded data removed]"
          },
          "metadata": {
            "needs_background": "light"
          }
        },
        {
          "output_type": "stream",
          "name": "stdout",
          "text": [
            "[ 8017  1452  2051 13259]\n",
            "NO - by percent\n"
          ]
        },
        {
          "output_type": "display_data",
          "data": {
            "text/plain": [
              "<Figure size 432x288 with 2 Axes>"
            ],
            "image/png": "[encoded data removed]"
          },
          "metadata": {
            "needs_background": "light"
          }
        },
        {
          "output_type": "stream",
          "name": "stdout",
          "text": [
            "[4042  754 1057 6500]\n",
            "Breakdown by blkafram\n",
            "YES - By percent\n"
          ]
        },
        {
          "output_type": "display_data",
          "data": {
            "text/plain": [
              "<Figure size 432x288 with 2 Axes>"
            ],
            "image/png": "[encoded data removed]"
          },
          "metadata": {
            "needs_background": "light"
          }
        },
        {
          "output_type": "stream",
          "name": "stdout",
          "text": [
            "[3903  720 1006 6243]\n",
            "NO - by percent\n"
          ]
        },
        {
          "output_type": "display_data",
          "data": {
            "text/plain": [
              "<Figure size 432x288 with 2 Axes>"
            ],
            "image/png": "[encoded data removed]"
          },
          "metadata": {
            "needs_background": "light"
          }
        },
        {
          "output_type": "stream",
          "name": "stdout",
          "text": [
            "[ 8143  1486  2097 13434]\n"
          ]
        }
      ]
    }
  ]
}