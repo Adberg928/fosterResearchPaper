{
  "nbformat": 4,
  "nbformat_minor": 0,
  "metadata": {
    "colab": {
      "provenance": []
    },
    "kernelspec": {
      "name": "python3",
      "display_name": "Python 3"
    },
    "language_info": {
      "name": "python"
    }
  },
  "cells": [
    {
      "cell_type": "markdown",
      "source": [
        "#Mount Drive + Load Libraries#"
      ],
      "metadata": {
        "id": "fyzbDZk5aiNS"
      }
    },
    {
      "cell_type": "code",
      "execution_count": null,
      "metadata": {
        "colab": {
          "base_uri": "https://localhost:8080/"
        },
        "id": "SFrwtuWe3DEO",
        "outputId": "e087637d-1b44-48ee-a24c-e6cde737a2dc"
      },
      "outputs": [
        {
          "output_type": "stream",
          "name": "stdout",
          "text": [
            "Mounted at /content/drive/\n",
            "/content/drive/Shareddrives/CSCI 461\n"
          ]
        }
      ],
      "source": [
        "# mount drive\n",
        "from google.colab import drive\n",
        "drive.mount('/content/drive/')\n",
        "%cd 'drive/Shareddrives/CSCI 461'"
      ]
    },
    {
      "cell_type": "code",
      "source": [
        "# python libraries\n",
        "import pandas as pd\n",
        "import torch \n",
        "import torch.nn as nn\n",
        "from datetime import date\n",
        "import os\n",
        "import matplotlib.pyplot as plt\n",
        "from sklearn.utils import shuffle\n",
        "from sklearn.metrics import f1_score, recall_score, precision_score, confusion_matrix, roc_auc_score\n",
        "import numpy as np\n",
        "from sklearn.metrics import f1_score\n",
        "from sklearn.model_selection import StratifiedKFold, train_test_split\n",
        "import seaborn as sns\n",
        "from sklearn.preprocessing import MinMaxScaler\n",
        "from imblearn.combine import SMOTEENN\n",
        "kfold = StratifiedKFold(n_splits=5,shuffle=True,random_state=11)\n",
        "\n",
        "device = torch.device(\"cuda\") if torch.cuda.is_available() else torch.device(\"cpu\")"
      ],
      "metadata": {
        "id": "orOUi10Y3-5y"
      },
      "execution_count": null,
      "outputs": []
    },
    {
      "cell_type": "markdown",
      "source": [
        "#ANN Modeling#"
      ],
      "metadata": {
        "id": "GEvGVIrAaz_C"
      }
    },
    {
      "cell_type": "code",
      "source": [
        "# Importing the data\n",
        "data = pd.read_csv(\"processed/combined_ohe_17.csv\")\n",
        "edu_matrix = data[[\"highedcert_associate degree\",\"highedcert_bachelor degree\",\"highedcert_high school or ged\",\n",
        "                  \"highedcert_higher degree\",\"highedcert_none of the above\",\"highedcert_vocational certificate\",\n",
        "                  \"highedcert_vocational license\"]]\n",
        "data[\"edu_categorical\"] = edu_matrix.idxmax(axis=1)\n",
        "\n",
        "# making education binary\n",
        "educationBinary = \\\n",
        "{   \n",
        "    \"highedcert_associate degree\": 1,\n",
        "    \"highedcert_bachelor degree\": 1,\n",
        "    \"highedcert_high school or ged\": 1,\n",
        "    \"highedcert_higher degree\": 1,\n",
        "    \"highedcert_none of the above\":0,\n",
        "    \"highedcert_vocational certificate\": 1,\n",
        "    \"highedcert_vocational license\": 1\n",
        "}\n",
        "\n",
        "# drop features\n",
        "data.drop(columns=['specedsv_No',\n",
        " 'specedsv_Yes',\n",
        " 'ilnasv_No',\n",
        " 'ilnasv_Yes',\n",
        " 'acsuppsv_No',\n",
        " 'acsuppsv_Yes',\n",
        " 'psedsuppsv_No',\n",
        " 'psedsuppsv_Yes',\n",
        " 'careersv_No',\n",
        " 'careersv_Yes',\n",
        " 'emplytrsv_No',\n",
        " 'emplytrsv_Yes',\n",
        " 'budgetsv_No',\n",
        " 'budgetsv_Yes',\n",
        " 'housedsv_No',\n",
        " 'housedsv_Yes',\n",
        " 'hlthedsv_No',\n",
        " 'hlthedsv_Yes',\n",
        " 'famsuppsv_No',\n",
        " 'famsuppsv_Yes',\n",
        " 'mentorsv_No',\n",
        " 'mentorsv_Yes',\n",
        " 'silsv_No',\n",
        " 'silsv_Yes',\n",
        " 'rmbrdfasv_No',\n",
        " 'rmbrdfasv_Yes',\n",
        " 'educfinasv_No',\n",
        " 'educfinasv_Yes',\n",
        " 'othrfinasv_No',\n",
        " 'othrfinasv_Yes'], axis=1, inplace=True)\n",
        "\n",
        "data['edu_binary'] = data[\"edu_categorical\"].map(educationBinary) \n",
        "\n",
        "# dropping overlap variables (and other outcome features, recnumbr)\n",
        "data.drop(columns=[\"recnumbr\", \"highedcert_associate degree\",\"highedcert_bachelor degree\",\"highedcert_high school or ged\",\n",
        "                  \"highedcert_higher degree\",\"highedcert_none of the above\",\"highedcert_vocational certificate\",\n",
        "                  \"highedcert_vocational license\",\"edu_categorical\", 'edu_binary','homeless_no','homeless_yes',\n",
        "                   'subabuse_no', 'incarc_no', 'incarc_yes', 'edu_categorical',  'currpte_yes', 'currpte_no','currfte_yes', \n",
        "                   'currfte_no','age'], axis=1, inplace=True)\n",
        "\n",
        "# filtering for age 19+ and balancing the class\n",
        "#data = data[data['age']>18].sort_values('edu_binary').iloc[:1084*2,:]\n",
        "target=\"subabuse_yes\"\n",
        "# Setting target variables\n",
        "data = data.sample(frac=1)\n",
        "y = data.loc[:,target]\n",
        "X = data.loc[:,data.columns !=target]\n",
        "\n",
        "# Feature scaling \n",
        "# scaler = MinMaxScaler((-1,1))\n",
        "# X['age'] = scaler.fit_transform(np.array(X['age']).reshape(-1, 1))\n",
        "\n"
      ],
      "metadata": {
        "id": "SvC37nBuqNuI"
      },
      "execution_count": null,
      "outputs": []
    },
    {
      "cell_type": "code",
      "source": [
        "# OVER SAMPLING\n",
        "# over = pd.DataFrame()\n",
        "# for i in range(2):\n",
        "#   over=over.append(data[data[\"subabuse_yes\"] == 1])\n",
        "# over=over.append(data[data[\"subabuse_yes\"] == 1].iloc[:int(5980 /2),:])\n",
        "# data=data.append(over).sample(frac=1)\n",
        "# y = data.loc[:,target]\n",
        "# X = data.loc[:,data.columns != target]\n",
        "smote_enn = SMOTEENN(random_state=0)\n",
        "X, y = smote_enn.fit_resample(X, y)\n",
        "X_train, X_test, y_train, y_test = train_test_split(X, y, test_size = 0.2, random_state = 0)"
      ],
      "metadata": {
        "id": "MF6g8ls3-Qie"
      },
      "execution_count": null,
      "outputs": []
    },
    {
      "cell_type": "code",
      "source": [
        "def my_cm_dec(y,y_pred):\n",
        "  cm = confusion_matrix(y,y_pred)\n",
        "  # print(cm.ravel())\n",
        "  # print('(tn, fp, fn, tp)')\n",
        "  n=sum(cm.ravel()[:2])\n",
        "  p=sum(cm.ravel()[2:])\n",
        "  cm_matrix = pd.DataFrame(data=cm, columns=['Predict Negative:0','Predict Positive:1'], \n",
        "                                 index=[ 'Actual Negative:0','Actual Positive:1'])\n",
        "  cm_matrix = cm_matrix.loc[ ['Actual Positive:1','Actual Negative:0'], [ 'Predict Positive:1', 'Predict Negative:0']]\n",
        "  cm_matrix.loc['Actual Positive:1', :] = cm_matrix.loc['Actual Positive:1', :] /p\n",
        "  cm_matrix.loc['Actual Negative:0', :]  = cm_matrix.loc['Actual Negative:0', :] /n\n",
        "  sns.heatmap(cm_matrix, annot=True, cmap='YlGnBu')\n",
        "  plt.show()\n",
        "  return cm.ravel()\n"
      ],
      "metadata": {
        "id": "fSOnZu-ArCM9"
      },
      "execution_count": null,
      "outputs": []
    },
    {
      "cell_type": "code",
      "source": [
        "#data loader for torch\n",
        "class data_class(torch.utils.data.Dataset):\n",
        "  def __init__(self, X,y):\n",
        "    self.x=torch.tensor(X.values,dtype=torch.float32)\n",
        "    self.y=torch.tensor(y.values.reshape(-1,1),dtype=torch.float32)\n",
        "  def __len__(self):\n",
        "    return len(self.y)\n",
        "  def __getitem__(self, idx):\n",
        "    return self.x[idx], self.y[idx]\n",
        "train_loader=torch.utils.data.DataLoader(data_class(X_train,y_train),batch_size=64,shuffle=True)\n",
        "test_loader=torch.utils.data.DataLoader(data_class(X_test,y_test), batch_size=64)"
      ],
      "metadata": {
        "id": "wv7-uAb3iDHv"
      },
      "execution_count": null,
      "outputs": []
    },
    {
      "cell_type": "markdown",
      "source": [
        "Modeling "
      ],
      "metadata": {
        "id": "_zfe5lkWMkBN"
      }
    },
    {
      "cell_type": "code",
      "source": [
        "# viewing data loader\n",
        "print(\"Number of training examples:\", len(train_loader))\n",
        "print(\"Number of testing examples:\", len(test_loader))\n",
        "\n",
        "# features in sample\n",
        "examples = iter(train_loader)\n",
        "samples, labels = examples.next()\n",
        "print(\"Sample shape: \", samples.shape)\n",
        "print(\"Label shape: \", labels.shape)\n",
        "\n",
        "# labels\n",
        "#print(\"Labels: \", labels)"
      ],
      "metadata": {
        "colab": {
          "base_uri": "https://localhost:8080/"
        },
        "id": "eTWfjAU7n2Zn",
        "outputId": "3a0a4729-89ab-485d-f836-17a97a33c4b1"
      },
      "execution_count": null,
      "outputs": [
        {
          "output_type": "stream",
          "name": "stdout",
          "text": [
            "Number of training examples: 328\n",
            "Number of testing examples: 82\n",
            "Sample shape:  torch.Size([64, 111])\n",
            "Label shape:  torch.Size([64, 1])\n"
          ]
        }
      ]
    },
    {
      "cell_type": "code",
      "source": [
        "# defining the model\n",
        "class ANN(nn.Module):\n",
        "  def __init__(self, input_size, num_classes):\n",
        "    super(ANN, self).__init__()\n",
        "    self.relu = nn.ReLU()\n",
        "    self.input_layer = nn.Linear(input_size, 84)\n",
        "    self.hidden1 = nn.Linear(84,64)\n",
        "    self.hidden2 = nn.Linear(64,32)\n",
        "    self.hidden3 = nn.Linear(32,16)\n",
        "    self.hidden4 = nn.Linear(16,8)\n",
        "    self.output_layer= nn.Linear(8,num_classes)\n",
        "    self.activation = nn.Sigmoid()\n",
        "    self.batch_norm = nn.BatchNorm1d(8)\n",
        "  def forward(self, sample):\n",
        "    out = self.input_layer(sample)\n",
        "    out = self.relu(out)\n",
        "    out = self.hidden1(out)\n",
        "    out = self.relu(out)\n",
        "    out = self.hidden2(out)\n",
        "    out = self.relu(out)\n",
        "    out = self.hidden3(out)\n",
        "    out = self.relu(out)\n",
        "    out = self.hidden4(out)\n",
        "    out = self.relu(out)\n",
        "    out = self.batch_norm(out)\n",
        "    return self.activation(self.output_layer(out))\n",
        "model = ANN(111, 1)\n",
        "print(model)"
      ],
      "metadata": {
        "id": "8GmnRGedpc7J",
        "colab": {
          "base_uri": "https://localhost:8080/"
        },
        "outputId": "00c9b9c3-08ad-46de-e673-19ea2659cd8b"
      },
      "execution_count": null,
      "outputs": [
        {
          "output_type": "stream",
          "name": "stdout",
          "text": [
            "ANN(\n",
            "  (relu): ReLU()\n",
            "  (input_layer): Linear(in_features=111, out_features=84, bias=True)\n",
            "  (hidden1): Linear(in_features=84, out_features=64, bias=True)\n",
            "  (hidden2): Linear(in_features=64, out_features=32, bias=True)\n",
            "  (hidden3): Linear(in_features=32, out_features=16, bias=True)\n",
            "  (hidden4): Linear(in_features=16, out_features=8, bias=True)\n",
            "  (output_layer): Linear(in_features=8, out_features=1, bias=True)\n",
            "  (activation): Sigmoid()\n",
            "  (batch_norm): BatchNorm1d(8, eps=1e-05, momentum=0.1, affine=True, track_running_stats=True)\n",
            ")\n"
          ]
        }
      ]
    },
    {
      "cell_type": "code",
      "source": [
        "# define loss and optimizer\n",
        "# loss_function = nn.functional.binary_cross_entropy_with_logits\n",
        "loss_function = nn.BCELoss()\n",
        "optimizer = torch.optim.Adam(model.parameters())"
      ],
      "metadata": {
        "id": "z2g8GhVZB_Re"
      },
      "execution_count": null,
      "outputs": []
    },
    {
      "cell_type": "code",
      "source": [
        "# training model\n",
        "num_epochs = 10\n",
        "total_steps = len(train_loader)\n",
        "for epoch in range(num_epochs):\n",
        "  for i, (samples,labels) in enumerate (train_loader):\n",
        "    samples = samples.to(device)\n",
        "    labels = labels.to(device)\n",
        "\n",
        "    output = model.forward(samples)\n",
        "    loss = loss_function(output, labels)\n",
        "\n",
        "    optimizer.zero_grad()\n",
        "    loss.backward()\n",
        "    optimizer.step()\n",
        "\n",
        "    if (i+1) % 100 == 0:\n",
        "      print(f'epoch {epoch+1} / {num_epochs}, step {i+1}/{total_steps}, loss = {loss.item():.4f}')"
      ],
      "metadata": {
        "id": "QiGsB2D6CP2h",
        "colab": {
          "base_uri": "https://localhost:8080/"
        },
        "outputId": "d13d8782-8538-4966-fcdc-5597798fb578"
      },
      "execution_count": null,
      "outputs": [
        {
          "output_type": "stream",
          "name": "stdout",
          "text": [
            "epoch 1 / 10, step 100/328, loss = 0.5177\n",
            "epoch 1 / 10, step 200/328, loss = 0.4380\n",
            "epoch 1 / 10, step 300/328, loss = 0.3991\n",
            "epoch 2 / 10, step 100/328, loss = 0.3816\n",
            "epoch 2 / 10, step 200/328, loss = 0.4377\n",
            "epoch 2 / 10, step 300/328, loss = 0.2706\n",
            "epoch 3 / 10, step 100/328, loss = 0.2677\n",
            "epoch 3 / 10, step 200/328, loss = 0.3071\n",
            "epoch 3 / 10, step 300/328, loss = 0.3313\n",
            "epoch 4 / 10, step 100/328, loss = 0.1727\n",
            "epoch 4 / 10, step 200/328, loss = 0.1743\n",
            "epoch 4 / 10, step 300/328, loss = 0.3217\n",
            "epoch 5 / 10, step 100/328, loss = 0.2428\n",
            "epoch 5 / 10, step 200/328, loss = 0.1204\n",
            "epoch 5 / 10, step 300/328, loss = 0.2249\n",
            "epoch 6 / 10, step 100/328, loss = 0.3052\n",
            "epoch 6 / 10, step 200/328, loss = 0.2405\n",
            "epoch 6 / 10, step 300/328, loss = 0.1405\n",
            "epoch 7 / 10, step 100/328, loss = 0.1553\n",
            "epoch 7 / 10, step 200/328, loss = 0.1901\n",
            "epoch 7 / 10, step 300/328, loss = 0.1317\n",
            "epoch 8 / 10, step 100/328, loss = 0.0833\n",
            "epoch 8 / 10, step 200/328, loss = 0.2221\n",
            "epoch 8 / 10, step 300/328, loss = 0.2929\n",
            "epoch 9 / 10, step 100/328, loss = 0.2348\n",
            "epoch 9 / 10, step 200/328, loss = 0.1330\n",
            "epoch 9 / 10, step 300/328, loss = 0.1681\n",
            "epoch 10 / 10, step 100/328, loss = 0.2186\n",
            "epoch 10 / 10, step 200/328, loss = 0.0960\n",
            "epoch 10 / 10, step 300/328, loss = 0.1104\n"
          ]
        }
      ]
    },
    {
      "cell_type": "code",
      "source": [
        "# test set, do not updatee gradients\n",
        "with torch.no_grad():\n",
        "  accuracy_arr=[]\n",
        "  loss_arr=[]\n",
        "  f1_arr = []\n",
        "  recall_arr=[]\n",
        "  precision_arr=[]\n",
        "  labels_arr=[]\n",
        "  predictions_arr=[]\n",
        "  auc_arr=[]\n",
        "  corr_num = 0\n",
        "  sample_num=0\n",
        "\n",
        "  for indiv, labels in test_loader:\n",
        "    indiv =   indiv.to(device)\n",
        "    labels = labels.to(device)\n",
        "    \n",
        "    output = model(indiv)\n",
        "\n",
        "    sample_num += labels.shape[0]\n",
        "    predictions = torch.round(output)\n",
        "    corr_num += (predictions == labels).sum().item()\n",
        "\n",
        "    loss = loss_function(output, labels)\n",
        "    loss_arr.append(loss)\n",
        "    accuracy = corr_num / sample_num\n",
        "    accuracy_arr.append(accuracy)\n",
        "\n",
        "    f1 = f1_score(predictions, labels, labels=labels)\n",
        "    f1_arr.append(f1)\n",
        "    recall = recall_score(predictions, labels, labels=labels)\n",
        "    precision = precision_score(predictions, labels, labels=labels)\n",
        "    auc = roc_auc_score(predictions, labels, labels=labels)\n",
        "    recall_arr.append(recall)\n",
        "    precision_arr.append(precision)\n",
        "    auc_arr.append(auc)\n",
        "    labels_arr += labels.tolist()\n",
        "    predictions_arr += predictions.tolist()\n",
        "\n",
        "print(my_cm_dec(labels_arr, predictions_arr))\n",
        "print(sum(my_cm_dec(labels_arr, predictions_arr)))\n",
        "\n",
        "print(f'Average Accuracy: {sum(accuracy_arr)/len(accuracy_arr)}')\n",
        "print(f'Average Cost/Loss: {sum(loss_arr)/len(loss_arr)}')\n",
        "print(f'Average F1 score:\\t{np.average(np.array(f1_arr))}')\n",
        "print(f'Average AUC score:\\t{np.average(np.array(auc_arr))}')\n",
        "print(f'Average Recall score:\\t{np.average(np.array(recall_arr))}')\n",
        "print(f'Average Precision score:\\t{np.average(np.array(precision_arr))}')\n"
      ],
      "metadata": {
        "colab": {
          "base_uri": "https://localhost:8080/",
          "height": 652
        },
        "id": "T5R966ZVDtFb",
        "outputId": "d988be68-6e45-468c-cf29-8d17206141e1"
      },
      "execution_count": null,
      "outputs": [
        {
          "output_type": "display_data",
          "data": {
            "text/plain": [
              "<Figure size 432x288 with 2 Axes>"
            ],
            "image/png": "[encoded data removed]"
          },
          "metadata": {
            "needs_background": "light"
          }
        },
        {
          "output_type": "stream",
          "name": "stdout",
          "text": [
            "[1904  206  202 2928]\n"
          ]
        },
        {
          "output_type": "display_data",
          "data": {
            "text/plain": [
              "<Figure size 432x288 with 2 Axes>"
            ],
            "image/png": "[encoded data removed]"
          },
          "metadata": {
            "needs_background": "light"
          }
        },
        {
          "output_type": "stream",
          "name": "stdout",
          "text": [
            "5240\n",
            "Average Accuracy: 0.9245306117180352\n",
            "Average Cost/Loss: 0.21254637837409973\n",
            "Average F1 score:\t0.9342546654098922\n",
            "Average AUC score:\t0.9182736004207214\n",
            "Average Recall score:\t0.9334553938319188\n",
            "Average Precision score:\t0.9366119971231108\n"
          ]
        }
      ]
    },
    {
      "cell_type": "markdown",
      "source": [
        "Cross Validation"
      ],
      "metadata": {
        "id": "mupDlOaBNJi_"
      }
    },
    {
      "cell_type": "code",
      "source": [
        "def reset_weights(m):\n",
        "  for layer in m.children():\n",
        "   if hasattr(layer, 'reset_parameters'):\n",
        "    print(f'Reset trainable parameters of layer = {layer}')\n",
        "    layer.reset_parameters()"
      ],
      "metadata": {
        "id": "9N8vVf1CGlDm"
      },
      "execution_count": null,
      "outputs": []
    },
    {
      "cell_type": "code",
      "source": [
        "def stdev(test_list):\n",
        "  mean = sum(test_list) / len(test_list)\n",
        "  return (sum([((x - mean) ** 2) for x in test_list]) / len(test_list)) ** 0.5"
      ],
      "metadata": {
        "id": "MJskkOzoGJFR"
      },
      "execution_count": null,
      "outputs": []
    },
    {
      "cell_type": "code",
      "source": [
        "y.value_counts()"
      ],
      "metadata": {
        "colab": {
          "base_uri": "https://localhost:8080/"
        },
        "id": "PJeCrXQ8fAcn",
        "outputId": "0d4a8e10-b83d-4082-910b-ce6b4ba879d8"
      },
      "execution_count": null,
      "outputs": [
        {
          "output_type": "execute_result",
          "data": {
            "text/plain": [
              "1    15423\n",
              "0    10776\n",
              "Name: subabuse_yes, dtype: int64"
            ]
          },
          "metadata": {},
          "execution_count": 21
        }
      ]
    },
    {
      "cell_type": "code",
      "source": [
        "y_test"
      ],
      "metadata": {
        "colab": {
          "base_uri": "https://localhost:8080/"
        },
        "id": "nApp3O-hjqyR",
        "outputId": "28fd00d8-6659-4a90-da44-58fbc62dc034"
      },
      "execution_count": null,
      "outputs": [
        {
          "output_type": "execute_result",
          "data": {
            "text/plain": [
              "0        0\n",
              "1        0\n",
              "4        0\n",
              "5        0\n",
              "11       0\n",
              "        ..\n",
              "26177    1\n",
              "26180    1\n",
              "26187    1\n",
              "26188    1\n",
              "26193    1\n",
              "Name: subabuse_yes, Length: 5239, dtype: int64"
            ]
          },
          "metadata": {},
          "execution_count": 41
        }
      ]
    },
    {
      "cell_type": "code",
      "source": [
        "loss_function = nn.BCELoss()\n",
        "\n",
        "num_batch = 128\n",
        "num_epochs = 5\n",
        "accuracy_arr=[]\n",
        "loss_arr=[]\n",
        "f1_arr = []\n",
        "recall_arr=[]\n",
        "precision_arr=[]\n",
        "labels_arr=[]\n",
        "predictions_arr=[]\n",
        "f1_fold=[]\n",
        "auc_arr=[]\n",
        "for train_index, test_index in kfold.split(X,y):\n",
        "  X_train, X_test = X.iloc[train_index], X.iloc[test_index]\n",
        "  y_train, y_test = y.iloc[train_index], y.iloc[test_index]\n",
        "  train_loader=torch.utils.data.DataLoader(data_class(X_train,y_train),batch_size=num_batch,shuffle=True)\n",
        "  test_loader=torch.utils.data.DataLoader(data_class(X_test,y_test), batch_size=num_batch, shuffle=True)\n",
        "  model = ANN(111, 1)\n",
        "  model.to(device)\n",
        "  model.apply(reset_weights)\n",
        "  optimizer = torch.optim.Adam(model.parameters())\n",
        "  for epoch in range(num_epochs):\n",
        "    for i, (samples,labels) in enumerate (train_loader):\n",
        "      samples = samples.to(device)\n",
        "      labels = labels.to(device)\n",
        "\n",
        "      output = model.forward(samples)\n",
        "      loss = loss_function(output, labels)\n",
        "\n",
        "      optimizer.zero_grad()\n",
        "      loss.backward()\n",
        "      optimizer.step()\n",
        "\n",
        "      if (i+1) % 100 == 0:\n",
        "        print(f'epoch {epoch+1} / {num_epochs}, step {i+1}/{total_steps}, loss = {loss.item():.4f}')\n",
        "      \n",
        "    with torch.no_grad():\n",
        "      corr_num = 0\n",
        "      sample_num=0\n",
        "\n",
        "      for indiv, labels in test_loader:\n",
        "        indiv =   indiv.to(device)\n",
        "        labels = labels.to(device)\n",
        "        \n",
        "        output = model(indiv)\n",
        "\n",
        "        sample_num += labels.shape[0]\n",
        "        predictions = torch.round(output)\n",
        "        corr_num += (predictions == labels).sum().item()\n",
        "\n",
        "\n",
        "\n",
        "        loss = loss_function(output, labels)\n",
        "        loss_arr.append(loss)\n",
        "        accuracy = corr_num / sample_num\n",
        "        accuracy_arr.append(accuracy)\n",
        "\n",
        "        f1 = f1_score(predictions, labels, labels=labels)\n",
        "        f1_arr.append(f1)\n",
        "        recall = recall_score(predictions, labels, labels=labels)\n",
        "        #precision = precision_score(predictions, labels, labels=labels)\n",
        "        auc=roc_auc_score(predictions, labels, labels=labels)\n",
        "        f1_arr.append(f1)\n",
        "        auc_arr.append(auc)\n",
        "        recall_arr.append(recall)\n",
        "        #precision_arr.append(precision)\n",
        "        labels_arr += labels.tolist()\n",
        "        predictions_arr += predictions.tolist()\n",
        "    #print(my_cm_dec(labels_arr, predictions_arr))\n",
        "print(my_cm_dec(labels_arr, predictions_arr))\n",
        "\n",
        "print(f'Average Accuracy: {sum(accuracy_arr)/len(accuracy_arr)}')\n",
        "print(f'Average Cost/Loss: {sum(loss_arr)/len(loss_arr)}')\n",
        "print(f'Average F1 score:\\t{np.average(np.array(f1_arr))}')\n",
        "print(f'Average AUC score:\\t{np.average(np.array(auc_arr))}')\n",
        "print(f'Average Recall score:\\t{np.average(np.array(recall_arr))}')\n",
        "print(f'Average Precision score:\\t{np.average(np.array(precision_arr))}')\n",
        "print(stdev(auc_arr))\n",
        "print(stdev(f1_arr))\n"
      ],
      "metadata": {
        "colab": {
          "base_uri": "https://localhost:8080/",
          "height": 1000
        },
        "id": "tJkymy7awJ3o",
        "outputId": "00714e21-2e91-4f61-f668-0c614b6735a5"
      },
      "execution_count": null,
      "outputs": [
        {
          "output_type": "stream",
          "name": "stdout",
          "text": [
            "Reset trainable parameters of layer = Linear(in_features=111, out_features=84, bias=True)\n",
            "Reset trainable parameters of layer = Linear(in_features=84, out_features=64, bias=True)\n",
            "Reset trainable parameters of layer = Linear(in_features=64, out_features=32, bias=True)\n",
            "Reset trainable parameters of layer = Linear(in_features=32, out_features=16, bias=True)\n",
            "Reset trainable parameters of layer = Linear(in_features=16, out_features=8, bias=True)\n",
            "Reset trainable parameters of layer = Linear(in_features=8, out_features=1, bias=True)\n",
            "Reset trainable parameters of layer = BatchNorm1d(8, eps=1e-05, momentum=0.1, affine=True, track_running_stats=True)\n",
            "epoch 1 / 5, step 100/328, loss = 0.3622\n",
            "epoch 2 / 5, step 100/328, loss = 0.3188\n",
            "epoch 3 / 5, step 100/328, loss = 0.3128\n",
            "epoch 4 / 5, step 100/328, loss = 0.2118\n",
            "epoch 5 / 5, step 100/328, loss = 0.1810\n",
            "Reset trainable parameters of layer = Linear(in_features=111, out_features=84, bias=True)\n",
            "Reset trainable parameters of layer = Linear(in_features=84, out_features=64, bias=True)\n",
            "Reset trainable parameters of layer = Linear(in_features=64, out_features=32, bias=True)\n",
            "Reset trainable parameters of layer = Linear(in_features=32, out_features=16, bias=True)\n",
            "Reset trainable parameters of layer = Linear(in_features=16, out_features=8, bias=True)\n",
            "Reset trainable parameters of layer = Linear(in_features=8, out_features=1, bias=True)\n",
            "Reset trainable parameters of layer = BatchNorm1d(8, eps=1e-05, momentum=0.1, affine=True, track_running_stats=True)\n",
            "epoch 1 / 5, step 100/328, loss = 0.3457\n",
            "epoch 2 / 5, step 100/328, loss = 0.3022\n",
            "epoch 3 / 5, step 100/328, loss = 0.2678\n",
            "epoch 4 / 5, step 100/328, loss = 0.2167\n",
            "epoch 5 / 5, step 100/328, loss = 0.2572\n",
            "Reset trainable parameters of layer = Linear(in_features=111, out_features=84, bias=True)\n",
            "Reset trainable parameters of layer = Linear(in_features=84, out_features=64, bias=True)\n",
            "Reset trainable parameters of layer = Linear(in_features=64, out_features=32, bias=True)\n",
            "Reset trainable parameters of layer = Linear(in_features=32, out_features=16, bias=True)\n",
            "Reset trainable parameters of layer = Linear(in_features=16, out_features=8, bias=True)\n",
            "Reset trainable parameters of layer = Linear(in_features=8, out_features=1, bias=True)\n",
            "Reset trainable parameters of layer = BatchNorm1d(8, eps=1e-05, momentum=0.1, affine=True, track_running_stats=True)\n",
            "epoch 1 / 5, step 100/328, loss = 0.4510\n",
            "epoch 2 / 5, step 100/328, loss = 0.2906\n",
            "epoch 3 / 5, step 100/328, loss = 0.1901\n",
            "epoch 4 / 5, step 100/328, loss = 0.2246\n",
            "epoch 5 / 5, step 100/328, loss = 0.1885\n",
            "Reset trainable parameters of layer = Linear(in_features=111, out_features=84, bias=True)\n",
            "Reset trainable parameters of layer = Linear(in_features=84, out_features=64, bias=True)\n",
            "Reset trainable parameters of layer = Linear(in_features=64, out_features=32, bias=True)\n",
            "Reset trainable parameters of layer = Linear(in_features=32, out_features=16, bias=True)\n",
            "Reset trainable parameters of layer = Linear(in_features=16, out_features=8, bias=True)\n",
            "Reset trainable parameters of layer = Linear(in_features=8, out_features=1, bias=True)\n",
            "Reset trainable parameters of layer = BatchNorm1d(8, eps=1e-05, momentum=0.1, affine=True, track_running_stats=True)\n",
            "epoch 1 / 5, step 100/328, loss = 0.6061\n",
            "epoch 2 / 5, step 100/328, loss = 0.4860\n",
            "epoch 3 / 5, step 100/328, loss = 0.4114\n",
            "epoch 4 / 5, step 100/328, loss = 0.3543\n",
            "epoch 5 / 5, step 100/328, loss = 0.2344\n",
            "Reset trainable parameters of layer = Linear(in_features=111, out_features=84, bias=True)\n",
            "Reset trainable parameters of layer = Linear(in_features=84, out_features=64, bias=True)\n",
            "Reset trainable parameters of layer = Linear(in_features=64, out_features=32, bias=True)\n",
            "Reset trainable parameters of layer = Linear(in_features=32, out_features=16, bias=True)\n",
            "Reset trainable parameters of layer = Linear(in_features=16, out_features=8, bias=True)\n",
            "Reset trainable parameters of layer = Linear(in_features=8, out_features=1, bias=True)\n",
            "Reset trainable parameters of layer = BatchNorm1d(8, eps=1e-05, momentum=0.1, affine=True, track_running_stats=True)\n",
            "epoch 1 / 5, step 100/328, loss = 0.4891\n",
            "epoch 2 / 5, step 100/328, loss = 0.3414\n",
            "epoch 3 / 5, step 100/328, loss = 0.2601\n",
            "epoch 4 / 5, step 100/328, loss = 0.2771\n",
            "epoch 5 / 5, step 100/328, loss = 0.2188\n"
          ]
        },
        {
          "output_type": "display_data",
          "data": {
            "text/plain": [
              "<Figure size 432x288 with 2 Axes>"
            ],
            "image/png": "[encoded data removed]"
          },
          "metadata": {
            "needs_background": "light"
          }
        },
        {
          "output_type": "stream",
          "name": "stdout",
          "text": [
            "[45544  8336  6568 70547]\n",
            "Average Accuracy: 0.887051012595599\n",
            "Average Cost/Loss: 0.30744001269340515\n",
            "Average F1 score:\t0.9042109751597275\n",
            "Average AUC score:\t0.8847727241513572\n",
            "Average Recall score:\t0.8951147379097154\n",
            "Average Precision score:\tnan\n",
            "0.036385362502923894\n",
            "0.0308520481783965\n"
          ]
        },
        {
          "output_type": "stream",
          "name": "stderr",
          "text": [
            "/usr/local/lib/python3.7/dist-packages/numpy/lib/function_base.py:380: RuntimeWarning: Mean of empty slice.\n",
            "  avg = a.mean(axis)\n",
            "/usr/local/lib/python3.7/dist-packages/numpy/core/_methods.py:189: RuntimeWarning: invalid value encountered in double_scalars\n",
            "  ret = ret.dtype.type(ret / rcount)\n"
          ]
        }
      ]
    },
    {
      "cell_type": "code",
      "source": [
        "labels=np.array(labels_arr).flatten()\n",
        "predictions=np.array(predictions_arr).flatten()"
      ],
      "metadata": {
        "id": "8l9siW7tEEkb"
      },
      "execution_count": null,
      "outputs": []
    },
    {
      "cell_type": "code",
      "source": [
        "state=X[[\"st_AK\",\n",
        "\"st_AL\",\n",
        "\"st_AR\",\n",
        "\"st_AZ\",\n",
        "\"st_CA\",\n",
        "\"st_CO\",\n",
        "\"st_CT\",\n",
        "\"st_DC\",\n",
        "\"st_DE\",\n",
        "\"st_FL\",\n",
        "\"st_GA\",\n",
        "\"st_HI\",\n",
        "\"st_IA\",\n",
        "\"st_ID\",\n",
        "\"st_IL\",\n",
        "\"st_IN\",\n",
        "\"st_KS\",\n",
        "\"st_KY\",\n",
        "\"st_LA\",\n",
        "\"st_MA\",\n",
        "\"st_MD\",\n",
        "\"st_ME\",\n",
        "\"st_MI\",\n",
        "\"st_MN\",\n",
        "\"st_MO\",\n",
        "\"st_MS\",\n",
        "\"st_MT\",\n",
        "\"st_NC\",\n",
        "\"st_ND\",\n",
        "\"st_NE\",\n",
        "\"st_NH\",\n",
        "\"st_NJ\",\n",
        "\"st_NM\",\n",
        "\"st_NV\",\n",
        "\"st_NY\",\n",
        "\"st_OH\",\n",
        "\"st_OK\",\n",
        "\"st_OR\",\n",
        "\"st_PA\",\n",
        "\"st_PR\",\n",
        "\"st_RI\",\n",
        "\"st_SC\",\n",
        "\"st_SD\",\n",
        "\"st_TN\",\n",
        "\"st_TX\",\n",
        "\"st_UT\",\n",
        "\"st_VA\",\n",
        "\"st_VT\",\n",
        "\"st_WA\",\n",
        "\"st_WI\",\n",
        "\"st_WV\",\n",
        "\"st_WY\"]].idxmax(axis=1)\n",
        "\n",
        "mapping={\"st_AK\":\"West\",\n",
        "\"st_AZ\":\"West\",\n",
        "\"st_CA\":\"West\",\n",
        "\"st_CO\":\"West\",\n",
        "\"st_HI\":\"West\",\n",
        "\"st_ID\":\"West\",\n",
        "\"st_MT\":\"West\",\n",
        "\"st_NM\":\"West\",\n",
        "\"st_NV\":\"West\",\n",
        "\"st_OR\":\"West\",\n",
        "\"st_UT\":\"West\",\n",
        "\"st_WA\":\"West\",\n",
        "\"st_WY\":\"West\",\n",
        "\"st_AL\":\"South\",\n",
        "\"st_AR\":\"South\",\n",
        "\"st_DC\":\"South\",\n",
        "\"st_DE\":\"South\",\n",
        "\"st_FL\":\"South\",\n",
        "\"st_GA\":\"South\",\n",
        "\"st_KY\":\"South\",\n",
        "\"st_LA\":\"South\",\n",
        "\"st_MD\":\"South\",\n",
        "\"st_MS\":\"South\",\n",
        "\"st_NC\":\"South\",\n",
        "\"st_OK\":\"South\",\n",
        "\"st_PR\":\"South\",\n",
        "\"st_SC\":\"South\",\n",
        "\"st_TN\":\"South\",\n",
        "\"st_TX\":\"South\",\n",
        "\"st_VA\":\"South\",\n",
        "\"st_WV\":\"South\",\n",
        "\"st_CT\":\"Northeast\",\n",
        "\"st_ME\":\"Northeast\",\n",
        "\"st_MA\":\"Northeast\",\n",
        "\"st_NH\":\"Northeast\",\n",
        "\"st_NJ\":\"Northeast\",\n",
        "\"st_NY\":\"Northeast\",\n",
        "\"st_PA\":\"Northeast\",\n",
        "\"st_RI\":\"Northeast\",\n",
        "\"st_VT\":\"Northeast\",\n",
        "\"st_IA\":\"Midwest\",\n",
        "\"st_IL\":\"Midwest\",\n",
        "\"st_IN\":\"Midwest\",\n",
        "\"st_KS\":\"Midwest\",\n",
        "\"st_MI\":\"Midwest\",\n",
        "\"st_MN\":\"Midwest\",\n",
        "\"st_MO\":\"Midwest\",\n",
        "\"st_ND\":\"Midwest\",\n",
        "\"st_NE\":\"Midwest\",\n",
        "\"st_OH\":\"Midwest\",\n",
        "\"st_SD\":\"Midwest\",\n",
        "\"st_WI\":\"Midwest\"\n",
        "}\n",
        "region =state.map(mapping)"
      ],
      "metadata": {
        "id": "RDceAnwrfTdU"
      },
      "execution_count": null,
      "outputs": []
    },
    {
      "cell_type": "code",
      "source": [
        "print(\"Female by Percenct\")\n",
        "\n",
        "print(my_cm_dec(labels[X.index[X['sex_female'] == True].tolist()],predictions[X.index[X['sex_female'] == True].tolist()]))\n",
        "plt.show()\n",
        "print(\"Male by Percenct\")\n",
        "print(my_cm_dec(labels[X.index[X['sex_male'] == True].tolist()],predictions[X.index[X['sex_male'] == True].tolist()]))\n",
        "plt.show()\n",
        "\n",
        "for i in ['South', 'Midwest', \"Northeast\", 'West']:\n",
        "  print(\"Breakdown by {}\".format(i))\n",
        "  print(my_cm_dec(labels[region.index[region == i]], predictions[region.index[region == i]]))\n",
        "  plt.show()\n",
        "\n",
        "for i in ['white', 'blkafram', 'amiakn']:\n",
        "  print(\"Breakdown by {}\".format(i))\n",
        "\n",
        "  print(\"YES - By percent\")\n",
        "  print(my_cm_dec(labels[X.index[X[i+'_yes']==True].tolist()],predictions[X.index[X[i+'_yes'] == True].tolist()]))\n",
        "  plt.show()\n",
        "\n",
        "  print(\"NO - by percent\")\n",
        "  print(my_cm_dec(labels[X.index[X[i+'_no'] == True].tolist()],predictions[X.index[X[i+'_no'] == True].tolist()]))\n",
        "  plt.show()"
      ],
      "metadata": {
        "colab": {
          "base_uri": "https://localhost:8080/",
          "height": 1000
        },
        "outputId": "b0c28ecb-686f-46e0-ac3e-cdc1af2885e6",
        "id": "hWLbFZhofeP0"
      },
      "execution_count": null,
      "outputs": [
        {
          "output_type": "stream",
          "name": "stdout",
          "text": [
            "Female by Percenct\n"
          ]
        },
        {
          "output_type": "display_data",
          "data": {
            "text/plain": [
              "<Figure size 432x288 with 2 Axes>"
            ],
            "image/png": "[encoded data removed]"
          },
          "metadata": {
            "needs_background": "light"
          }
        },
        {
          "output_type": "stream",
          "name": "stdout",
          "text": [
            "[4407  810  785 6723]\n",
            "Male by Percenct\n"
          ]
        },
        {
          "output_type": "display_data",
          "data": {
            "text/plain": [
              "<Figure size 432x288 with 2 Axes>"
            ],
            "image/png": "[encoded data removed]"
          },
          "metadata": {
            "needs_background": "light"
          }
        },
        {
          "output_type": "stream",
          "name": "stdout",
          "text": [
            "[4613  799  796 6891]\n",
            "Breakdown by South\n"
          ]
        },
        {
          "output_type": "display_data",
          "data": {
            "text/plain": [
              "<Figure size 432x288 with 2 Axes>"
            ],
            "image/png": "[encoded data removed]"
          },
          "metadata": {
            "needs_background": "light"
          }
        },
        {
          "output_type": "stream",
          "name": "stdout",
          "text": [
            "[2508  472  470 3771]\n",
            "Breakdown by Midwest\n"
          ]
        },
        {
          "output_type": "display_data",
          "data": {
            "text/plain": [
              "<Figure size 432x288 with 2 Axes>"
            ],
            "image/png": "[encoded data removed]"
          },
          "metadata": {
            "needs_background": "light"
          }
        },
        {
          "output_type": "stream",
          "name": "stdout",
          "text": [
            "[1548  290  273 2283]\n",
            "Breakdown by Northeast\n"
          ]
        },
        {
          "output_type": "display_data",
          "data": {
            "text/plain": [
              "<Figure size 432x288 with 2 Axes>"
            ],
            "image/png": "[encoded data removed]"
          },
          "metadata": {
            "needs_background": "light"
          }
        },
        {
          "output_type": "stream",
          "name": "stdout",
          "text": [
            "[1068  216  212 1657]\n",
            "Breakdown by West\n"
          ]
        },
        {
          "output_type": "display_data",
          "data": {
            "text/plain": [
              "<Figure size 432x288 with 2 Axes>"
            ],
            "image/png": "[encoded data removed]"
          },
          "metadata": {
            "needs_background": "light"
          }
        },
        {
          "output_type": "stream",
          "name": "stdout",
          "text": [
            "[4020  658  642 6111]\n",
            "Breakdown by white\n",
            "YES - By percent\n"
          ]
        },
        {
          "output_type": "display_data",
          "data": {
            "text/plain": [
              "<Figure size 432x288 with 2 Axes>"
            ],
            "image/png": "[encoded data removed]"
          },
          "metadata": {
            "needs_background": "light"
          }
        },
        {
          "output_type": "stream",
          "name": "stdout",
          "text": [
            "[5758  994 1000 8796]\n",
            "NO - by percent\n"
          ]
        },
        {
          "output_type": "display_data",
          "data": {
            "text/plain": [
              "<Figure size 432x288 with 2 Axes>"
            ],
            "image/png": "[encoded data removed]"
          },
          "metadata": {
            "needs_background": "light"
          }
        },
        {
          "output_type": "stream",
          "name": "stdout",
          "text": [
            "[3288  621  587 4903]\n",
            "Breakdown by blkafram\n",
            "YES - By percent\n"
          ]
        },
        {
          "output_type": "display_data",
          "data": {
            "text/plain": [
              "<Figure size 432x288 with 2 Axes>"
            ],
            "image/png": "[encoded data removed]"
          },
          "metadata": {
            "needs_background": "light"
          }
        },
        {
          "output_type": "stream",
          "name": "stdout",
          "text": [
            "[3127  581  551 4655]\n",
            "NO - by percent\n"
          ]
        },
        {
          "output_type": "display_data",
          "data": {
            "text/plain": [
              "<Figure size 432x288 with 2 Axes>"
            ],
            "image/png": "[encoded data removed]"
          },
          "metadata": {
            "needs_background": "light"
          }
        },
        {
          "output_type": "stream",
          "name": "stdout",
          "text": [
            "[5905 1043 1033 9010]\n",
            "Breakdown by amiakn\n",
            "YES - By percent\n"
          ]
        },
        {
          "output_type": "display_data",
          "data": {
            "text/plain": [
              "<Figure size 432x288 with 2 Axes>"
            ],
            "image/png": "[encoded data removed]"
          },
          "metadata": {
            "needs_background": "light"
          }
        },
        {
          "output_type": "stream",
          "name": "stdout",
          "text": [
            "[431  88  53 662]\n",
            "NO - by percent\n"
          ]
        },
        {
          "output_type": "display_data",
          "data": {
            "text/plain": [
              "<Figure size 432x288 with 2 Axes>"
            ],
            "image/png": "[encoded data removed]"
          },
          "metadata": {
            "needs_background": "light"
          }
        },
        {
          "output_type": "stream",
          "name": "stdout",
          "text": [
            "[ 8636  1537  1529 13030]\n"
          ]
        }
      ]
    }
  ]
}