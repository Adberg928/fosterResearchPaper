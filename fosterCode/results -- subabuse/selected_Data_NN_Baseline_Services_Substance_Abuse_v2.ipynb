{
  "nbformat": 4,
  "nbformat_minor": 0,
  "metadata": {
    "colab": {
      "provenance": []
    },
    "kernelspec": {
      "name": "python3",
      "display_name": "Python 3"
    },
    "language_info": {
      "name": "python"
    }
  },
  "cells": [
    {
      "cell_type": "markdown",
      "source": [
        "#Mount Drive + Load Libraries#"
      ],
      "metadata": {
        "id": "fyzbDZk5aiNS"
      }
    },
    {
      "cell_type": "code",
      "execution_count": null,
      "metadata": {
        "colab": {
          "base_uri": "https://localhost:8080/"
        },
        "id": "SFrwtuWe3DEO",
        "outputId": "b79544a2-e1ea-4917-a068-81d258ab505e"
      },
      "outputs": [
        {
          "output_type": "stream",
          "name": "stdout",
          "text": [
            "Drive already mounted at /content/drive/; to attempt to forcibly remount, call drive.mount(\"/content/drive/\", force_remount=True).\n",
            "[Errno 2] No such file or directory: 'drive/Shareddrives/CSCI 461'\n",
            "/content/drive/Shareddrives/CSCI 461\n"
          ]
        }
      ],
      "source": [
        "# mount drive\n",
        "from google.colab import drive\n",
        "drive.mount('/content/drive/')\n",
        "%cd 'drive/Shareddrives/CSCI 461'"
      ]
    },
    {
      "cell_type": "code",
      "source": [
        "# python libraries\n",
        "import pandas as pd\n",
        "import torch \n",
        "import torch.nn as nn\n",
        "from datetime import date\n",
        "import os\n",
        "import matplotlib.pyplot as plt\n",
        "from sklearn.utils import shuffle\n",
        "from sklearn.metrics import f1_score, recall_score, precision_score, confusion_matrix, roc_auc_score\n",
        "import numpy as np\n",
        "from sklearn.metrics import f1_score\n",
        "from sklearn.model_selection import StratifiedKFold, train_test_split\n",
        "import seaborn as sns\n",
        "from sklearn.preprocessing import MinMaxScaler\n",
        "from imblearn.combine import SMOTEENN\n",
        "import time\n",
        "kfold = StratifiedKFold(n_splits=5,shuffle=True,random_state=11)\n",
        "\n",
        "device = torch.device(\"cuda\") if torch.cuda.is_available() else torch.device(\"cpu\")"
      ],
      "metadata": {
        "id": "orOUi10Y3-5y"
      },
      "execution_count": null,
      "outputs": []
    },
    {
      "cell_type": "markdown",
      "source": [
        "#ANN Modeling#"
      ],
      "metadata": {
        "id": "GEvGVIrAaz_C"
      }
    },
    {
      "cell_type": "code",
      "source": [
        "# Importing the data\n",
        "data = pd.read_csv(\"processed/combined_ohe_17.csv\")\n",
        "edu_matrix = data[[\"highedcert_associate degree\",\"highedcert_bachelor degree\",\"highedcert_high school or ged\",\n",
        "                  \"highedcert_higher degree\",\"highedcert_none of the above\",\"highedcert_vocational certificate\",\n",
        "                  \"highedcert_vocational license\"]]\n",
        "data[\"edu_categorical\"] = edu_matrix.idxmax(axis=1)\n",
        "\n",
        "# making education binary\n",
        "educationBinary = \\\n",
        "{   \n",
        "    \"highedcert_associate degree\": 1,\n",
        "    \"highedcert_bachelor degree\": 1,\n",
        "    \"highedcert_high school or ged\": 1,\n",
        "    \"highedcert_higher degree\": 1,\n",
        "    \"highedcert_none of the above\":0,\n",
        "    \"highedcert_vocational certificate\": 1,\n",
        "    \"highedcert_vocational license\": 1\n",
        "}\n",
        "\n",
        "# # drop features\n",
        "# data.drop(columns=['specedsv_No',\n",
        "#  'specedsv_Yes',\n",
        "#  'ilnasv_No',\n",
        "#  'ilnasv_Yes',\n",
        "#  'acsuppsv_No',\n",
        "#  'acsuppsv_Yes',\n",
        "#  'psedsuppsv_No',\n",
        "#  'psedsuppsv_Yes',\n",
        "#  'careersv_No',\n",
        "#  'careersv_Yes',\n",
        "#  'emplytrsv_No',\n",
        "#  'emplytrsv_Yes',\n",
        "#  'budgetsv_No',\n",
        "#  'budgetsv_Yes',\n",
        "#  'housedsv_No',\n",
        "#  'housedsv_Yes',\n",
        "#  'hlthedsv_No',\n",
        "#  'hlthedsv_Yes',\n",
        "#  'famsuppsv_No',\n",
        "#  'famsuppsv_Yes',\n",
        "#  'mentorsv_No',\n",
        "#  'mentorsv_Yes',\n",
        "#  'silsv_No',\n",
        "#  'silsv_Yes',\n",
        "#  'rmbrdfasv_No',\n",
        "#  'rmbrdfasv_Yes',\n",
        "#  'educfinasv_No',\n",
        "#  'educfinasv_Yes',\n",
        "#  'othrfinasv_No',\n",
        "#  'othrfinasv_Yes'], axis=1, inplace=True)\n",
        "\n",
        "data['edu_binary'] = data[\"edu_categorical\"].map(educationBinary) \n",
        "\n",
        "# dropping overlap variables (and other outcome features, recnumbr)\n",
        "data.drop(columns=[\"recnumbr\", \"highedcert_associate degree\",\"highedcert_bachelor degree\",\"highedcert_high school or ged\",\n",
        "                  \"highedcert_higher degree\",\"highedcert_none of the above\",\"highedcert_vocational certificate\",\n",
        "                  \"highedcert_vocational license\",\"edu_categorical\", 'edu_binary','homeless_no','homeless_yes',\n",
        "                   'subabuse_no', 'incarc_no', 'incarc_yes', 'edu_categorical',  'currpte_yes', 'currpte_no','currfte_yes', \n",
        "                   'currfte_no','age'], axis=1, inplace=True)\n",
        "\n",
        "# filtering for age 19+ and balancing the class\n",
        "#data = data[data['age']>18].sort_values('edu_binary').iloc[:1084*2,:]\n",
        "target=\"subabuse_yes\"\n",
        "# Setting target variables\n",
        "data = data.sample(frac=1)\n",
        "data = data.drop(columns=['st_AK','st_AL','st_AR','st_AZ','st_CA','st_CO','st_CT', \n",
        "                    'st_DC', 'st_DE', 'st_FL', 'st_IN', 'st_HI', 'st_IA',\n",
        "                    'st_ID','st_IL','st_KS','st_KY', 'st_LA', 'st_MD', 'st_ME', 'st_MI', 'st_MN', 'st_MO',\n",
        "                    'st_MS', 'st_MT', 'st_NC', 'st_ND', 'st_NE', 'st_NH', 'st_NJ', 'st_NM', 'st_NV', 'st_NY', 'st_OH',\n",
        "                    'st_OK', 'st_OR', 'st_PA', 'st_PR', 'st_RI', 'st_SC', 'st_SD', 'st_TN', 'st_UT', 'st_VA', 'st_VT',\n",
        "                    'st_WA', 'st_WI', 'st_WV', 'st_WY','outcmfcs_yes', 'amiakn_yes', 'asian_no', 'asian_yes',\n",
        "                    'hawaiipi_no', 'hawaiipi_yes','raceunkn_no','raceunkn_yes', 'educaid_no', 'pubfinas_no',\n",
        "                    'pubfinas_not applicable','pubfoodas_no', 'pubfoodas_not applicable', 'children_yes',\n",
        "                    'marriage_no', 'marriage_yes', 'medicaid_do not know', 'othrhlthin_not applicable', \n",
        "                    'othrhlthin_yes', 'medicalin_no', 'medicalin_yes', 'medicalin_do not know', 'mentlhlthin_do not know',\n",
        "                    'mentlhlthin_no', 'mentlhlthin_not applicable', 'mentlhlthin_yes', 'prescripin_no',\n",
        "                    'prescripin_not applicable', 'prescripin_do not know', 'prescripin_yes', 'baseline_yes'], axis=1)\n",
        "y = data.loc[:,target]\n",
        "X = data.loc[:,data.columns !=target]\n",
        "\n",
        "# Feature scaling \n",
        "# scaler = MinMaxScaler((-1,1))\n",
        "# X['age'] = scaler.fit_transform(np.array(X['age']).reshape(-1, 1))\n",
        "\n",
        "print(data.columns)"
      ],
      "metadata": {
        "id": "SvC37nBuqNuI",
        "colab": {
          "base_uri": "https://localhost:8080/"
        },
        "outputId": "3bb68922-488a-4e7f-bce8-737a4a54cdfe"
      },
      "execution_count": null,
      "outputs": [
        {
          "output_type": "stream",
          "name": "stdout",
          "text": [
            "Index(['st_GA', 'st_MA', 'st_TX', 'sex_male', 'sex_female', 'outcmfcs_no',\n",
            "       'amiakn_no', 'blkafram_no', 'blkafram_yes', 'white_no', 'white_yes',\n",
            "       'hisorgin_no', 'hisorgin_yes', 'emplysklls_no', 'emplysklls_yes',\n",
            "       'educaid_yes', 'pubfinas_yes', 'pubfoodas_yes', 'othrfinas_no',\n",
            "       'othrfinas_yes', 'currenroll_no', 'currenroll_yes', 'cnctadult_no',\n",
            "       'cnctadult_yes', 'children_no', 'marriage_not applicable',\n",
            "       'medicaid_no', 'medicaid_yes', 'othrhlthin_do not know',\n",
            "       'othrhlthin_no', 'medicalin_not applicable', 'specedsv_No',\n",
            "       'specedsv_Yes', 'ilnasv_No', 'ilnasv_Yes', 'acsuppsv_No',\n",
            "       'acsuppsv_Yes', 'psedsuppsv_No', 'psedsuppsv_Yes', 'careersv_No',\n",
            "       'careersv_Yes', 'emplytrsv_No', 'emplytrsv_Yes', 'budgetsv_No',\n",
            "       'budgetsv_Yes', 'housedsv_No', 'housedsv_Yes', 'hlthedsv_No',\n",
            "       'hlthedsv_Yes', 'famsuppsv_No', 'famsuppsv_Yes', 'mentorsv_No',\n",
            "       'mentorsv_Yes', 'silsv_No', 'silsv_Yes', 'rmbrdfasv_No',\n",
            "       'rmbrdfasv_Yes', 'educfinasv_No', 'educfinasv_Yes', 'othrfinasv_No',\n",
            "       'othrfinasv_Yes', 'subabuse_yes'],\n",
            "      dtype='object')\n"
          ]
        }
      ]
    },
    {
      "cell_type": "code",
      "source": [
        "# OVER SAMPLING\n",
        "# over = pd.DataFrame()\n",
        "# for i in range(2):\n",
        "#   over=over.append(data[data[\"subabuse_yes\"] == 1])\n",
        "# over=over.append(data[data[\"subabuse_yes\"] == 1].iloc[:int(5980 /2),:])\n",
        "# data=data.append(over).sample(frac=1)\n",
        "smote_enn = SMOTEENN(random_state=0)\n",
        "X, y = smote_enn.fit_resample(X, y)\n",
        "X_train, X_test, y_train, y_test = train_test_split(X, y, test_size = 0.2, random_state = 0)"
      ],
      "metadata": {
        "id": "MF6g8ls3-Qie"
      },
      "execution_count": null,
      "outputs": []
    },
    {
      "cell_type": "code",
      "source": [
        "def my_cm_dec(y,y_pred):\n",
        "  cm = confusion_matrix(y,y_pred)\n",
        "  # print(cm.ravel())\n",
        "  # print('(tn, fp, fn, tp)')\n",
        "  n=sum(cm.ravel()[:2])\n",
        "  p=sum(cm.ravel()[2:])\n",
        "  cm_matrix = pd.DataFrame(data=cm, columns=['Predict Negative:0','Predict Positive:1'], \n",
        "                                 index=[ 'Actual Negative:0','Actual Positive:1'])\n",
        "  cm_matrix = cm_matrix.loc[ ['Actual Positive:1','Actual Negative:0'], [ 'Predict Positive:1', 'Predict Negative:0']]\n",
        "  cm_matrix.loc['Actual Positive:1', :] = cm_matrix.loc['Actual Positive:1', :] /p\n",
        "  cm_matrix.loc['Actual Negative:0', :]  = cm_matrix.loc['Actual Negative:0', :] /n\n",
        "  sns.heatmap(cm_matrix, annot=True, cmap='YlGnBu')\n",
        "  plt.show()\n",
        "  return cm.ravel()\n"
      ],
      "metadata": {
        "id": "fSOnZu-ArCM9"
      },
      "execution_count": null,
      "outputs": []
    },
    {
      "cell_type": "code",
      "source": [
        "#data loader for torch\n",
        "class data_class(torch.utils.data.Dataset):\n",
        "  def __init__(self, X,y):\n",
        "    self.x=torch.tensor(X.values,dtype=torch.float32)\n",
        "    self.y=torch.tensor(y.values.reshape(-1,1),dtype=torch.float32)\n",
        "  def __len__(self):\n",
        "    return len(self.y)\n",
        "  def __getitem__(self, idx):\n",
        "    return self.x[idx], self.y[idx]\n",
        "train_loader=torch.utils.data.DataLoader(data_class(X_train,y_train),batch_size=64,shuffle=True)\n",
        "test_loader=torch.utils.data.DataLoader(data_class(X_test,y_test), batch_size=64, shuffle=True)"
      ],
      "metadata": {
        "id": "wv7-uAb3iDHv"
      },
      "execution_count": null,
      "outputs": []
    },
    {
      "cell_type": "markdown",
      "source": [
        "Modeling "
      ],
      "metadata": {
        "id": "_zfe5lkWMkBN"
      }
    },
    {
      "cell_type": "code",
      "source": [
        "# viewing data loader\n",
        "print(\"Number of training examples:\", len(train_loader))\n",
        "print(\"Number of testing examples:\", len(test_loader))\n",
        "\n",
        "# features in sample\n",
        "examples = iter(train_loader)\n",
        "samples, labels = next(examples)\n",
        "print(\"Sample shape: \", samples.shape)\n",
        "print(\"Label shape: \", labels.shape)\n"
      ],
      "metadata": {
        "colab": {
          "base_uri": "https://localhost:8080/"
        },
        "id": "eTWfjAU7n2Zn",
        "outputId": "86796902-11e6-471f-b329-934225e94ace"
      },
      "execution_count": null,
      "outputs": [
        {
          "output_type": "stream",
          "name": "stdout",
          "text": [
            "Number of training examples: 418\n",
            "Number of testing examples: 105\n",
            "Sample shape:  torch.Size([64, 61])\n",
            "Label shape:  torch.Size([64, 1])\n"
          ]
        }
      ]
    },
    {
      "cell_type": "code",
      "source": [
        "# defining the model\n",
        "class ANN(nn.Module):\n",
        "  def __init__(self, input_size, num_classes):\n",
        "    super(ANN, self).__init__()\n",
        "    self.relu = nn.ReLU()\n",
        "    self.input_layer = nn.Linear(input_size, 32)\n",
        "    self.hidden1 = nn.Linear(32,16)\n",
        "    self.hidden2 = nn.Linear(16,8)\n",
        "    self.output_layer= nn.Linear(8,num_classes)\n",
        "    self.activation = nn.Sigmoid()\n",
        "    self.batch_norm = nn.BatchNorm1d(8)\n",
        "  def forward(self, sample):\n",
        "    out = self.input_layer(sample)\n",
        "    out = self.relu(out)\n",
        "    out = self.hidden1(out)\n",
        "    out = self.relu(out)\n",
        "    out = self.hidden2(out)\n",
        "    out = self.relu(out)\n",
        "    out = self.batch_norm(out)\n",
        "    return self.activation(self.output_layer(out))\n",
        "model = ANN(61, 1)\n",
        "print(model)"
      ],
      "metadata": {
        "id": "8GmnRGedpc7J",
        "colab": {
          "base_uri": "https://localhost:8080/"
        },
        "outputId": "cc52a02a-887b-49c6-88e8-cceac91bc7b9"
      },
      "execution_count": null,
      "outputs": [
        {
          "output_type": "stream",
          "name": "stdout",
          "text": [
            "ANN(\n",
            "  (relu): ReLU()\n",
            "  (input_layer): Linear(in_features=61, out_features=32, bias=True)\n",
            "  (hidden1): Linear(in_features=32, out_features=16, bias=True)\n",
            "  (hidden2): Linear(in_features=16, out_features=8, bias=True)\n",
            "  (output_layer): Linear(in_features=8, out_features=1, bias=True)\n",
            "  (activation): Sigmoid()\n",
            "  (batch_norm): BatchNorm1d(8, eps=1e-05, momentum=0.1, affine=True, track_running_stats=True)\n",
            ")\n"
          ]
        }
      ]
    },
    {
      "cell_type": "code",
      "source": [
        "# define loss and optimizer\n",
        "# loss_function = nn.functional.binary_cross_entropy_with_logits\n",
        "loss_function = nn.BCELoss()\n",
        "optimizer = torch.optim.Adam(model.parameters())"
      ],
      "metadata": {
        "id": "z2g8GhVZB_Re"
      },
      "execution_count": null,
      "outputs": []
    },
    {
      "cell_type": "code",
      "source": [
        "# training model\n",
        "num_epochs = 10\n",
        "total_steps = len(train_loader)\n",
        "for epoch in range(num_epochs):\n",
        "  for i, (samples,labels) in enumerate (train_loader):\n",
        "    samples = samples.to(device)\n",
        "    labels = labels.to(device)\n",
        "\n",
        "    output = model.forward(samples)\n",
        "    loss = loss_function(output, labels)\n",
        "\n",
        "    optimizer.zero_grad()\n",
        "    loss.backward()\n",
        "    optimizer.step()\n",
        "\n",
        "    if (i+1) % 100 == 0:\n",
        "      print(f'epoch {epoch+1} / {num_epochs}, step {i+1}/{total_steps}, loss = {loss.item():.4f}')"
      ],
      "metadata": {
        "id": "QiGsB2D6CP2h",
        "colab": {
          "base_uri": "https://localhost:8080/"
        },
        "outputId": "00d9a57a-95c6-4424-e74b-89dd2c26726e"
      },
      "execution_count": null,
      "outputs": [
        {
          "output_type": "stream",
          "name": "stdout",
          "text": [
            "epoch 1 / 10, step 100/418, loss = 0.6528\n",
            "epoch 1 / 10, step 200/418, loss = 0.5303\n",
            "epoch 1 / 10, step 300/418, loss = 0.4501\n",
            "epoch 1 / 10, step 400/418, loss = 0.3822\n",
            "epoch 2 / 10, step 100/418, loss = 0.4289\n",
            "epoch 2 / 10, step 200/418, loss = 0.3622\n",
            "epoch 2 / 10, step 300/418, loss = 0.3955\n",
            "epoch 2 / 10, step 400/418, loss = 0.3031\n",
            "epoch 3 / 10, step 100/418, loss = 0.4531\n",
            "epoch 3 / 10, step 200/418, loss = 0.3117\n",
            "epoch 3 / 10, step 300/418, loss = 0.3082\n",
            "epoch 3 / 10, step 400/418, loss = 0.4360\n",
            "epoch 4 / 10, step 100/418, loss = 0.2425\n",
            "epoch 4 / 10, step 200/418, loss = 0.4071\n",
            "epoch 4 / 10, step 300/418, loss = 0.3759\n",
            "epoch 4 / 10, step 400/418, loss = 0.1991\n",
            "epoch 5 / 10, step 100/418, loss = 0.5137\n",
            "epoch 5 / 10, step 200/418, loss = 0.3415\n",
            "epoch 5 / 10, step 300/418, loss = 0.4149\n",
            "epoch 5 / 10, step 400/418, loss = 0.5247\n",
            "epoch 6 / 10, step 100/418, loss = 0.3012\n",
            "epoch 6 / 10, step 200/418, loss = 0.4004\n",
            "epoch 6 / 10, step 300/418, loss = 0.2601\n",
            "epoch 6 / 10, step 400/418, loss = 0.3213\n",
            "epoch 7 / 10, step 100/418, loss = 0.2794\n",
            "epoch 7 / 10, step 200/418, loss = 0.2982\n",
            "epoch 7 / 10, step 300/418, loss = 0.3075\n",
            "epoch 7 / 10, step 400/418, loss = 0.3781\n",
            "epoch 8 / 10, step 100/418, loss = 0.3239\n",
            "epoch 8 / 10, step 200/418, loss = 0.4792\n",
            "epoch 8 / 10, step 300/418, loss = 0.3657\n",
            "epoch 8 / 10, step 400/418, loss = 0.4417\n",
            "epoch 9 / 10, step 100/418, loss = 0.4757\n",
            "epoch 9 / 10, step 200/418, loss = 0.3000\n",
            "epoch 9 / 10, step 300/418, loss = 0.2876\n",
            "epoch 9 / 10, step 400/418, loss = 0.2992\n",
            "epoch 10 / 10, step 100/418, loss = 0.3484\n",
            "epoch 10 / 10, step 200/418, loss = 0.2728\n",
            "epoch 10 / 10, step 300/418, loss = 0.2740\n",
            "epoch 10 / 10, step 400/418, loss = 0.3451\n"
          ]
        }
      ]
    },
    {
      "cell_type": "code",
      "source": [
        "# test set, do not updatee gradients\n",
        "with torch.no_grad():\n",
        "  accuracy_arr=[]\n",
        "  loss_arr=[]\n",
        "  f1_arr = []\n",
        "  recall_arr=[]\n",
        "  precision_arr=[]\n",
        "  labels_arr=[]\n",
        "  predictions_arr=[]\n",
        "  auc_arr=[]\n",
        "  corr_num = 0\n",
        "  sample_num=0\n",
        "\n",
        "  for indiv, labels in test_loader:\n",
        "    indiv =   indiv.to(device)\n",
        "    labels = labels.to(device)\n",
        "    #print(indiv)\n",
        "    output = model(indiv)\n",
        "\n",
        "    sample_num += labels.shape[0]\n",
        "    predictions = torch.round(output)\n",
        "    corr_num += (predictions == labels).sum().item()\n",
        "\n",
        "    loss = loss_function(output, labels)\n",
        "    loss_arr.append(loss)\n",
        "    accuracy = corr_num / sample_num\n",
        "    accuracy_arr.append(accuracy)\n",
        "\n",
        "    f1 = f1_score(predictions, labels, labels=labels)\n",
        "    f1_arr.append(f1)\n",
        "    recall = recall_score(predictions, labels, labels=labels)\n",
        "    precision = precision_score(predictions, labels, labels=labels)\n",
        "    auc = roc_auc_score(predictions, labels, labels=labels)\n",
        "    recall_arr.append(recall)\n",
        "    precision_arr.append(precision)\n",
        "    auc_arr.append(auc)\n",
        "    labels_arr += labels.tolist()\n",
        "    predictions_arr += predictions.tolist()\n",
        "\n",
        "print(my_cm_dec(labels_arr, predictions_arr))\n",
        "print(sum(my_cm_dec(labels_arr, predictions_arr)))\n",
        "\n",
        "print(f'Average Accuracy: {sum(accuracy_arr)/len(accuracy_arr)}')\n",
        "print(f'Average Cost/Loss: {sum(loss_arr)/len(loss_arr)}')\n",
        "print(f'Average F1 score:\\t{np.average(np.array(f1_arr))}')\n",
        "print(f'Average AUC score:\\t{np.average(np.array(auc_arr))}')\n",
        "print(f'Average Recall score:\\t{np.average(np.array(recall_arr))}')\n",
        "print(f'Average Precision score:\\t{np.average(np.array(precision_arr))}')\n"
      ],
      "metadata": {
        "colab": {
          "base_uri": "https://localhost:8080/",
          "height": 649
        },
        "id": "T5R966ZVDtFb",
        "outputId": "30450357-e60a-4f51-96c7-315ce86759ea"
      },
      "execution_count": null,
      "outputs": [
        {
          "output_type": "display_data",
          "data": {
            "text/plain": [
              "<Figure size 432x288 with 2 Axes>"
            ],
            "image/png": "[encoded data removed]"
          },
          "metadata": {
            "needs_background": "light"
          }
        },
        {
          "output_type": "stream",
          "name": "stdout",
          "text": [
            "[2559  373  600 3156]\n"
          ]
        },
        {
          "output_type": "display_data",
          "data": {
            "text/plain": [
              "<Figure size 432x288 with 2 Axes>"
            ],
            "image/png": "[encoded data removed]"
          },
          "metadata": {
            "needs_background": "light"
          }
        },
        {
          "output_type": "stream",
          "name": "stdout",
          "text": [
            "6688\n",
            "Average Accuracy: 0.8649208822705161\n",
            "Average Cost/Loss: 0.3331073820590973\n",
            "Average F1 score:\t0.865537126265796\n",
            "Average AUC score:\t0.8532924395710993\n",
            "Average Recall score:\t0.895469859199443\n",
            "Average Precision score:\t0.8423997265132974\n"
          ]
        }
      ]
    },
    {
      "cell_type": "markdown",
      "source": [
        "Cross Validation"
      ],
      "metadata": {
        "id": "mupDlOaBNJi_"
      }
    },
    {
      "cell_type": "code",
      "source": [
        "def reset_weights(m):\n",
        "  for layer in m.children():\n",
        "   if hasattr(layer, 'reset_parameters'):\n",
        "    print(f'Reset trainable parameters of layer = {layer}')\n",
        "    layer.reset_parameters()"
      ],
      "metadata": {
        "id": "9N8vVf1CGlDm"
      },
      "execution_count": null,
      "outputs": []
    },
    {
      "cell_type": "code",
      "source": [
        "def stdev(test_list):\n",
        "  mean = sum(test_list) / len(test_list)\n",
        "  return (sum([((x - mean) ** 2) for x in test_list]) / len(test_list)) ** 0.5"
      ],
      "metadata": {
        "id": "MJskkOzoGJFR"
      },
      "execution_count": null,
      "outputs": []
    },
    {
      "cell_type": "code",
      "source": [
        "start = time.perf_counter()\n",
        "loss_function = nn.BCELoss()\n",
        "\n",
        "num_batch = 64\n",
        "num_epochs = 10\n",
        "accuracy_arr=[]\n",
        "loss_arr=[]\n",
        "f1_arr = []\n",
        "recall_arr=[]\n",
        "precision_arr=[]\n",
        "labels_arr=[]\n",
        "predictions_arr=[]\n",
        "f1_fold=[]\n",
        "auc_arr=[]\n",
        "for train_index, test_index in kfold.split(X,y):\n",
        "  X_train, X_test = X.iloc[train_index], X.iloc[test_index]\n",
        "  y_train, y_test = y.iloc[train_index], y.iloc[test_index]\n",
        "  train_loader=torch.utils.data.DataLoader(data_class(X_train,y_train),batch_size=num_batch,shuffle=True)\n",
        "  test_loader=torch.utils.data.DataLoader(data_class(X_test,y_test), batch_size=num_batch, shuffle=True)\n",
        "  model = ANN(61, 1)\n",
        "  model.to(device)\n",
        "  model.apply(reset_weights)\n",
        "  optimizer = torch.optim.Adam(model.parameters())\n",
        "  for epoch in range(num_epochs):\n",
        "    for i, (samples,labels) in enumerate (train_loader):\n",
        "      samples = samples.to(device)\n",
        "      labels = labels.to(device)\n",
        "\n",
        "      output = model.forward(samples)\n",
        "      loss = loss_function(output, labels)\n",
        "\n",
        "      optimizer.zero_grad()\n",
        "      loss.backward()\n",
        "      optimizer.step()\n",
        "\n",
        "      if (i+1) % 100 == 0:\n",
        "        print(f'epoch {epoch+1} / {num_epochs}, step {i+1}/{total_steps}, loss = {loss.item():.4f}')\n",
        "      \n",
        "    with torch.no_grad():\n",
        "      corr_num = 0\n",
        "      sample_num=0\n",
        "\n",
        "      for indiv, labels in test_loader:\n",
        "        indiv =   indiv.to(device)\n",
        "        labels = labels.to(device)\n",
        "        \n",
        "        output = model(indiv)\n",
        "\n",
        "        sample_num += labels.shape[0]\n",
        "        predictions = torch.round(output)\n",
        "        corr_num += (predictions == labels).sum().item()\n",
        "\n",
        "\n",
        "\n",
        "        loss = loss_function(output, labels)\n",
        "        loss_arr.append(loss)\n",
        "        accuracy = corr_num / sample_num\n",
        "        accuracy_arr.append(accuracy)\n",
        "\n",
        "        f1 = f1_score(predictions, labels, labels=labels)\n",
        "        f1_arr.append(f1)\n",
        "        recall = recall_score(predictions, labels, labels=labels)\n",
        "        #precision = precision_score(predictions, labels, labels=labels)\n",
        "        auc=roc_auc_score(predictions, labels, labels=labels)\n",
        "        f1_arr.append(f1)\n",
        "        auc_arr.append(auc)\n",
        "        recall_arr.append(recall)\n",
        "        #precision_arr.append(precision)\n",
        "        labels_arr += labels.tolist()\n",
        "        predictions_arr += predictions.tolist()\n",
        "    #print(my_cm_dec(labels_arr, predictions_arr))\n",
        "print(my_cm_dec(labels_arr, predictions_arr))\n",
        "\n",
        "print(f'Average Accuracy: {sum(accuracy_arr)/len(accuracy_arr)}')\n",
        "print(f'Average Cost/Loss: {sum(loss_arr)/len(loss_arr)}')\n",
        "print(f'Average F1 score:\\t{np.average(np.array(f1_arr))}')\n",
        "print(f'Average AUC score:\\t{np.average(np.array(auc_arr))}')\n",
        "print(f'Average Recall score:\\t{np.average(np.array(recall_arr))}')\n",
        "print(f'Average Precision score:\\t{np.average(np.array(precision_arr))}')\n",
        "print(stdev(auc_arr))\n",
        "print(stdev(f1_arr))\n",
        "end = time.perf_counter()\n",
        "print(\"TIME:\",(end-start)/60,\"min\")"
      ],
      "metadata": {
        "colab": {
          "base_uri": "https://localhost:8080/",
          "height": 1000
        },
        "id": "tJkymy7awJ3o",
        "outputId": "6a06c923-af2f-4ee6-af93-02a148d99865"
      },
      "execution_count": null,
      "outputs": [
        {
          "output_type": "stream",
          "name": "stdout",
          "text": [
            "Reset trainable parameters of layer = Linear(in_features=61, out_features=32, bias=True)\n",
            "Reset trainable parameters of layer = Linear(in_features=32, out_features=16, bias=True)\n",
            "Reset trainable parameters of layer = Linear(in_features=16, out_features=8, bias=True)\n",
            "Reset trainable parameters of layer = Linear(in_features=8, out_features=1, bias=True)\n",
            "Reset trainable parameters of layer = BatchNorm1d(8, eps=1e-05, momentum=0.1, affine=True, track_running_stats=True)\n",
            "epoch 1 / 10, step 100/418, loss = 0.6042\n",
            "epoch 1 / 10, step 200/418, loss = 0.6605\n",
            "epoch 1 / 10, step 300/418, loss = 0.5258\n",
            "epoch 1 / 10, step 400/418, loss = 0.4150\n",
            "epoch 2 / 10, step 100/418, loss = 0.4815\n",
            "epoch 2 / 10, step 200/418, loss = 0.4846\n",
            "epoch 2 / 10, step 300/418, loss = 0.4275\n",
            "epoch 2 / 10, step 400/418, loss = 0.3959\n",
            "epoch 3 / 10, step 100/418, loss = 0.4100\n",
            "epoch 3 / 10, step 200/418, loss = 0.4672\n",
            "epoch 3 / 10, step 300/418, loss = 0.3912\n",
            "epoch 3 / 10, step 400/418, loss = 0.3109\n",
            "epoch 4 / 10, step 100/418, loss = 0.4814\n",
            "epoch 4 / 10, step 200/418, loss = 0.4527\n",
            "epoch 4 / 10, step 300/418, loss = 0.4605\n",
            "epoch 4 / 10, step 400/418, loss = 0.3539\n",
            "epoch 5 / 10, step 100/418, loss = 0.2655\n",
            "epoch 5 / 10, step 200/418, loss = 0.4161\n",
            "epoch 5 / 10, step 300/418, loss = 0.3244\n",
            "epoch 5 / 10, step 400/418, loss = 0.2357\n",
            "epoch 6 / 10, step 100/418, loss = 0.3472\n",
            "epoch 6 / 10, step 200/418, loss = 0.2397\n",
            "epoch 6 / 10, step 300/418, loss = 0.3332\n",
            "epoch 6 / 10, step 400/418, loss = 0.3436\n",
            "epoch 7 / 10, step 100/418, loss = 0.2741\n",
            "epoch 7 / 10, step 200/418, loss = 0.3571\n",
            "epoch 7 / 10, step 300/418, loss = 0.2897\n",
            "epoch 7 / 10, step 400/418, loss = 0.2964\n",
            "epoch 8 / 10, step 100/418, loss = 0.2632\n",
            "epoch 8 / 10, step 200/418, loss = 0.2249\n",
            "epoch 8 / 10, step 300/418, loss = 0.3683\n",
            "epoch 8 / 10, step 400/418, loss = 0.3150\n",
            "epoch 9 / 10, step 100/418, loss = 0.2395\n",
            "epoch 9 / 10, step 200/418, loss = 0.4227\n",
            "epoch 9 / 10, step 300/418, loss = 0.2542\n",
            "epoch 9 / 10, step 400/418, loss = 0.2446\n",
            "epoch 10 / 10, step 100/418, loss = 0.3309\n",
            "epoch 10 / 10, step 200/418, loss = 0.3386\n",
            "epoch 10 / 10, step 300/418, loss = 0.2879\n",
            "epoch 10 / 10, step 400/418, loss = 0.2132\n",
            "Reset trainable parameters of layer = Linear(in_features=61, out_features=32, bias=True)\n",
            "Reset trainable parameters of layer = Linear(in_features=32, out_features=16, bias=True)\n",
            "Reset trainable parameters of layer = Linear(in_features=16, out_features=8, bias=True)\n",
            "Reset trainable parameters of layer = Linear(in_features=8, out_features=1, bias=True)\n",
            "Reset trainable parameters of layer = BatchNorm1d(8, eps=1e-05, momentum=0.1, affine=True, track_running_stats=True)\n",
            "epoch 1 / 10, step 100/418, loss = 0.4825\n",
            "epoch 1 / 10, step 200/418, loss = 0.4848\n",
            "epoch 1 / 10, step 300/418, loss = 0.4482\n",
            "epoch 1 / 10, step 400/418, loss = 0.3940\n",
            "epoch 2 / 10, step 100/418, loss = 0.4170\n",
            "epoch 2 / 10, step 200/418, loss = 0.2202\n",
            "epoch 2 / 10, step 300/418, loss = 0.3809\n",
            "epoch 2 / 10, step 400/418, loss = 0.4112\n",
            "epoch 3 / 10, step 100/418, loss = 0.4134\n",
            "epoch 3 / 10, step 200/418, loss = 0.2906\n",
            "epoch 3 / 10, step 300/418, loss = 0.3452\n",
            "epoch 3 / 10, step 400/418, loss = 0.3562\n",
            "epoch 4 / 10, step 100/418, loss = 0.4501\n",
            "epoch 4 / 10, step 200/418, loss = 0.4278\n",
            "epoch 4 / 10, step 300/418, loss = 0.3163\n",
            "epoch 4 / 10, step 400/418, loss = 0.2727\n",
            "epoch 5 / 10, step 100/418, loss = 0.3513\n",
            "epoch 5 / 10, step 200/418, loss = 0.3511\n",
            "epoch 5 / 10, step 300/418, loss = 0.3477\n",
            "epoch 5 / 10, step 400/418, loss = 0.2621\n",
            "epoch 6 / 10, step 100/418, loss = 0.3221\n",
            "epoch 6 / 10, step 200/418, loss = 0.3132\n",
            "epoch 6 / 10, step 300/418, loss = 0.2220\n",
            "epoch 6 / 10, step 400/418, loss = 0.2592\n",
            "epoch 7 / 10, step 100/418, loss = 0.2683\n",
            "epoch 7 / 10, step 200/418, loss = 0.3759\n",
            "epoch 7 / 10, step 300/418, loss = 0.3112\n",
            "epoch 7 / 10, step 400/418, loss = 0.4445\n",
            "epoch 8 / 10, step 100/418, loss = 0.3224\n",
            "epoch 8 / 10, step 200/418, loss = 0.3315\n",
            "epoch 8 / 10, step 300/418, loss = 0.4025\n",
            "epoch 8 / 10, step 400/418, loss = 0.4002\n",
            "epoch 9 / 10, step 100/418, loss = 0.3255\n",
            "epoch 9 / 10, step 200/418, loss = 0.4900\n",
            "epoch 9 / 10, step 300/418, loss = 0.3158\n",
            "epoch 9 / 10, step 400/418, loss = 0.3424\n",
            "epoch 10 / 10, step 100/418, loss = 0.3244\n",
            "epoch 10 / 10, step 200/418, loss = 0.3004\n",
            "epoch 10 / 10, step 300/418, loss = 0.3950\n",
            "epoch 10 / 10, step 400/418, loss = 0.3024\n",
            "Reset trainable parameters of layer = Linear(in_features=61, out_features=32, bias=True)\n",
            "Reset trainable parameters of layer = Linear(in_features=32, out_features=16, bias=True)\n",
            "Reset trainable parameters of layer = Linear(in_features=16, out_features=8, bias=True)\n",
            "Reset trainable parameters of layer = Linear(in_features=8, out_features=1, bias=True)\n",
            "Reset trainable parameters of layer = BatchNorm1d(8, eps=1e-05, momentum=0.1, affine=True, track_running_stats=True)\n",
            "epoch 1 / 10, step 100/418, loss = 0.5414\n",
            "epoch 1 / 10, step 200/418, loss = 0.4461\n",
            "epoch 1 / 10, step 300/418, loss = 0.4025\n",
            "epoch 1 / 10, step 400/418, loss = 0.3693\n",
            "epoch 2 / 10, step 100/418, loss = 0.3492\n",
            "epoch 2 / 10, step 200/418, loss = 0.2712\n",
            "epoch 2 / 10, step 300/418, loss = 0.3544\n",
            "epoch 2 / 10, step 400/418, loss = 0.3532\n",
            "epoch 3 / 10, step 100/418, loss = 0.5062\n",
            "epoch 3 / 10, step 200/418, loss = 0.3797\n",
            "epoch 3 / 10, step 300/418, loss = 0.3422\n",
            "epoch 3 / 10, step 400/418, loss = 0.3897\n",
            "epoch 4 / 10, step 100/418, loss = 0.3461\n",
            "epoch 4 / 10, step 200/418, loss = 0.4183\n",
            "epoch 4 / 10, step 300/418, loss = 0.3845\n",
            "epoch 4 / 10, step 400/418, loss = 0.1906\n",
            "epoch 5 / 10, step 100/418, loss = 0.3417\n",
            "epoch 5 / 10, step 200/418, loss = 0.3205\n",
            "epoch 5 / 10, step 300/418, loss = 0.3617\n",
            "epoch 5 / 10, step 400/418, loss = 0.3028\n",
            "epoch 6 / 10, step 100/418, loss = 0.3329\n",
            "epoch 6 / 10, step 200/418, loss = 0.4100\n",
            "epoch 6 / 10, step 300/418, loss = 0.3632\n",
            "epoch 6 / 10, step 400/418, loss = 0.4232\n",
            "epoch 7 / 10, step 100/418, loss = 0.3978\n",
            "epoch 7 / 10, step 200/418, loss = 0.3233\n",
            "epoch 7 / 10, step 300/418, loss = 0.2517\n",
            "epoch 7 / 10, step 400/418, loss = 0.3514\n",
            "epoch 8 / 10, step 100/418, loss = 0.3364\n",
            "epoch 8 / 10, step 200/418, loss = 0.2539\n",
            "epoch 8 / 10, step 300/418, loss = 0.3950\n",
            "epoch 8 / 10, step 400/418, loss = 0.3706\n",
            "epoch 9 / 10, step 100/418, loss = 0.3675\n",
            "epoch 9 / 10, step 200/418, loss = 0.2975\n",
            "epoch 9 / 10, step 300/418, loss = 0.2720\n",
            "epoch 9 / 10, step 400/418, loss = 0.2913\n",
            "epoch 10 / 10, step 100/418, loss = 0.2836\n",
            "epoch 10 / 10, step 200/418, loss = 0.3397\n",
            "epoch 10 / 10, step 300/418, loss = 0.3869\n",
            "epoch 10 / 10, step 400/418, loss = 0.2639\n",
            "Reset trainable parameters of layer = Linear(in_features=61, out_features=32, bias=True)\n",
            "Reset trainable parameters of layer = Linear(in_features=32, out_features=16, bias=True)\n",
            "Reset trainable parameters of layer = Linear(in_features=16, out_features=8, bias=True)\n",
            "Reset trainable parameters of layer = Linear(in_features=8, out_features=1, bias=True)\n",
            "Reset trainable parameters of layer = BatchNorm1d(8, eps=1e-05, momentum=0.1, affine=True, track_running_stats=True)\n",
            "epoch 1 / 10, step 100/418, loss = 0.5287\n",
            "epoch 1 / 10, step 200/418, loss = 0.4783\n",
            "epoch 1 / 10, step 300/418, loss = 0.4941\n",
            "epoch 1 / 10, step 400/418, loss = 0.3632\n",
            "epoch 2 / 10, step 100/418, loss = 0.3835\n",
            "epoch 2 / 10, step 200/418, loss = 0.3926\n",
            "epoch 2 / 10, step 300/418, loss = 0.4358\n",
            "epoch 2 / 10, step 400/418, loss = 0.4470\n",
            "epoch 3 / 10, step 100/418, loss = 0.3474\n",
            "epoch 3 / 10, step 200/418, loss = 0.3656\n",
            "epoch 3 / 10, step 300/418, loss = 0.4137\n",
            "epoch 3 / 10, step 400/418, loss = 0.3297\n",
            "epoch 4 / 10, step 100/418, loss = 0.3360\n",
            "epoch 4 / 10, step 200/418, loss = 0.3905\n",
            "epoch 4 / 10, step 300/418, loss = 0.3759\n",
            "epoch 4 / 10, step 400/418, loss = 0.3421\n",
            "epoch 5 / 10, step 100/418, loss = 0.3431\n",
            "epoch 5 / 10, step 200/418, loss = 0.3791\n",
            "epoch 5 / 10, step 300/418, loss = 0.3612\n",
            "epoch 5 / 10, step 400/418, loss = 0.4887\n",
            "epoch 6 / 10, step 100/418, loss = 0.3079\n",
            "epoch 6 / 10, step 200/418, loss = 0.2935\n",
            "epoch 6 / 10, step 300/418, loss = 0.3297\n",
            "epoch 6 / 10, step 400/418, loss = 0.3495\n",
            "epoch 7 / 10, step 100/418, loss = 0.3114\n",
            "epoch 7 / 10, step 200/418, loss = 0.4844\n",
            "epoch 7 / 10, step 300/418, loss = 0.2678\n",
            "epoch 7 / 10, step 400/418, loss = 0.3764\n",
            "epoch 8 / 10, step 100/418, loss = 0.4166\n",
            "epoch 8 / 10, step 200/418, loss = 0.3123\n",
            "epoch 8 / 10, step 300/418, loss = 0.2587\n",
            "epoch 8 / 10, step 400/418, loss = 0.3798\n",
            "epoch 9 / 10, step 100/418, loss = 0.3038\n",
            "epoch 9 / 10, step 200/418, loss = 0.2730\n",
            "epoch 9 / 10, step 300/418, loss = 0.4110\n",
            "epoch 9 / 10, step 400/418, loss = 0.3393\n",
            "epoch 10 / 10, step 100/418, loss = 0.4239\n",
            "epoch 10 / 10, step 200/418, loss = 0.5482\n",
            "epoch 10 / 10, step 300/418, loss = 0.2901\n",
            "epoch 10 / 10, step 400/418, loss = 0.2917\n",
            "Reset trainable parameters of layer = Linear(in_features=61, out_features=32, bias=True)\n",
            "Reset trainable parameters of layer = Linear(in_features=32, out_features=16, bias=True)\n",
            "Reset trainable parameters of layer = Linear(in_features=16, out_features=8, bias=True)\n",
            "Reset trainable parameters of layer = Linear(in_features=8, out_features=1, bias=True)\n",
            "Reset trainable parameters of layer = BatchNorm1d(8, eps=1e-05, momentum=0.1, affine=True, track_running_stats=True)\n",
            "epoch 1 / 10, step 100/418, loss = 0.5293\n",
            "epoch 1 / 10, step 200/418, loss = 0.4904\n",
            "epoch 1 / 10, step 300/418, loss = 0.3857\n",
            "epoch 1 / 10, step 400/418, loss = 0.3127\n",
            "epoch 2 / 10, step 100/418, loss = 0.4542\n",
            "epoch 2 / 10, step 200/418, loss = 0.4386\n",
            "epoch 2 / 10, step 300/418, loss = 0.4241\n",
            "epoch 2 / 10, step 400/418, loss = 0.3174\n",
            "epoch 3 / 10, step 100/418, loss = 0.3078\n",
            "epoch 3 / 10, step 200/418, loss = 0.5142\n",
            "epoch 3 / 10, step 300/418, loss = 0.2902\n",
            "epoch 3 / 10, step 400/418, loss = 0.3200\n",
            "epoch 4 / 10, step 100/418, loss = 0.3062\n",
            "epoch 4 / 10, step 200/418, loss = 0.2842\n",
            "epoch 4 / 10, step 300/418, loss = 0.3413\n",
            "epoch 4 / 10, step 400/418, loss = 0.3432\n",
            "epoch 5 / 10, step 100/418, loss = 0.2123\n",
            "epoch 5 / 10, step 200/418, loss = 0.4356\n",
            "epoch 5 / 10, step 300/418, loss = 0.3655\n",
            "epoch 5 / 10, step 400/418, loss = 0.2200\n",
            "epoch 6 / 10, step 100/418, loss = 0.3284\n",
            "epoch 6 / 10, step 200/418, loss = 0.3249\n",
            "epoch 6 / 10, step 300/418, loss = 0.4729\n",
            "epoch 6 / 10, step 400/418, loss = 0.4010\n",
            "epoch 7 / 10, step 100/418, loss = 0.2590\n",
            "epoch 7 / 10, step 200/418, loss = 0.2916\n",
            "epoch 7 / 10, step 300/418, loss = 0.1966\n",
            "epoch 7 / 10, step 400/418, loss = 0.3469\n",
            "epoch 8 / 10, step 100/418, loss = 0.2985\n",
            "epoch 8 / 10, step 200/418, loss = 0.2509\n",
            "epoch 8 / 10, step 300/418, loss = 0.1989\n",
            "epoch 8 / 10, step 400/418, loss = 0.3962\n",
            "epoch 9 / 10, step 100/418, loss = 0.2818\n",
            "epoch 9 / 10, step 200/418, loss = 0.3127\n",
            "epoch 9 / 10, step 300/418, loss = 0.2885\n",
            "epoch 9 / 10, step 400/418, loss = 0.2905\n",
            "epoch 10 / 10, step 100/418, loss = 0.3804\n",
            "epoch 10 / 10, step 200/418, loss = 0.4971\n",
            "epoch 10 / 10, step 300/418, loss = 0.2693\n",
            "epoch 10 / 10, step 400/418, loss = 0.3551\n"
          ]
        },
        {
          "output_type": "display_data",
          "data": {
            "text/plain": [
              "<Figure size 432x288 with 2 Axes>"
            ],
            "image/png": "[encoded data removed]"
          },
          "metadata": {
            "needs_background": "light"
          }
        },
        {
          "output_type": "stream",
          "name": "stdout",
          "text": [
            "[123974  22096  31521 156789]\n",
            "Average Accuracy: 0.8404216130228767\n",
            "Average Cost/Loss: 0.3546333312988281\n",
            "Average F1 score:\t0.8532162956620281\n",
            "Average AUC score:\t0.8377158206702209\n",
            "Average Recall score:\t0.8775623122939497\n",
            "Average Precision score:\tnan\n",
            "0.047838231849497724\n",
            "0.045527598054456074\n",
            "TIME: 1.1463562659833353 min\n"
          ]
        },
        {
          "output_type": "stream",
          "name": "stderr",
          "text": [
            "/usr/local/lib/python3.8/dist-packages/numpy/lib/function_base.py:380: RuntimeWarning: Mean of empty slice.\n",
            "  avg = a.mean(axis)\n",
            "/usr/local/lib/python3.8/dist-packages/numpy/core/_methods.py:189: RuntimeWarning: invalid value encountered in double_scalars\n",
            "  ret = ret.dtype.type(ret / rcount)\n"
          ]
        }
      ]
    },
    {
      "cell_type": "code",
      "source": [
        "labels=np.array(labels_arr).flatten()\n",
        "predictions=np.array(predictions_arr).flatten()"
      ],
      "metadata": {
        "id": "Be7ai7XbefkA"
      },
      "execution_count": null,
      "outputs": []
    },
    {
      "cell_type": "code",
      "source": [
        "state=data[[\"st_AK\",\n",
        "\"st_AL\",\n",
        "\"st_AR\",\n",
        "\"st_AZ\",\n",
        "\"st_CA\",\n",
        "\"st_CO\",\n",
        "\"st_CT\",\n",
        "\"st_DC\",\n",
        "\"st_DE\",\n",
        "\"st_FL\",\n",
        "\"st_GA\",\n",
        "\"st_HI\",\n",
        "\"st_IA\",\n",
        "\"st_ID\",\n",
        "\"st_IL\",\n",
        "\"st_IN\",\n",
        "\"st_KS\",\n",
        "\"st_KY\",\n",
        "\"st_LA\",\n",
        "\"st_MA\",\n",
        "\"st_MD\",\n",
        "\"st_ME\",\n",
        "\"st_MI\",\n",
        "\"st_MN\",\n",
        "\"st_MO\",\n",
        "\"st_MS\",\n",
        "\"st_MT\",\n",
        "\"st_NC\",\n",
        "\"st_ND\",\n",
        "\"st_NE\",\n",
        "\"st_NH\",\n",
        "\"st_NJ\",\n",
        "\"st_NM\",\n",
        "\"st_NV\",\n",
        "\"st_NY\",\n",
        "\"st_OH\",\n",
        "\"st_OK\",\n",
        "\"st_OR\",\n",
        "\"st_PA\",\n",
        "\"st_PR\",\n",
        "\"st_RI\",\n",
        "\"st_SC\",\n",
        "\"st_SD\",\n",
        "\"st_TN\",\n",
        "\"st_TX\",\n",
        "\"st_UT\",\n",
        "\"st_VA\",\n",
        "\"st_VT\",\n",
        "\"st_WA\",\n",
        "\"st_WI\",\n",
        "\"st_WV\",\n",
        "\"st_WY\"]].idxmax(axis=1)\n",
        "\n",
        "mapping={\"st_AK\":\"West\",\n",
        "\"st_AZ\":\"West\",\n",
        "\"st_CA\":\"West\",\n",
        "\"st_CO\":\"West\",\n",
        "\"st_HI\":\"West\",\n",
        "\"st_ID\":\"West\",\n",
        "\"st_MT\":\"West\",\n",
        "\"st_NM\":\"West\",\n",
        "\"st_NV\":\"West\",\n",
        "\"st_OR\":\"West\",\n",
        "\"st_UT\":\"West\",\n",
        "\"st_WA\":\"West\",\n",
        "\"st_WY\":\"West\",\n",
        "\"st_AL\":\"South\",\n",
        "\"st_AR\":\"South\",\n",
        "\"st_DC\":\"South\",\n",
        "\"st_DE\":\"South\",\n",
        "\"st_FL\":\"South\",\n",
        "\"st_GA\":\"South\",\n",
        "\"st_KY\":\"South\",\n",
        "\"st_LA\":\"South\",\n",
        "\"st_MD\":\"South\",\n",
        "\"st_MS\":\"South\",\n",
        "\"st_NC\":\"South\",\n",
        "\"st_OK\":\"South\",\n",
        "\"st_PR\":\"South\",\n",
        "\"st_SC\":\"South\",\n",
        "\"st_TN\":\"South\",\n",
        "\"st_TX\":\"South\",\n",
        "\"st_VA\":\"South\",\n",
        "\"st_WV\":\"South\",\n",
        "\"st_CT\":\"Northeast\",\n",
        "\"st_ME\":\"Northeast\",\n",
        "\"st_MA\":\"Northeast\",\n",
        "\"st_NH\":\"Northeast\",\n",
        "\"st_NJ\":\"Northeast\",\n",
        "\"st_NY\":\"Northeast\",\n",
        "\"st_PA\":\"Northeast\",\n",
        "\"st_RI\":\"Northeast\",\n",
        "\"st_VT\":\"Northeast\",\n",
        "\"st_IA\":\"Midwest\",\n",
        "\"st_IL\":\"Midwest\",\n",
        "\"st_IN\":\"Midwest\",\n",
        "\"st_KS\":\"Midwest\",\n",
        "\"st_MI\":\"Midwest\",\n",
        "\"st_MN\":\"Midwest\",\n",
        "\"st_MO\":\"Midwest\",\n",
        "\"st_ND\":\"Midwest\",\n",
        "\"st_NE\":\"Midwest\",\n",
        "\"st_OH\":\"Midwest\",\n",
        "\"st_SD\":\"Midwest\",\n",
        "\"st_WI\":\"Midwest\"\n",
        "}\n",
        "region =state.map(mapping)"
      ],
      "metadata": {
        "id": "RDceAnwrfTdU"
      },
      "execution_count": null,
      "outputs": []
    },
    {
      "cell_type": "code",
      "source": [
        "print(\"Female by Percenct\")\n",
        "\n",
        "print(my_cm_dec(labels[X.index[X['sex_female'] == True].tolist()],predictions[X.index[X['sex_female'] == True].tolist()]))\n",
        "plt.show()\n",
        "print(\"Male by Percenct\")\n",
        "print(my_cm_dec(labels[X.index[X['sex_male'] == True].tolist()],predictions[X.index[X['sex_male'] == True].tolist()]))\n",
        "plt.show()\n",
        "\n",
        "for i in ['South', 'Midwest', \"Northeast\", 'West']:\n",
        "  print(\"Breakdown by {}\".format(i))\n",
        "  print(my_cm_dec(labels[region.index[region == i]], predictions[region.index[region == i]]))\n",
        "  plt.show()\n",
        "\n",
        "for i in ['white', 'blkafram']:\n",
        "  print(\"Breakdown by {}\".format(i))\n",
        "\n",
        "  print(\"YES - By percent\")\n",
        "  print(my_cm_dec(labels[X.index[X[i+'_yes']==True].tolist()],predictions[X.index[X[i+'_yes'] == True].tolist()]))\n",
        "  plt.show()\n",
        "\n",
        "  print(\"NO - by percent\")\n",
        "  print(my_cm_dec(labels[X.index[X[i+'_no'] == True].tolist()],predictions[X.index[X[i+'_no'] == True].tolist()]))\n",
        "  plt.show()"
      ],
      "metadata": {
        "id": "8l9siW7tEEkb",
        "colab": {
          "base_uri": "https://localhost:8080/",
          "height": 1000
        },
        "outputId": "6aa9dde8-f810-4804-ab11-fe62ad2cbf58"
      },
      "execution_count": null,
      "outputs": [
        {
          "output_type": "stream",
          "name": "stdout",
          "text": [
            "Female by Percenct\n"
          ]
        },
        {
          "output_type": "display_data",
          "data": {
            "text/plain": [
              "<Figure size 432x288 with 2 Axes>"
            ],
            "image/png": "[encoded data removed]"
          },
          "metadata": {
            "needs_background": "light"
          }
        },
        {
          "output_type": "stream",
          "name": "stdout",
          "text": [
            "[5882 1079 1577 9668]\n",
            "Male by Percenct\n"
          ]
        },
        {
          "output_type": "display_data",
          "data": {
            "text/plain": [
              "<Figure size 432x288 with 2 Axes>"
            ],
            "image/png": "[encoded data removed]"
          },
          "metadata": {
            "needs_background": "light"
          }
        },
        {
          "output_type": "stream",
          "name": "stdout",
          "text": [
            "[5797 1059 1431 9449]\n",
            "Breakdown by South\n"
          ]
        },
        {
          "output_type": "display_data",
          "data": {
            "text/plain": [
              "<Figure size 432x288 with 2 Axes>"
            ],
            "image/png": "[encoded data removed]"
          },
          "metadata": {
            "needs_background": "light"
          }
        },
        {
          "output_type": "stream",
          "name": "stdout",
          "text": [
            "[5464 1055 1459 8896]\n",
            "Breakdown by Midwest\n"
          ]
        },
        {
          "output_type": "display_data",
          "data": {
            "text/plain": [
              "<Figure size 432x288 with 2 Axes>"
            ],
            "image/png": "[encoded data removed]"
          },
          "metadata": {
            "needs_background": "light"
          }
        },
        {
          "output_type": "stream",
          "name": "stdout",
          "text": [
            "[3406  659  942 5733]\n",
            "Breakdown by Northeast\n"
          ]
        },
        {
          "output_type": "display_data",
          "data": {
            "text/plain": [
              "<Figure size 432x288 with 2 Axes>"
            ],
            "image/png": "[encoded data removed]"
          },
          "metadata": {
            "needs_background": "light"
          }
        },
        {
          "output_type": "stream",
          "name": "stdout",
          "text": [
            "[2157  438  566 3416]\n",
            "Breakdown by West\n"
          ]
        },
        {
          "output_type": "display_data",
          "data": {
            "text/plain": [
              "<Figure size 432x288 with 2 Axes>"
            ],
            "image/png": "[encoded data removed]"
          },
          "metadata": {
            "needs_background": "light"
          }
        },
        {
          "output_type": "stream",
          "name": "stdout",
          "text": [
            "[3584  689  916 5984]\n",
            "Breakdown by white\n",
            "YES - By percent\n"
          ]
        },
        {
          "output_type": "display_data",
          "data": {
            "text/plain": [
              "<Figure size 432x288 with 2 Axes>"
            ],
            "image/png": "[encoded data removed]"
          },
          "metadata": {
            "needs_background": "light"
          }
        },
        {
          "output_type": "stream",
          "name": "stdout",
          "text": [
            "[ 8017  1452  2051 13259]\n",
            "NO - by percent\n"
          ]
        },
        {
          "output_type": "display_data",
          "data": {
            "text/plain": [
              "<Figure size 432x288 with 2 Axes>"
            ],
            "image/png": "[encoded data removed]"
          },
          "metadata": {
            "needs_background": "light"
          }
        },
        {
          "output_type": "stream",
          "name": "stdout",
          "text": [
            "[4042  754 1057 6500]\n",
            "Breakdown by blkafram\n",
            "YES - By percent\n"
          ]
        },
        {
          "output_type": "display_data",
          "data": {
            "text/plain": [
              "<Figure size 432x288 with 2 Axes>"
            ],
            "image/png": "[encoded data removed]"
          },
          "metadata": {
            "needs_background": "light"
          }
        },
        {
          "output_type": "stream",
          "name": "stdout",
          "text": [
            "[3903  720 1006 6243]\n",
            "NO - by percent\n"
          ]
        },
        {
          "output_type": "display_data",
          "data": {
            "text/plain": [
              "<Figure size 432x288 with 2 Axes>"
            ],
            "image/png": "[encoded data removed]"
          },
          "metadata": {
            "needs_background": "light"
          }
        },
        {
          "output_type": "stream",
          "name": "stdout",
          "text": [
            "[ 8143  1486  2097 13434]\n"
          ]
        }
      ]
    }
  ]
}