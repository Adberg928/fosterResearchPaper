{
  "nbformat": 4,
  "nbformat_minor": 0,
  "metadata": {
    "colab": {
      "provenance": []
    },
    "kernelspec": {
      "name": "python3",
      "display_name": "Python 3"
    },
    "language_info": {
      "name": "python"
    }
  },
  "cells": [
    {
      "cell_type": "code",
      "execution_count": null,
      "metadata": {
        "colab": {
          "base_uri": "https://localhost:8080/"
        },
        "id": "7gN2lxib61uN",
        "outputId": "8beb98a4-6261-46f8-c3ee-5db47ea2bc51"
      },
      "outputs": [
        {
          "output_type": "stream",
          "name": "stdout",
          "text": [
            "Drive already mounted at /content/drive/; to attempt to forcibly remount, call drive.mount(\"/content/drive/\", force_remount=True).\n",
            "[Errno 2] No such file or directory: 'drive/Shareddrives/CSCI 461'\n",
            "/content/drive/Shareddrives/CSCI 461\n",
            " processed/cohort_miss.csv\n",
            " processed/combined_ohe_17.csv\n",
            " processed/combined_ohe.csv\n",
            " processed/condacolab_install.log\n",
            " processed/data_with_dummies_zoe.csv\n",
            " processed/data.zip\n",
            "'processed/Feature Selection + Exploration (Services)'\n",
            " processed/gz_2010_us_040_00_5m.json\n",
            " processed/processed_data_zoe.csv\n",
            " processed/recnumbr_services_2011.csv\n",
            " processed/recnumbr_services_2014.csv\n",
            " processed/recnumbr_services_2017.csv\n",
            " processed/recnumbr_services_2020.csv\n",
            "'processed/Services Use Viz (Attempt)'\n",
            " processed/stormhistory.csv\n",
            " processed/us_states.shp\n",
            " processed/us_states.shx\n",
            "\n",
            "processed/data:\n",
            "ne_110m_admin_0_countries.cpg          ne_110m_admin_0_countries.shp\n",
            "ne_110m_admin_0_countries.dbf          ne_110m_admin_0_countries.shx\n",
            "ne_110m_admin_0_countries.prj          ne_110m_admin_0_countries.VERSION.txt\n",
            "ne_110m_admin_0_countries.README.html\n"
          ]
        }
      ],
      "source": [
        "# mount drive\n",
        "from google.colab import drive\n",
        "drive.mount('/content/drive/')\n",
        "%cd 'drive/Shareddrives/CSCI 461'\n",
        "%ls processed/*\n",
        "\n",
        "from sklearn.preprocessing import OneHotEncoder\n",
        "from sklearn.linear_model import LinearRegression\n",
        "import pandas as pd\n",
        "import numpy as np\n",
        "import os\n",
        "import seaborn as sns\n",
        "from datetime import datetime\n",
        "import matplotlib.pyplot as plt\n"
      ]
    },
    {
      "cell_type": "code",
      "source": [
        "COLOR_BLUEISH = '#5A9'\n",
        "cmap_blueish=sns.light_palette(COLOR_BLUEISH, as_cmap=True)"
      ],
      "metadata": {
        "id": "eA1I9KQ4qQmw"
      },
      "execution_count": null,
      "outputs": []
    },
    {
      "cell_type": "code",
      "source": [
        "# services = pd.read_csv('processed/services.csv')\n",
        "fostercare = pd.read_csv('processed/fostercare.csv')\n",
        "merged = pd.read_csv('processed/fostercare.services.csv')\n",
        "merged.columns"
      ],
      "metadata": {
        "colab": {
          "base_uri": "https://localhost:8080/",
          "height": 381
        },
        "id": "Nv3ELOl4Hfxf",
        "outputId": "31d16a48-a621-4f7e-f730-039b0f8aa82c"
      },
      "execution_count": null,
      "outputs": [
        {
          "output_type": "error",
          "ename": "FileNotFoundError",
          "evalue": "ignored",
          "traceback": [
            "\u001b[0;31m---------------------------------------------------------------------------\u001b[0m",
            "\u001b[0;31mFileNotFoundError\u001b[0m                         Traceback (most recent call last)",
            "\u001b[0;32m<ipython-input-6-b5d40db3ac87>\u001b[0m in \u001b[0;36m<module>\u001b[0;34m\u001b[0m\n\u001b[1;32m      1\u001b[0m \u001b[0;31m# services = pd.read_csv('processed/services.csv')\u001b[0m\u001b[0;34m\u001b[0m\u001b[0;34m\u001b[0m\u001b[0;34m\u001b[0m\u001b[0m\n\u001b[0;32m----> 2\u001b[0;31m \u001b[0mfostercare\u001b[0m \u001b[0;34m=\u001b[0m \u001b[0mpd\u001b[0m\u001b[0;34m.\u001b[0m\u001b[0mread_csv\u001b[0m\u001b[0;34m(\u001b[0m\u001b[0;34m'processed/fostercare.csv'\u001b[0m\u001b[0;34m)\u001b[0m\u001b[0;34m\u001b[0m\u001b[0;34m\u001b[0m\u001b[0m\n\u001b[0m\u001b[1;32m      3\u001b[0m \u001b[0mmerged\u001b[0m \u001b[0;34m=\u001b[0m \u001b[0mpd\u001b[0m\u001b[0;34m.\u001b[0m\u001b[0mread_csv\u001b[0m\u001b[0;34m(\u001b[0m\u001b[0;34m'processed/fostercare.services.csv'\u001b[0m\u001b[0;34m)\u001b[0m\u001b[0;34m\u001b[0m\u001b[0;34m\u001b[0m\u001b[0m\n\u001b[1;32m      4\u001b[0m \u001b[0mmerged\u001b[0m\u001b[0;34m.\u001b[0m\u001b[0mcolumns\u001b[0m\u001b[0;34m\u001b[0m\u001b[0;34m\u001b[0m\u001b[0m\n",
            "\u001b[0;32m/usr/local/lib/python3.7/dist-packages/pandas/util/_decorators.py\u001b[0m in \u001b[0;36mwrapper\u001b[0;34m(*args, **kwargs)\u001b[0m\n\u001b[1;32m    309\u001b[0m                     \u001b[0mstacklevel\u001b[0m\u001b[0;34m=\u001b[0m\u001b[0mstacklevel\u001b[0m\u001b[0;34m,\u001b[0m\u001b[0;34m\u001b[0m\u001b[0;34m\u001b[0m\u001b[0m\n\u001b[1;32m    310\u001b[0m                 )\n\u001b[0;32m--> 311\u001b[0;31m             \u001b[0;32mreturn\u001b[0m \u001b[0mfunc\u001b[0m\u001b[0;34m(\u001b[0m\u001b[0;34m*\u001b[0m\u001b[0margs\u001b[0m\u001b[0;34m,\u001b[0m \u001b[0;34m**\u001b[0m\u001b[0mkwargs\u001b[0m\u001b[0;34m)\u001b[0m\u001b[0;34m\u001b[0m\u001b[0;34m\u001b[0m\u001b[0m\n\u001b[0m\u001b[1;32m    312\u001b[0m \u001b[0;34m\u001b[0m\u001b[0m\n\u001b[1;32m    313\u001b[0m         \u001b[0;32mreturn\u001b[0m \u001b[0mwrapper\u001b[0m\u001b[0;34m\u001b[0m\u001b[0;34m\u001b[0m\u001b[0m\n",
            "\u001b[0;32m/usr/local/lib/python3.7/dist-packages/pandas/io/parsers/readers.py\u001b[0m in \u001b[0;36mread_csv\u001b[0;34m(filepath_or_buffer, sep, delimiter, header, names, index_col, usecols, squeeze, prefix, mangle_dupe_cols, dtype, engine, converters, true_values, false_values, skipinitialspace, skiprows, skipfooter, nrows, na_values, keep_default_na, na_filter, verbose, skip_blank_lines, parse_dates, infer_datetime_format, keep_date_col, date_parser, dayfirst, cache_dates, iterator, chunksize, compression, thousands, decimal, lineterminator, quotechar, quoting, doublequote, escapechar, comment, encoding, encoding_errors, dialect, error_bad_lines, warn_bad_lines, on_bad_lines, delim_whitespace, low_memory, memory_map, float_precision, storage_options)\u001b[0m\n\u001b[1;32m    584\u001b[0m     \u001b[0mkwds\u001b[0m\u001b[0;34m.\u001b[0m\u001b[0mupdate\u001b[0m\u001b[0;34m(\u001b[0m\u001b[0mkwds_defaults\u001b[0m\u001b[0;34m)\u001b[0m\u001b[0;34m\u001b[0m\u001b[0;34m\u001b[0m\u001b[0m\n\u001b[1;32m    585\u001b[0m \u001b[0;34m\u001b[0m\u001b[0m\n\u001b[0;32m--> 586\u001b[0;31m     \u001b[0;32mreturn\u001b[0m \u001b[0m_read\u001b[0m\u001b[0;34m(\u001b[0m\u001b[0mfilepath_or_buffer\u001b[0m\u001b[0;34m,\u001b[0m \u001b[0mkwds\u001b[0m\u001b[0;34m)\u001b[0m\u001b[0;34m\u001b[0m\u001b[0;34m\u001b[0m\u001b[0m\n\u001b[0m\u001b[1;32m    587\u001b[0m \u001b[0;34m\u001b[0m\u001b[0m\n\u001b[1;32m    588\u001b[0m \u001b[0;34m\u001b[0m\u001b[0m\n",
            "\u001b[0;32m/usr/local/lib/python3.7/dist-packages/pandas/io/parsers/readers.py\u001b[0m in \u001b[0;36m_read\u001b[0;34m(filepath_or_buffer, kwds)\u001b[0m\n\u001b[1;32m    480\u001b[0m \u001b[0;34m\u001b[0m\u001b[0m\n\u001b[1;32m    481\u001b[0m     \u001b[0;31m# Create the parser.\u001b[0m\u001b[0;34m\u001b[0m\u001b[0;34m\u001b[0m\u001b[0;34m\u001b[0m\u001b[0m\n\u001b[0;32m--> 482\u001b[0;31m     \u001b[0mparser\u001b[0m \u001b[0;34m=\u001b[0m \u001b[0mTextFileReader\u001b[0m\u001b[0;34m(\u001b[0m\u001b[0mfilepath_or_buffer\u001b[0m\u001b[0;34m,\u001b[0m \u001b[0;34m**\u001b[0m\u001b[0mkwds\u001b[0m\u001b[0;34m)\u001b[0m\u001b[0;34m\u001b[0m\u001b[0;34m\u001b[0m\u001b[0m\n\u001b[0m\u001b[1;32m    483\u001b[0m \u001b[0;34m\u001b[0m\u001b[0m\n\u001b[1;32m    484\u001b[0m     \u001b[0;32mif\u001b[0m \u001b[0mchunksize\u001b[0m \u001b[0;32mor\u001b[0m \u001b[0miterator\u001b[0m\u001b[0;34m:\u001b[0m\u001b[0;34m\u001b[0m\u001b[0;34m\u001b[0m\u001b[0m\n",
            "\u001b[0;32m/usr/local/lib/python3.7/dist-packages/pandas/io/parsers/readers.py\u001b[0m in \u001b[0;36m__init__\u001b[0;34m(self, f, engine, **kwds)\u001b[0m\n\u001b[1;32m    809\u001b[0m             \u001b[0mself\u001b[0m\u001b[0;34m.\u001b[0m\u001b[0moptions\u001b[0m\u001b[0;34m[\u001b[0m\u001b[0;34m\"has_index_names\"\u001b[0m\u001b[0;34m]\u001b[0m \u001b[0;34m=\u001b[0m \u001b[0mkwds\u001b[0m\u001b[0;34m[\u001b[0m\u001b[0;34m\"has_index_names\"\u001b[0m\u001b[0;34m]\u001b[0m\u001b[0;34m\u001b[0m\u001b[0;34m\u001b[0m\u001b[0m\n\u001b[1;32m    810\u001b[0m \u001b[0;34m\u001b[0m\u001b[0m\n\u001b[0;32m--> 811\u001b[0;31m         \u001b[0mself\u001b[0m\u001b[0;34m.\u001b[0m\u001b[0m_engine\u001b[0m \u001b[0;34m=\u001b[0m \u001b[0mself\u001b[0m\u001b[0;34m.\u001b[0m\u001b[0m_make_engine\u001b[0m\u001b[0;34m(\u001b[0m\u001b[0mself\u001b[0m\u001b[0;34m.\u001b[0m\u001b[0mengine\u001b[0m\u001b[0;34m)\u001b[0m\u001b[0;34m\u001b[0m\u001b[0;34m\u001b[0m\u001b[0m\n\u001b[0m\u001b[1;32m    812\u001b[0m \u001b[0;34m\u001b[0m\u001b[0m\n\u001b[1;32m    813\u001b[0m     \u001b[0;32mdef\u001b[0m \u001b[0mclose\u001b[0m\u001b[0;34m(\u001b[0m\u001b[0mself\u001b[0m\u001b[0;34m)\u001b[0m\u001b[0;34m:\u001b[0m\u001b[0;34m\u001b[0m\u001b[0;34m\u001b[0m\u001b[0m\n",
            "\u001b[0;32m/usr/local/lib/python3.7/dist-packages/pandas/io/parsers/readers.py\u001b[0m in \u001b[0;36m_make_engine\u001b[0;34m(self, engine)\u001b[0m\n\u001b[1;32m   1038\u001b[0m             )\n\u001b[1;32m   1039\u001b[0m         \u001b[0;31m# error: Too many arguments for \"ParserBase\"\u001b[0m\u001b[0;34m\u001b[0m\u001b[0;34m\u001b[0m\u001b[0;34m\u001b[0m\u001b[0m\n\u001b[0;32m-> 1040\u001b[0;31m         \u001b[0;32mreturn\u001b[0m \u001b[0mmapping\u001b[0m\u001b[0;34m[\u001b[0m\u001b[0mengine\u001b[0m\u001b[0;34m]\u001b[0m\u001b[0;34m(\u001b[0m\u001b[0mself\u001b[0m\u001b[0;34m.\u001b[0m\u001b[0mf\u001b[0m\u001b[0;34m,\u001b[0m \u001b[0;34m**\u001b[0m\u001b[0mself\u001b[0m\u001b[0;34m.\u001b[0m\u001b[0moptions\u001b[0m\u001b[0;34m)\u001b[0m  \u001b[0;31m# type: ignore[call-arg]\u001b[0m\u001b[0;34m\u001b[0m\u001b[0;34m\u001b[0m\u001b[0m\n\u001b[0m\u001b[1;32m   1041\u001b[0m \u001b[0;34m\u001b[0m\u001b[0m\n\u001b[1;32m   1042\u001b[0m     \u001b[0;32mdef\u001b[0m \u001b[0m_failover_to_python\u001b[0m\u001b[0;34m(\u001b[0m\u001b[0mself\u001b[0m\u001b[0;34m)\u001b[0m\u001b[0;34m:\u001b[0m\u001b[0;34m\u001b[0m\u001b[0;34m\u001b[0m\u001b[0m\n",
            "\u001b[0;32m/usr/local/lib/python3.7/dist-packages/pandas/io/parsers/c_parser_wrapper.py\u001b[0m in \u001b[0;36m__init__\u001b[0;34m(self, src, **kwds)\u001b[0m\n\u001b[1;32m     49\u001b[0m \u001b[0;34m\u001b[0m\u001b[0m\n\u001b[1;32m     50\u001b[0m         \u001b[0;31m# open handles\u001b[0m\u001b[0;34m\u001b[0m\u001b[0;34m\u001b[0m\u001b[0;34m\u001b[0m\u001b[0m\n\u001b[0;32m---> 51\u001b[0;31m         \u001b[0mself\u001b[0m\u001b[0;34m.\u001b[0m\u001b[0m_open_handles\u001b[0m\u001b[0;34m(\u001b[0m\u001b[0msrc\u001b[0m\u001b[0;34m,\u001b[0m \u001b[0mkwds\u001b[0m\u001b[0;34m)\u001b[0m\u001b[0;34m\u001b[0m\u001b[0;34m\u001b[0m\u001b[0m\n\u001b[0m\u001b[1;32m     52\u001b[0m         \u001b[0;32massert\u001b[0m \u001b[0mself\u001b[0m\u001b[0;34m.\u001b[0m\u001b[0mhandles\u001b[0m \u001b[0;32mis\u001b[0m \u001b[0;32mnot\u001b[0m \u001b[0;32mNone\u001b[0m\u001b[0;34m\u001b[0m\u001b[0;34m\u001b[0m\u001b[0m\n\u001b[1;32m     53\u001b[0m \u001b[0;34m\u001b[0m\u001b[0m\n",
            "\u001b[0;32m/usr/local/lib/python3.7/dist-packages/pandas/io/parsers/base_parser.py\u001b[0m in \u001b[0;36m_open_handles\u001b[0;34m(self, src, kwds)\u001b[0m\n\u001b[1;32m    227\u001b[0m             \u001b[0mmemory_map\u001b[0m\u001b[0;34m=\u001b[0m\u001b[0mkwds\u001b[0m\u001b[0;34m.\u001b[0m\u001b[0mget\u001b[0m\u001b[0;34m(\u001b[0m\u001b[0;34m\"memory_map\"\u001b[0m\u001b[0;34m,\u001b[0m \u001b[0;32mFalse\u001b[0m\u001b[0;34m)\u001b[0m\u001b[0;34m,\u001b[0m\u001b[0;34m\u001b[0m\u001b[0;34m\u001b[0m\u001b[0m\n\u001b[1;32m    228\u001b[0m             \u001b[0mstorage_options\u001b[0m\u001b[0;34m=\u001b[0m\u001b[0mkwds\u001b[0m\u001b[0;34m.\u001b[0m\u001b[0mget\u001b[0m\u001b[0;34m(\u001b[0m\u001b[0;34m\"storage_options\"\u001b[0m\u001b[0;34m,\u001b[0m \u001b[0;32mNone\u001b[0m\u001b[0;34m)\u001b[0m\u001b[0;34m,\u001b[0m\u001b[0;34m\u001b[0m\u001b[0;34m\u001b[0m\u001b[0m\n\u001b[0;32m--> 229\u001b[0;31m             \u001b[0merrors\u001b[0m\u001b[0;34m=\u001b[0m\u001b[0mkwds\u001b[0m\u001b[0;34m.\u001b[0m\u001b[0mget\u001b[0m\u001b[0;34m(\u001b[0m\u001b[0;34m\"encoding_errors\"\u001b[0m\u001b[0;34m,\u001b[0m \u001b[0;34m\"strict\"\u001b[0m\u001b[0;34m)\u001b[0m\u001b[0;34m,\u001b[0m\u001b[0;34m\u001b[0m\u001b[0;34m\u001b[0m\u001b[0m\n\u001b[0m\u001b[1;32m    230\u001b[0m         )\n\u001b[1;32m    231\u001b[0m \u001b[0;34m\u001b[0m\u001b[0m\n",
            "\u001b[0;32m/usr/local/lib/python3.7/dist-packages/pandas/io/common.py\u001b[0m in \u001b[0;36mget_handle\u001b[0;34m(path_or_buf, mode, encoding, compression, memory_map, is_text, errors, storage_options)\u001b[0m\n\u001b[1;32m    705\u001b[0m                 \u001b[0mencoding\u001b[0m\u001b[0;34m=\u001b[0m\u001b[0mioargs\u001b[0m\u001b[0;34m.\u001b[0m\u001b[0mencoding\u001b[0m\u001b[0;34m,\u001b[0m\u001b[0;34m\u001b[0m\u001b[0;34m\u001b[0m\u001b[0m\n\u001b[1;32m    706\u001b[0m                 \u001b[0merrors\u001b[0m\u001b[0;34m=\u001b[0m\u001b[0merrors\u001b[0m\u001b[0;34m,\u001b[0m\u001b[0;34m\u001b[0m\u001b[0;34m\u001b[0m\u001b[0m\n\u001b[0;32m--> 707\u001b[0;31m                 \u001b[0mnewline\u001b[0m\u001b[0;34m=\u001b[0m\u001b[0;34m\"\"\u001b[0m\u001b[0;34m,\u001b[0m\u001b[0;34m\u001b[0m\u001b[0;34m\u001b[0m\u001b[0m\n\u001b[0m\u001b[1;32m    708\u001b[0m             )\n\u001b[1;32m    709\u001b[0m         \u001b[0;32melse\u001b[0m\u001b[0;34m:\u001b[0m\u001b[0;34m\u001b[0m\u001b[0;34m\u001b[0m\u001b[0m\n",
            "\u001b[0;31mFileNotFoundError\u001b[0m: [Errno 2] No such file or directory: 'processed/fostercare.csv'"
          ]
        }
      ]
    },
    {
      "cell_type": "code",
      "source": [
        "# services.head(1)"
      ],
      "metadata": {
        "id": "pXag791VBv1P"
      },
      "execution_count": null,
      "outputs": []
    },
    {
      "cell_type": "code",
      "source": [
        "merged['num_surveyed'].median()"
      ],
      "metadata": {
        "id": "lML_y_wb941x"
      },
      "execution_count": null,
      "outputs": []
    },
    {
      "cell_type": "code",
      "source": [
        "fig = plt.figure(figsize =(7, 2))\n",
        "ax=sns.boxplot(data=merged, x='num_surveyed', color=COLOR_BLUEISH)\n",
        "# ax.set(xlabel='Number of Surveys per Participant')\n",
        "ax.set_title('Number of Surveys per Participant')\n",
        "plt.savefig('img/02_num_surveys.png', bbox_inches='tight')"
      ],
      "metadata": {
        "id": "dpg2gbd39L_H"
      },
      "execution_count": null,
      "outputs": []
    },
    {
      "cell_type": "code",
      "source": [
        "fig = plt.figure(figsize =(7, 10))\n",
        "\n",
        "grouped = merged.loc[:,['st', 'num_surveyed']] \\\n",
        "    .groupby(['st']) \\\n",
        "    .median() \\\n",
        "    .sort_values(by='num_surveyed')\n",
        "    \n",
        "ax=sns.boxplot(data=merged, x='num_surveyed', y='st', order=grouped.index[-20:], palette=\"light:\"+COLOR_BLUEISH)\n",
        "ax.set(xlabel='Number of Surveys per Participant', ylabel='State')\n",
        "ax.set_title('Top 20 States by Median Number of Surveys per Participant')\n",
        "plt.savefig('img/03_states_by_num_surveys.png', bbox_inches='tight')\n"
      ],
      "metadata": {
        "id": "-YLN-mIAHWmc"
      },
      "execution_count": null,
      "outputs": []
    },
    {
      "cell_type": "code",
      "source": [],
      "metadata": {
        "id": "ixnjmqp-9KJv"
      },
      "execution_count": null,
      "outputs": []
    },
    {
      "cell_type": "code",
      "source": [
        "print(set(merged['edlevlsv']))\n",
        "# print(education)\n",
        "educationNumerical = \\\n",
        "{   'Less than 6th grade' : 0,\n",
        "    '6th grade' : 6,\n",
        "    '7th grade' : 7,\n",
        "    '8th grade' : 8,\n",
        "    '9th grade' : 9,\n",
        "    '10th grade' : 10,\n",
        "    '11th grade' : 11,\n",
        "    '12th grade' : 12,\n",
        "    'Post secondary' : 13,\n",
        "    'College' : 14,\n",
        "    '' : 77\n",
        "}\n",
        "educationNumerical = \\\n",
        "{   'Less than 6th grade' : 0,\n",
        "    '6th grade' : 1,\n",
        "    '7th grade' : 1,\n",
        "    '8th grade' : 1,\n",
        "    '9th grade' : 2,\n",
        "    '10th grade' : 2,\n",
        "    '11th grade' : 2,\n",
        "    '12th grade' : 2,\n",
        "    'Post secondary' : 3,\n",
        "    'College' : 4,\n",
        "    '' : -1\n",
        "}\n",
        "merged['edlevlsv_numerical'] = merged['edlevlsv'].map(educationNumerical)\n",
        "merged['edlevlsv_numerical']"
      ],
      "metadata": {
        "id": "Zwh50cAELN9l"
      },
      "execution_count": null,
      "outputs": []
    },
    {
      "cell_type": "code",
      "source": [
        "len(merged.index)"
      ],
      "metadata": {
        "id": "_Ku_HGlRNIIe"
      },
      "execution_count": null,
      "outputs": []
    },
    {
      "cell_type": "code",
      "source": [
        "ax = sns.countplot(merged['edlevlsv'], order=educationNumerical.keys(), color=COLOR_BLUEISH)\n",
        "ax.set(xlabel='Education Level', ylabel='Count', title='Count of Education Level')\n",
        "ax.set_xticklabels(ax.get_xticklabels(),rotation=90)\n",
        "plt.savefig('img/04_education_level_counts.png', bbox_inches='tight')"
      ],
      "metadata": {
        "id": "PKPDEJmKxSPw"
      },
      "execution_count": null,
      "outputs": []
    },
    {
      "cell_type": "code",
      "source": [
        "# print(set(fostercarestatus))\n",
        "# print(fostercarestatus)\n",
        "#need to make binary\n",
        "print(\"OneHotEncoder of fostercarestatus:\")\n",
        "enc = OneHotEncoder(categories='auto', handle_unknown='ignore')\n",
        "transformed = enc.fit_transform(merged['fcstatsv'].to_numpy().reshape(-1,1))\n",
        "enc.categories_\n",
        "merged[enc.categories_[0]] = transformed.toarray()\n",
        "merged.head(1)"
      ],
      "metadata": {
        "id": "4_tdAcnnLYEm"
      },
      "execution_count": null,
      "outputs": []
    },
    {
      "cell_type": "code",
      "source": [
        "print(set(merged['outcmrpt']))\n",
        "#need to make numerical like in codebook\n",
        "enc2 = OneHotEncoder(categories='auto', handle_unknown='ignore')\n",
        "transformed2 = enc2.fit_transform(merged['outcmrpt'].to_numpy().reshape(-1,1))\n",
        "enc2.categories_\n",
        "pd.set_option('display.max_columns', None)\n",
        "merged[enc2.categories_[0]] = transformed2.toarray()\n",
        "merged['dob.1_dt'] = pd.to_datetime(merged['dob.1'], format=\"%Y-%m-%d\")\n",
        "merged.head()\n"
      ],
      "metadata": {
        "id": "icvdBFLzLbQp"
      },
      "execution_count": null,
      "outputs": []
    },
    {
      "cell_type": "code",
      "source": [
        "ax=sns.catplot(data=merged, x='housedsv', y='edlevlsv_numerical', hue='fcstatsv', kind='bar',palette = \"Accent\")\n",
        "ax.set(xlabel='Received Housing Services', ylabel='Education Level Numerical')\n",
        "ax.fig.suptitle('Education level | housing services received')\n",
        "plt.savefig('img/05_education_level_by_housedsv.png', bbox_inches='tight')"
      ],
      "metadata": {
        "id": "0mesrQzjgEoe"
      },
      "execution_count": null,
      "outputs": []
    },
    {
      "cell_type": "code",
      "source": [
        "ax=sns.catplot(data=merged, x='silsv', y='edlevlsv_numerical', hue='fcstatsv', kind='bar',palette = \"Accent\")\n",
        "ax.set(ylabel='Education Level Numerical')\n",
        "ax.fig.suptitle('Education level | special education services received')\n",
        "plt.savefig('img/04_education_level_by_specedsv.png', bbox_inches='tight')"
      ],
      "metadata": {
        "id": "I7l0Y6sKIBWD"
      },
      "execution_count": null,
      "outputs": []
    },
    {
      "cell_type": "code",
      "source": [
        "ax=sns.catplot(data=merged, x='mentorsv', y='edlevlsv_numerical', hue='fcstatsv', kind='bar',palette = \"Accent\")\n",
        "ax.set(xlabel='Received Mentorship Services', ylabel='Education Level Numerical')\n",
        "ax.fig.suptitle('Education level | mentorship services received')\n",
        "plt.savefig('img/06_education_level_by_mentorsv.png', bbox_inches='tight')"
      ],
      "metadata": {
        "id": "NjRHWVGjjodb"
      },
      "execution_count": null,
      "outputs": []
    },
    {
      "cell_type": "code",
      "source": [
        "fostercare_ohe = pd.read_csv('processed/fostercare_ohe.csv')\n",
        "fostercare_ohe.head(1)"
      ],
      "metadata": {
        "id": "eljv9hTaKFpi"
      },
      "execution_count": null,
      "outputs": []
    },
    {
      "cell_type": "code",
      "source": [
        "fostercare_ohe.index"
      ],
      "metadata": {
        "id": "M59dnRNWmrtb"
      },
      "execution_count": null,
      "outputs": []
    },
    {
      "cell_type": "code",
      "source": [
        "dat = fostercare_ohe.pivot_table(\"highedcert_high school or ged\",\"outcmfcs_yes\",\"medicaid_yes\")\n",
        "ax=sns.heatmap(dat, annot=True,fmt=\"g\", cmap=cmap_blueish)\n",
        "ax.set(xlabel='Participant has Medicaid', ylabel='Foster Care Status At Outcomes Collection')\n",
        "ax.set_title('Highest Educational Certification Received is high school or GED')\n",
        "plt.savefig('img/07_highedcert_high school_or_ged_medicaid.png', bbox_inches='tight')"
      ],
      "metadata": {
        "id": "BY4_WMXbkjUp"
      },
      "execution_count": null,
      "outputs": []
    },
    {
      "cell_type": "code",
      "source": [
        "dat = fostercare_ohe.pivot_table(\"highedcert_high school or ged\",\"outcmfcs_yes\",\"cnctadult_yes\")\n",
        "ax=sns.heatmap(dat, annot=True,fmt=\"g\", cmap=cmap_blueish)\n",
        "ax.set(xlabel='Participant has Connection to Adult', ylabel='Foster Care Status At Outcomes Collection')\n",
        "ax.set_title('Highest Educational Certification Received is high school or GED')\n",
        "plt.savefig('img/08_highedcert_high school_or_ged_cnctadult.png', bbox_inches='tight')"
      ],
      "metadata": {
        "id": "gtXZvW44rkI4"
      },
      "execution_count": null,
      "outputs": []
    },
    {
      "cell_type": "code",
      "source": [
        "dat = fostercare_ohe.pivot_table(\"highedcert_high school or ged\",\"outcmfcs_yes\",\"socsecrty_yes\")\n",
        "ax=sns.heatmap(dat, annot=True,fmt=\"g\", cmap=cmap_blueish)\n",
        "ax.set(xlabel='Social Security', ylabel='Foster Care Status At Outcomes Collection')\n",
        "ax.set_title('Highest Educational Certification Received is high school or GED')\n",
        "plt.savefig('img/09_highedcert_high school_or_ged_SocSecrty_yes.png', bbox_inches='tight')"
      ],
      "metadata": {
        "id": "WAiSlXJMrkGA"
      },
      "execution_count": null,
      "outputs": []
    },
    {
      "cell_type": "code",
      "source": [
        "dat = fostercare_ohe.pivot_table(\"highedcert_high school or ged\",\"outcmfcs_yes\",\"children_yes\")\n",
        "ax=sns.heatmap(dat, annot=True,fmt=\"g\", cmap=cmap_blueish)\n",
        "ax.set(xlabel='Children', ylabel='Foster Care Status At Outcomes Collection')\n",
        "ax.set_title('Highest Educational Certification Received is high school or GED')\n",
        "plt.savefig('img/10_highedcert_high school_or_ged_children_yes.png', bbox_inches='tight')"
      ],
      "metadata": {
        "id": "RgtwHjkKrkC9"
      },
      "execution_count": null,
      "outputs": []
    },
    {
      "cell_type": "code",
      "source": [
        "dat = fostercare_ohe.pivot_table(\"highedcert_high school or ged\",\"outcmfcs_yes\",\"subabuse_yes\")\n",
        "ax=sns.heatmap(dat, annot=True,fmt=\"g\", cmap=cmap_blueish)\n",
        "ax.set(xlabel='Substance Abuse Referral', ylabel='Foster Care Status At Outcomes Collection')\n",
        "ax.set_title('Highest Educational Certification Received is high school or GED')\n",
        "plt.savefig('img/11_highedcert_high school_or_ged_subabuse.png', bbox_inches='tight')"
      ],
      "metadata": {
        "id": "_CpF1vSxrj8n"
      },
      "execution_count": null,
      "outputs": []
    },
    {
      "cell_type": "code",
      "source": [
        "dat = fostercare_ohe.pivot_table(\"highedcert_high school or ged\",\"outcmfcs_yes\",\"educaid_yes\")\n",
        "ax=sns.heatmap(dat, annot=True,fmt=\"g\", cmap=cmap_blueish)\n",
        "ax.set(xlabel='Educational Aid', ylabel='Foster Care Status At Outcomes Collection')\n",
        "ax.set_title('Highest Educational Certification Received is high school or GED')\n",
        "plt.savefig('img/12_highedcert_high school_or_ged_educaid.png', bbox_inches='tight')"
      ],
      "metadata": {
        "id": "bepp742grjzV"
      },
      "execution_count": null,
      "outputs": []
    },
    {
      "cell_type": "code",
      "source": [
        "dat = fostercare_ohe.pivot_table(\"highedcert_high school or ged\",\"outcmfcs_yes\",\"homeless_yes\")\n",
        "ax=sns.heatmap(dat, annot=True,fmt=\"g\", cmap=cmap_blueish)\n",
        "ax.set(xlabel='Homeless', ylabel='Foster Care Status At Outcomes Collection')\n",
        "ax.set_title('Highest Educational Certification Received is high school or GED')\n",
        "plt.savefig('img/13_highedcert_high school_or_ged_homeless.png', bbox_inches='tight')"
      ],
      "metadata": {
        "id": "tg_3hImlFV2-"
      },
      "execution_count": null,
      "outputs": []
    },
    {
      "cell_type": "markdown",
      "source": [
        "ValueError: 'bugn' is not a valid value for name; supported values are 'Accent', 'Accent_r', 'Blues', 'Blues_r', 'BrBG', 'BrBG_r', 'BuGn', 'BuGn_r', 'BuPu', 'BuPu_r', 'CMRmap', 'CMRmap_r', 'Dark2', 'Dark2_r', 'GnBu', 'GnBu_r', 'Greens', 'Greens_r', 'Greys', 'Greys_r', 'OrRd', 'OrRd_r', 'Oranges', 'Oranges_r', 'PRGn', 'PRGn_r', 'Paired', 'Paired_r', 'Pastel1', 'Pastel1_r', 'Pastel2', 'Pastel2_r', 'PiYG', 'PiYG_r', 'PuBu', 'PuBuGn', 'PuBuGn_r', 'PuBu_r', 'PuOr', 'PuOr_r', 'PuRd', 'PuRd_r', 'Purples', 'Purples_r', 'RdBu', 'RdBu_r', 'RdGy', 'RdGy_r', 'RdPu', 'RdPu_r', 'RdYlBu', 'RdYlBu_r', 'RdYlGn', 'RdYlGn_r', 'Reds', 'Reds_r', 'Set1', 'Set1_r', 'Set2', 'Set2_r', 'Set3', 'Set3_r', 'Spectral', 'Spectral_r', 'Wistia', 'Wistia_r', 'YlGn', 'YlGnBu', 'YlGnBu_r', 'YlGn_r', 'YlOrBr', 'YlOrBr_r', 'YlOrRd', 'YlOrRd_r', 'afmhot', 'afmhot_r', 'autumn', 'autumn_r', 'binary', 'binary_r', 'bone', 'bone_r', 'brg', 'brg_r', 'bwr', 'bwr_r', 'cividis', 'cividis_r', 'cool', 'cool_r', 'coolwarm', 'coolwarm_r', 'copper', 'copper_r', 'crest', 'crest_r', 'cubehelix', 'cubehelix_r', 'flag', 'flag_r', 'flare', 'flare_r', 'gist_earth', 'gist_earth_r', 'gist_gray', 'gist_gray_r', 'gist_heat', 'gist_heat_r', 'gist_ncar', 'gist_ncar_r', 'gist_rainbow', 'gist_rainbow_r', 'gist_stern', 'gist_stern_r', 'gist_yarg', 'gist_yarg_r', 'gnuplot', 'gnuplot2', 'gnuplot2_r', 'gnuplot_r', 'gray', 'gray_r', 'hot', 'hot_r', 'hsv', 'hsv_r', 'icefire', 'icefire_r', 'inferno', 'inferno_r', 'jet', 'jet_r', 'magm..."
      ],
      "metadata": {
        "id": "sUdpigVtqnEN"
      }
    },
    {
      "cell_type": "code",
      "source": [],
      "metadata": {
        "id": "yBmtlV9SqmxB"
      },
      "execution_count": null,
      "outputs": []
    },
    {
      "cell_type": "code",
      "source": [
        "sns.catplot(data=merged, x='famsuppsv', y='edlevlsv_numerical', hue='fcstatsv', kind='bar')    # x=hlthedsv, housedsv?"
      ],
      "metadata": {
        "id": "EJ8fTEVYj_rS"
      },
      "execution_count": null,
      "outputs": []
    },
    {
      "cell_type": "code",
      "source": [
        "ax=sns.catplot(data=df, x='raceethn', y='edlevlsv_numerical', hue='fcstatsv', kind='bar')    # x=hlthedsv, housedsv?\n",
        "ax.set_xticklabels(rotation=90)\n",
        "# ax.tick_params(axis='x', rotation=90)\n"
      ],
      "metadata": {
        "id": "gSnaDimZkL9s"
      },
      "execution_count": null,
      "outputs": []
    },
    {
      "cell_type": "code",
      "source": [
        "ax=sns.catplot(data=df, x='raceethn', y='edlevlsv_numerical', hue='sex', kind='bar')    # x=hlthedsv, housedsv?\n",
        "ax.set_xticklabels(rotation=40)"
      ],
      "metadata": {
        "id": "PXTn5zKxJcBD"
      },
      "execution_count": null,
      "outputs": []
    },
    {
      "cell_type": "code",
      "source": [
        "sns.boxplot(x ='edlevlsv', y ='edlevlsv', data = df, hue ='sex')"
      ],
      "metadata": {
        "id": "8J6T92IZfOr1"
      },
      "execution_count": null,
      "outputs": []
    },
    {
      "cell_type": "code",
      "source": [
        "sns.boxplot(x ='medicaid', y ='', data = df, hue ='')"
      ],
      "metadata": {
        "id": "cSgbUCziecb5"
      },
      "execution_count": null,
      "outputs": []
    },
    {
      "cell_type": "code",
      "source": [
        "sns.lineplot(x='dob.1_dt',y =\"edlevlsv_numerical\", data = merged, ci = 'sd')"
      ],
      "metadata": {
        "id": "hf6gNJDnhCmz"
      },
      "execution_count": null,
      "outputs": []
    },
    {
      "cell_type": "code",
      "source": [
        "# sns.lineplot(x='emplysklls_yes',y =\"highedcert_high school or ged\", data = df, errorbar=('ci', 95))\n",
        "\n",
        "sns.scatterplot(\n",
        "    data=df, x=\"age\", y=\"highedcert_high school or ged\"\n",
        ")"
      ],
      "metadata": {
        "id": "s32pVlC9f2OQ"
      },
      "execution_count": null,
      "outputs": []
    },
    {
      "cell_type": "code",
      "source": [
        "sns.scatterplot(x='sex_female',y =\"highedcert_bachelor degree\", data = df)"
      ],
      "metadata": {
        "id": "-ZEP3S1ldZHR"
      },
      "execution_count": null,
      "outputs": []
    },
    {
      "cell_type": "markdown",
      "source": [
        "# Models"
      ],
      "metadata": {
        "id": "ZPpv7DEd4LUF"
      }
    },
    {
      "cell_type": "code",
      "source": [
        "# Make two classification models: \n",
        "#   - Foster care with demogs\n",
        "#   - Foster care without demogs"
      ],
      "metadata": {
        "id": "C6Bp_p1JKnBz"
      },
      "execution_count": null,
      "outputs": []
    },
    {
      "cell_type": "code",
      "source": [
        "# Maybe another classification model for ILS (Indep Living Services) \n",
        "# Linear Regression\n",
        "filename = 'processed/fostercare_ohe_train.csv'\n",
        "df = pd.read_csv(filename)\n",
        "df.head(1)"
      ],
      "metadata": {
        "id": "W1ve4fD9KuIB"
      },
      "execution_count": null,
      "outputs": []
    },
    {
      "cell_type": "code",
      "source": [
        "\n",
        "target = ['highedcert_associate degree', \n",
        "            'highedcert_bachelor degree', \n",
        "            'highedcert_high school or ged', \n",
        "            'highedcert_higher degree',\n",
        "            'highedcert_none of the above',\n",
        "            'highedcert_vocational certificate',\n",
        "            'highedcert_vocational license']\n",
        "x=df.drop(columns=target, axis=1).values\n",
        "y=df[target].values\n",
        "\n"
      ],
      "metadata": {
        "id": "507dH_0OYVbC"
      },
      "execution_count": null,
      "outputs": []
    },
    {
      "cell_type": "code",
      "source": [
        "model = LinearRegression()\n",
        "model.fit(x, y)\n",
        "print(f'Linear Regression: {model.score(x, y)}')"
      ],
      "metadata": {
        "id": "89aF0Mwqb_v6"
      },
      "execution_count": null,
      "outputs": []
    },
    {
      "cell_type": "code",
      "source": [
        "# Random forest"
      ],
      "metadata": {
        "id": "BD0FPcGJLqmc"
      },
      "execution_count": null,
      "outputs": []
    },
    {
      "cell_type": "code",
      "source": [
        "# see distribution"
      ],
      "metadata": {
        "id": "sKkkLyxbHQHp"
      },
      "execution_count": null,
      "outputs": []
    },
    {
      "cell_type": "code",
      "source": [
        "data = pd.read_csv(\"combined_ohe_17.csv\")\n",
        "data.head()"
      ],
      "metadata": {
        "id": "itQQaXOFMOLF"
      },
      "execution_count": null,
      "outputs": []
    },
    {
      "cell_type": "code",
      "source": [],
      "metadata": {
        "id": "Ti0nBpwzgJhs"
      },
      "execution_count": null,
      "outputs": []
    }
  ]
}