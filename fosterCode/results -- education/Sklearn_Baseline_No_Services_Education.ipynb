{
  "cells": [
    {
      "cell_type": "code",
      "execution_count": null,
      "metadata": {
        "id": "-FRSPm_uE0l4"
      },
      "outputs": [],
      "source": [
        "import numpy as np\n",
        "import pandas as pd\n",
        "import matplotlib.pyplot as plt\n",
        "import os\n",
        "import time\n",
        "from sklearn.preprocessing import MinMaxScaler"
      ]
    },
    {
      "cell_type": "code",
      "execution_count": null,
      "metadata": {
        "colab": {
          "base_uri": "https://localhost:8080/"
        },
        "id": "WCS-yGxDGpte",
        "outputId": "1ee57832-efa8-47d4-e716-110b4e21d3ec"
      },
      "outputs": [
        {
          "output_type": "stream",
          "name": "stdout",
          "text": [
            "Mounted at /content/drive/\n",
            "/content/drive/Shareddrives/CSCI 461/processed\n"
          ]
        }
      ],
      "source": [
        "# mount drive\n",
        "from google.colab import drive\n",
        "drive.mount('/content/drive/')\n",
        "%cd 'drive/Shareddrives/CSCI 461/processed'\n",
        "#%ls processed/*\n"
      ]
    },
    {
      "cell_type": "markdown",
      "metadata": {
        "id": "LhgVufKbztgt"
      },
      "source": [
        "# DATA MANIPULATION"
      ]
    },
    {
      "cell_type": "code",
      "execution_count": null,
      "metadata": {
        "id": "m1M15yyjFL7z"
      },
      "outputs": [],
      "source": [
        "# Importing the data\n",
        "\n",
        "data = pd.read_csv(\"combined_ohe.csv\")\n",
        "#data.drop(columns=[\"Unnamed: 0\"], axis=1, inplace=True)\n",
        "#print(data.head())"
      ]
    },
    {
      "cell_type": "code",
      "execution_count": null,
      "metadata": {
        "id": "M3E71_v7Mv3C"
      },
      "outputs": [],
      "source": [
        "edu_matrix = data[[\"highedcert_associate degree\",\"highedcert_bachelor degree\",\"highedcert_high school or ged\",\n",
        "                  \"highedcert_higher degree\",\"highedcert_none of the above\",\"highedcert_vocational certificate\",\n",
        "                  \"highedcert_vocational license\"]]\n",
        "data[\"edu_categorical\"] = edu_matrix.idxmax(axis=1)"
      ]
    },
    {
      "cell_type": "code",
      "execution_count": null,
      "metadata": {
        "id": "ReHq6YJHJrjZ"
      },
      "outputs": [],
      "source": [
        "# making education binary\n",
        "\n",
        "educationBinary = \\\n",
        "{   \n",
        "    \"highedcert_associate degree\": 1,\n",
        "    \"highedcert_bachelor degree\": 1,\n",
        "    \"highedcert_high school or ged\": 1,\n",
        "    \"highedcert_higher degree\": 1,\n",
        "    \"highedcert_none of the above\":0,\n",
        "    \"highedcert_vocational certificate\": 1,\n",
        "    \"highedcert_vocational license\": 1\n",
        "}\n",
        "data['edu_binary'] = data[\"edu_categorical\"].map(educationBinary) "
      ]
    },
    {
      "cell_type": "code",
      "execution_count": null,
      "metadata": {
        "id": "wPCyrX1BxObt"
      },
      "outputs": [],
      "source": [
        "# dropping overlap variables (and other outcome features, recnumbr)\n",
        "data.drop(columns=[\"recnumbr\", \"highedcert_associate degree\",\"highedcert_bachelor degree\",\"highedcert_high school or ged\",\n",
        "                  \"highedcert_higher degree\",\"highedcert_none of the above\",\"highedcert_vocational certificate\",\n",
        "                  \"highedcert_vocational license\",\"edu_categorical\", 'homeless_no','homeless_yes','subabuse_no',\n",
        "                   'subabuse_yes', 'incarc_no', 'incarc_yes', 'edu_categorical'], axis=1, inplace=True)\n",
        "#subabuse\n",
        "# data.drop(columns=[\"recnumbr\", \"highedcert_associate degree\",\"highedcert_bachelor degree\",\"highedcert_high school or ged\",\n",
        "#                   \"highedcert_higher degree\",\"highedcert_none of the above\",\"highedcert_vocational certificate\",\n",
        "#                   \"highedcert_vocational license\",\"edu_categorical\", 'edu_binary','homeless_no','homeless_yes', 'subabuse_no', 'incarc_no', 'incarc_yes', 'edu_categorical'], axis=1, inplace=True)\n",
        "#data.nunique()"
      ]
    },
    {
      "cell_type": "code",
      "source": [
        "# drop services (OPTIONAL)\n",
        "data.drop(columns=['specedsv_No',\n",
        " 'specedsv_Yes',\n",
        " 'ilnasv_No',\n",
        " 'ilnasv_Yes',\n",
        " 'acsuppsv_No',\n",
        " 'acsuppsv_Yes',\n",
        " 'psedsuppsv_No',\n",
        " 'psedsuppsv_Yes',\n",
        " 'careersv_No',\n",
        " 'careersv_Yes',\n",
        " 'emplytrsv_No',\n",
        " 'emplytrsv_Yes',\n",
        " 'budgetsv_No',\n",
        " 'budgetsv_Yes',\n",
        " 'housedsv_No',\n",
        " 'housedsv_Yes',\n",
        " 'hlthedsv_No',\n",
        " 'hlthedsv_Yes',\n",
        " 'famsuppsv_No',\n",
        " 'famsuppsv_Yes',\n",
        " 'mentorsv_No',\n",
        " 'mentorsv_Yes',\n",
        " 'silsv_No',\n",
        " 'silsv_Yes',\n",
        " 'rmbrdfasv_No',\n",
        " 'rmbrdfasv_Yes',\n",
        " 'educfinasv_No',\n",
        " 'educfinasv_Yes',\n",
        " 'othrfinasv_No',\n",
        " 'othrfinasv_Yes'], axis=1, inplace=True)"
      ],
      "metadata": {
        "id": "8LRyOCWV3Ni9"
      },
      "execution_count": null,
      "outputs": []
    },
    {
      "cell_type": "code",
      "source": [
        "# filtering for age 19+ and balancing the class\n",
        "data = data[data['age']>18].sort_values('age', ascending = False).sort_values('edu_binary').iloc[:1084*2,:]"
      ],
      "metadata": {
        "id": "XrxaJ35R9OmF"
      },
      "execution_count": null,
      "outputs": []
    },
    {
      "cell_type": "markdown",
      "metadata": {
        "id": "IYmfrwZ2wbxl"
      },
      "source": [
        "## SETTING UP MODELS"
      ]
    },
    {
      "cell_type": "code",
      "execution_count": null,
      "metadata": {
        "id": "xX3H4zc3FMHK"
      },
      "outputs": [],
      "source": [
        "# Setting target variables\n",
        "data = data.sample(frac=1)\n",
        "y = data.loc[:,\"edu_binary\"]\n",
        "X = data.loc[:,data.columns != \"edu_binary\"]"
      ]
    },
    {
      "cell_type": "code",
      "execution_count": null,
      "metadata": {
        "colab": {
          "base_uri": "https://localhost:8080/"
        },
        "id": "wN6AdZdm6Jkt",
        "outputId": "4b7c7a52-5c8e-4c10-e9c4-d56b1fc3d000"
      },
      "outputs": [
        {
          "output_type": "stream",
          "name": "stderr",
          "text": [
            "/usr/local/lib/python3.7/dist-packages/ipykernel_launcher.py:8: SettingWithCopyWarning: \n",
            "A value is trying to be set on a copy of a slice from a DataFrame.\n",
            "Try using .loc[row_indexer,col_indexer] = value instead\n",
            "\n",
            "See the caveats in the documentation: https://pandas.pydata.org/pandas-docs/stable/user_guide/indexing.html#returning-a-view-versus-a-copy\n",
            "  \n"
          ]
        }
      ],
      "source": [
        "#  TEST & TRAIN SPLIT\n",
        "# from sklearn.model_selection import train_test_split\n",
        "# X_train, X_test, y_train, y_test = train_test_split(X, y, test_size = 0.2, random_state = 0)\n",
        "# print(X_train.shape, X_test.shape, y_train.shape, y_test.shape,) # check the shape of X_train and X_test\n",
        "\n",
        "# Feature scaling \n",
        "scaler = MinMaxScaler((-1,1))\n",
        "X['age'] = scaler.fit_transform(np.array(X['age']).reshape(-1, 1))\n",
        "y = data.loc[:,\"edu_binary\"]\n",
        "X = data.loc[:,data.columns != \"edu_binary\"]\n"
      ]
    },
    {
      "cell_type": "code",
      "execution_count": null,
      "metadata": {
        "id": "aD99mp8a7a27"
      },
      "outputs": [],
      "source": [
        "# Prep to cross validate\n",
        "\n",
        "from sklearn.model_selection import cross_validate\n",
        "from sklearn.model_selection import cross_val_predict\n",
        "\n",
        "# Folds for cross-val\n",
        "k = 5"
      ]
    },
    {
      "cell_type": "code",
      "execution_count": null,
      "metadata": {
        "id": "IoStBMtG2hxe"
      },
      "outputs": [],
      "source": [
        "# Functions to print CM heat map and performnce results\n",
        "\n",
        "from sklearn.metrics import confusion_matrix\n",
        "#from sklearn.metrics import f1_score\n",
        "from sklearn.metrics import confusion_matrix\n",
        "#import sklearn\n",
        "import seaborn as sns\n",
        "\n",
        "def my_cm(y,y_pred,k=5):\n",
        "\n",
        "  cm = confusion_matrix(y, y_pred)\n",
        "  cm_matrix = pd.DataFrame(data=cm, columns=['Actual Positive:1', 'Actual Negative:0'], \n",
        "                                 index=['Predict Positive:1', 'Predict Negative:0'])\n",
        "  return sns.heatmap(cm_matrix, annot=True, fmt='d', cmap='YlGnBu')\n",
        "\n",
        "def my_scores(mod, X, y,k=5):\n",
        "  scoring = ['accuracy', 'precision', 'f1', 'recall', 'roc_auc']\n",
        "  scores = cross_validate(mod, X, y, cv=k,scoring=scoring)\n",
        "  print(\"accuracy:\",sum(scores[\"test_accuracy\"])/k)\n",
        "  print(\"precision:\",sum(scores[\"test_precision\"])/k)\n",
        "  print(\"auc:\",sum(scores[\"test_roc_auc\"])/k)\n",
        "  print(\"recall:\",sum(scores[\"test_recall\"])/k)\n",
        "  print(\"f1:\",sum(scores[\"test_f1\"])/k)\n",
        "  return "
      ]
    },
    {
      "cell_type": "markdown",
      "metadata": {
        "id": "y0Fdwxdq0pvh"
      },
      "source": [
        "## SVM"
      ]
    },
    {
      "cell_type": "code",
      "execution_count": null,
      "metadata": {
        "colab": {
          "base_uri": "https://localhost:8080/",
          "height": 301
        },
        "id": "ZN-IYZsR0ox0",
        "outputId": "eecba41d-b590-4941-937b-b13bbd223863"
      },
      "outputs": [
        {
          "output_type": "stream",
          "name": "stdout",
          "text": [
            "TIME: 0.04221563128333325 min\n"
          ]
        },
        {
          "output_type": "execute_result",
          "data": {
            "text/plain": [
              "<matplotlib.axes._subplots.AxesSubplot at 0x7f35c1594f10>"
            ]
          },
          "metadata": {},
          "execution_count": 17
        },
        {
          "output_type": "display_data",
          "data": {
            "text/plain": [
              "<Figure size 432x288 with 2 Axes>"
            ],
            "image/png": "[encoded data removed]"
          },
          "metadata": {
            "needs_background": "light"
          }
        }
      ],
      "source": [
        "# import SVC classifier\n",
        "from sklearn.svm import SVC\n",
        "\n",
        "# instantiate classifier with default hyperparameters\n",
        "svc=SVC() \n",
        "\n",
        "# make predictions on test set\n",
        "start = time.perf_counter()\n",
        "y_pred = cross_val_predict(svc, X, y, cv=k)\n",
        "end = time.perf_counter()\n",
        "print(\"TIME:\",(end-start)/60,\"min\")\n",
        "\n",
        "# print confusion matrix\n",
        "my_cm(y_pred,y)"
      ]
    },
    {
      "cell_type": "code",
      "execution_count": null,
      "metadata": {
        "colab": {
          "base_uri": "https://localhost:8080/"
        },
        "id": "fY3whXAwIU6y",
        "outputId": "06b14693-1f55-4a05-f6de-1829ce2d004f"
      },
      "outputs": [
        {
          "output_type": "stream",
          "name": "stdout",
          "text": [
            "accuracy: 0.7264652355764626\n",
            "precision: 0.805226329900553\n",
            "auc: 0.8076844438781409\n",
            "recall: 0.5977342549923195\n",
            "f1: 0.6856384053392064\n",
            "TIME: 0.026225273683333702 min\n"
          ]
        }
      ],
      "source": [
        "# print performance scores\n",
        "start = time.perf_counter()\n",
        "my_scores(svc,X,y)\n",
        "end = time.perf_counter()\n",
        "print(\"TIME:\",(end-start)/60,\"min\")"
      ]
    },
    {
      "cell_type": "markdown",
      "metadata": {
        "id": "aLDjixqa0ROn"
      },
      "source": [
        "## Random Forest Classifier"
      ]
    },
    {
      "cell_type": "code",
      "execution_count": null,
      "metadata": {
        "colab": {
          "base_uri": "https://localhost:8080/",
          "height": 301
        },
        "id": "66Iu9tj5SAHx",
        "outputId": "85e4d756-9525-4825-da10-9a7b575658dd"
      },
      "outputs": [
        {
          "output_type": "stream",
          "name": "stdout",
          "text": [
            "TIME: 0.02187899398333381 min\n"
          ]
        },
        {
          "output_type": "execute_result",
          "data": {
            "text/plain": [
              "<matplotlib.axes._subplots.AxesSubplot at 0x7f35be3be9d0>"
            ]
          },
          "metadata": {},
          "execution_count": 19
        },
        {
          "output_type": "display_data",
          "data": {
            "text/plain": [
              "<Figure size 432x288 with 2 Axes>"
            ],
            "image/png": "[encoded data removed]"
          },
          "metadata": {
            "needs_background": "light"
          }
        }
      ],
      "source": [
        "# import RF classifier\n",
        "from sklearn.ensemble import RandomForestClassifier\n",
        "\n",
        "# instantiate classifier with default hyperparameters\n",
        "rfc=RandomForestClassifier() \n",
        "\n",
        "# make predictions on test set\n",
        "start = time.perf_counter()\n",
        "y_pred = cross_val_predict(rfc, X, y, cv=k)\n",
        "end = time.perf_counter()\n",
        "print(\"TIME:\",(end-start)/60,\"min\")\n",
        "\n",
        "# print confusion matrix\n",
        "my_cm(y_pred,y)\n"
      ]
    },
    {
      "cell_type": "code",
      "execution_count": null,
      "metadata": {
        "colab": {
          "base_uri": "https://localhost:8080/"
        },
        "id": "QmWtwBTTDJT6",
        "outputId": "6d3b0a4d-9873-4ac6-ee2f-a4c67599d5d6"
      },
      "outputs": [
        {
          "output_type": "stream",
          "name": "stdout",
          "text": [
            "accuracy: 0.7518406572939836\n",
            "precision: 0.7634605883920433\n",
            "auc: 0.8321355718839738\n",
            "recall: 0.7296850998463902\n",
            "f1: 0.745936798174095\n",
            "TIME: 0.03330821155000005 min\n"
          ]
        }
      ],
      "source": [
        "# print performance scores\n",
        "start = time.perf_counter()\n",
        "my_scores(rfc,X,y)\n",
        "end = time.perf_counter()\n",
        "print(\"TIME:\",(end-start)/60,\"min\")"
      ]
    },
    {
      "cell_type": "markdown",
      "metadata": {
        "id": "_cht2ax10WfE"
      },
      "source": [
        "## Gradient Boosting Classifier"
      ]
    },
    {
      "cell_type": "code",
      "execution_count": null,
      "metadata": {
        "colab": {
          "base_uri": "https://localhost:8080/",
          "height": 301
        },
        "id": "3Fi55yJeTyYM",
        "outputId": "6b3e9068-d1e4-4c58-9f1b-3097211ebdc1"
      },
      "outputs": [
        {
          "output_type": "stream",
          "name": "stdout",
          "text": [
            "TIME: 0.03496018013333355 min\n"
          ]
        },
        {
          "output_type": "execute_result",
          "data": {
            "text/plain": [
              "<matplotlib.axes._subplots.AxesSubplot at 0x7f35be0bd7d0>"
            ]
          },
          "metadata": {},
          "execution_count": 21
        },
        {
          "output_type": "display_data",
          "data": {
            "text/plain": [
              "<Figure size 432x288 with 2 Axes>"
            ],
            "image/png": "[encoded data removed]"
          },
          "metadata": {
            "needs_background": "light"
          }
        }
      ],
      "source": [
        "# import GBT classifier\n",
        "from sklearn.ensemble import GradientBoostingClassifier\n",
        "\n",
        "# instantiate classifier with default hyperparameters\n",
        "gbc=GradientBoostingClassifier() \n",
        "\n",
        "# make predictions on test set\n",
        "start = time.perf_counter()\n",
        "y_pred = cross_val_predict(gbc, X, y, cv=k)\n",
        "end = time.perf_counter()\n",
        "print(\"TIME:\",(end-start)/60,\"min\")\n",
        "\n",
        "# print confusion matrix\n",
        "my_cm(y_pred,y)\n"
      ]
    },
    {
      "cell_type": "code",
      "execution_count": null,
      "metadata": {
        "colab": {
          "base_uri": "https://localhost:8080/"
        },
        "id": "_79wpmDuDR7u",
        "outputId": "aa656552-8364-4230-b5e7-12b5e358bf0b"
      },
      "outputs": [
        {
          "output_type": "stream",
          "name": "stdout",
          "text": [
            "accuracy: 0.766134885750471\n",
            "precision: 0.7802610032980561\n",
            "auc: 0.8589250713581768\n",
            "recall: 0.7417008021846732\n",
            "f1: 0.7604019024008675\n",
            "TIME: 0.029566703750000065 min\n"
          ]
        }
      ],
      "source": [
        "# print performance scores\n",
        "start = time.perf_counter()\n",
        "my_scores(gbc,X,y)\n",
        "end = time.perf_counter()\n",
        "print(\"TIME:\",(end-start)/60,\"min\")"
      ]
    },
    {
      "cell_type": "markdown",
      "metadata": {
        "id": "EV9JY7LR0a87"
      },
      "source": [
        "## Logistic Regression"
      ]
    },
    {
      "cell_type": "code",
      "execution_count": null,
      "metadata": {
        "colab": {
          "base_uri": "https://localhost:8080/",
          "height": 305
        },
        "id": "aG0a3iUvStko",
        "outputId": "74d9acff-9a94-4a8a-ddc9-15e82e7089f9"
      },
      "outputs": [
        {
          "output_type": "stream",
          "name": "stdout",
          "text": [
            "TIME: 0.006378947716666516 min\n"
          ]
        },
        {
          "output_type": "execute_result",
          "data": {
            "text/plain": [
              "<matplotlib.axes._subplots.AxesSubplot at 0x7f35bdff2f50>"
            ]
          },
          "metadata": {},
          "execution_count": 23
        },
        {
          "output_type": "display_data",
          "data": {
            "text/plain": [
              "<Figure size 432x288 with 2 Axes>"
            ],
            "image/png": "[encoded data removed]"
          },
          "metadata": {
            "needs_background": "light"
          }
        }
      ],
      "source": [
        "# import log classifier\n",
        "from sklearn.linear_model import LogisticRegressionCV\n",
        "\n",
        "# instantiate classifier with default hyperparameters\n",
        "lrc=LogisticRegressionCV(Cs=1) \n",
        "\n",
        "# make predictions on test set\n",
        "start = time.perf_counter()\n",
        "y_pred = cross_val_predict(lrc, X, y, cv=k)\n",
        "end = time.perf_counter()\n",
        "print(\"TIME:\",(end-start)/60,\"min\")\n",
        "\n",
        "# print confusion matrix\n",
        "my_cm(y_pred,y)"
      ]
    },
    {
      "cell_type": "code",
      "execution_count": null,
      "metadata": {
        "colab": {
          "base_uri": "https://localhost:8080/"
        },
        "id": "KY2kfo_NFGp_",
        "outputId": "3f507949-529f-4518-8939-37c438a0dbdd"
      },
      "outputs": [
        {
          "output_type": "stream",
          "name": "stdout",
          "text": [
            "accuracy: 0.6808069305350092\n",
            "precision: 0.7043995782778311\n",
            "auc: 0.7477332324998447\n",
            "recall: 0.6235919098822325\n",
            "f1: 0.6613432666066138\n",
            "TIME: 0.008021808466666395 min\n"
          ]
        }
      ],
      "source": [
        "# print performance scores\n",
        "start = time.perf_counter()\n",
        "my_scores(lrc,X,y)\n",
        "end = time.perf_counter()\n",
        "print(\"TIME:\",(end-start)/60,\"min\")"
      ]
    }
  ],
  "metadata": {
    "colab": {
      "provenance": []
    },
    "kernelspec": {
      "display_name": "Python 3",
      "name": "python3"
    },
    "language_info": {
      "name": "python"
    }
  },
  "nbformat": 4,
  "nbformat_minor": 0
}