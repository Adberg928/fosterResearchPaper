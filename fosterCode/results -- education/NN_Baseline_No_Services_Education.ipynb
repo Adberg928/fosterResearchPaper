{
  "nbformat": 4,
  "nbformat_minor": 0,
  "metadata": {
    "colab": {
      "provenance": []
    },
    "kernelspec": {
      "name": "python3",
      "display_name": "Python 3"
    },
    "language_info": {
      "name": "python"
    }
  },
  "cells": [
    {
      "cell_type": "markdown",
      "source": [
        "#Mount Drive + Load Libraries#"
      ],
      "metadata": {
        "id": "fyzbDZk5aiNS"
      }
    },
    {
      "cell_type": "code",
      "execution_count": null,
      "metadata": {
        "colab": {
          "base_uri": "https://localhost:8080/"
        },
        "id": "SFrwtuWe3DEO",
        "outputId": "8775a4ce-a738-4430-b977-de9694bc80bb"
      },
      "outputs": [
        {
          "output_type": "stream",
          "name": "stdout",
          "text": [
            "Mounted at /content/drive/\n",
            "/content/drive/Shareddrives/CSCI 461\n"
          ]
        }
      ],
      "source": [
        "# mount drive\n",
        "from google.colab import drive\n",
        "drive.mount('/content/drive/')\n",
        "%cd 'drive/Shareddrives/CSCI 461'"
      ]
    },
    {
      "cell_type": "code",
      "source": [
        "# python libraries\n",
        "import pandas as pd\n",
        "import torch \n",
        "import torch.nn as nn\n",
        "from datetime import date\n",
        "import os\n",
        "from sklearn.utils import shuffle\n",
        "from sklearn.metrics import f1_score, recall_score, precision_score,roc_auc_score, confusion_matrix\n",
        "import numpy as np\n",
        "from sklearn.metrics import f1_score\n",
        "from sklearn.model_selection import KFold, train_test_split\n",
        "import seaborn as sns\n",
        "from sklearn.preprocessing import MinMaxScaler\n",
        "kf = KFold(n_splits=5)\n",
        "\n",
        "device = torch.device(\"cuda\") if torch.cuda.is_available() else torch.device(\"cpu\")"
      ],
      "metadata": {
        "id": "orOUi10Y3-5y"
      },
      "execution_count": null,
      "outputs": []
    },
    {
      "cell_type": "markdown",
      "source": [
        "#ANN Modeling#"
      ],
      "metadata": {
        "id": "GEvGVIrAaz_C"
      }
    },
    {
      "cell_type": "code",
      "source": [
        "# Importing the data\n",
        "data = pd.read_csv(\"processed/combined_ohe.csv\")\n",
        "edu_matrix = data[[\"highedcert_associate degree\",\"highedcert_bachelor degree\",\"highedcert_high school or ged\",\n",
        "                  \"highedcert_higher degree\",\"highedcert_none of the above\",\"highedcert_vocational certificate\",\n",
        "                  \"highedcert_vocational license\"]]\n",
        "data[\"edu_categorical\"] = edu_matrix.idxmax(axis=1)\n",
        "\n",
        "# making education binary\n",
        "educationBinary = \\\n",
        "{   \n",
        "    \"highedcert_associate degree\": 1,\n",
        "    \"highedcert_bachelor degree\": 1,\n",
        "    \"highedcert_high school or ged\": 1,\n",
        "    \"highedcert_higher degree\": 1,\n",
        "    \"highedcert_none of the above\":0,\n",
        "    \"highedcert_vocational certificate\": 1,\n",
        "    \"highedcert_vocational license\": 1\n",
        "}\n",
        "\n",
        "# drop features\n",
        "data.drop(columns=['specedsv_No',\n",
        " 'specedsv_Yes',\n",
        " 'ilnasv_No',\n",
        " 'ilnasv_Yes',\n",
        " 'acsuppsv_No',\n",
        " 'acsuppsv_Yes',\n",
        " 'psedsuppsv_No',\n",
        " 'psedsuppsv_Yes',\n",
        " 'careersv_No',\n",
        " 'careersv_Yes',\n",
        " 'emplytrsv_No',\n",
        " 'emplytrsv_Yes',\n",
        " 'budgetsv_No',\n",
        " 'budgetsv_Yes',\n",
        " 'housedsv_No',\n",
        " 'housedsv_Yes',\n",
        " 'hlthedsv_No',\n",
        " 'hlthedsv_Yes',\n",
        " 'famsuppsv_No',\n",
        " 'famsuppsv_Yes',\n",
        " 'mentorsv_No',\n",
        " 'mentorsv_Yes',\n",
        " 'silsv_No',\n",
        " 'silsv_Yes',\n",
        " 'rmbrdfasv_No',\n",
        " 'rmbrdfasv_Yes',\n",
        " 'educfinasv_No',\n",
        " 'educfinasv_Yes',\n",
        " 'othrfinasv_No',\n",
        " 'othrfinasv_Yes'], axis=1, inplace=True)\n",
        "\n",
        "data['edu_binary'] = data[\"edu_categorical\"].map(educationBinary) \n",
        "\n",
        "# dropping overlap variables (and other outcome features, recnumbr)\n",
        "data.drop(columns=[\"recnumbr\", \"highedcert_associate degree\",\"highedcert_bachelor degree\",\"highedcert_high school or ged\",\n",
        "                  \"highedcert_higher degree\",\"highedcert_none of the above\",\"highedcert_vocational certificate\",\n",
        "                  \"highedcert_vocational license\",\"edu_categorical\", 'homeless_no','homeless_yes','subabuse_no',\n",
        "                   'subabuse_yes', 'incarc_no', 'incarc_yes', 'edu_categorical'], axis=1, inplace=True)\n",
        "\n",
        "# filtering for age 19+ and balancing the class\n",
        "#data = data[data['age']>18].sort_values('edu_binary').iloc[:1084*2,:]\n",
        "data = data[data['age']>18].sort_values('age', ascending = False).sort_values('edu_binary').iloc[:1084*2,:]\n",
        "# Setting target variables\n",
        "data = data.sample(frac=1)\n",
        "y = data.loc[:,\"edu_binary\"]\n",
        "X = data.loc[:,data.columns != \"edu_binary\"]\n",
        "\n",
        "# Feature scaling \n",
        "scaler = MinMaxScaler((-1,1))\n",
        "X['age'] = scaler.fit_transform(np.array(X['age']).reshape(-1, 1))\n",
        "y = data.loc[:,\"edu_binary\"]\n",
        "X = data.loc[:,data.columns != \"edu_binary\"]\n",
        "X_train, X_test, y_train, y_test = train_test_split(X, y, test_size = 0.2, random_state = 0)\n"
      ],
      "metadata": {
        "colab": {
          "base_uri": "https://localhost:8080/"
        },
        "id": "SvC37nBuqNuI",
        "outputId": "34d3f1c2-32d6-4f8e-9c85-d2b035c061a9"
      },
      "execution_count": null,
      "outputs": [
        {
          "output_type": "stream",
          "name": "stderr",
          "text": [
            "/usr/local/lib/python3.7/dist-packages/ipykernel_launcher.py:70: SettingWithCopyWarning: \n",
            "A value is trying to be set on a copy of a slice from a DataFrame.\n",
            "Try using .loc[row_indexer,col_indexer] = value instead\n",
            "\n",
            "See the caveats in the documentation: https://pandas.pydata.org/pandas-docs/stable/user_guide/indexing.html#returning-a-view-versus-a-copy\n"
          ]
        }
      ]
    },
    {
      "cell_type": "code",
      "source": [
        "def my_cm(y,y_pred,k=5):\n",
        "\n",
        "  cm = confusion_matrix(y, y_pred)\n",
        "  cm_matrix = pd.DataFrame(data=cm, columns=['Actual Positive:1', 'Actual Negative:0'], \n",
        "                                 index=['Predict Positive:1', 'Predict Negative:0'])\n",
        "  return sns.heatmap(cm_matrix, annot=True, fmt='d', cmap='YlGnBu')\n"
      ],
      "metadata": {
        "id": "fSOnZu-ArCM9"
      },
      "execution_count": null,
      "outputs": []
    },
    {
      "cell_type": "code",
      "source": [
        "#data loader for torch\n",
        "class data_class(torch.utils.data.Dataset):\n",
        "  def __init__(self, X,y):\n",
        "    self.x=torch.tensor(X.values,dtype=torch.float32)\n",
        "    self.y=torch.tensor(y.values.reshape(-1,1),dtype=torch.float32)\n",
        "  def __len__(self):\n",
        "    return len(self.y)\n",
        "  def __getitem__(self, idx):\n",
        "    return self.x[idx], self.y[idx]\n",
        "train_loader=torch.utils.data.DataLoader(data_class(X_train,y_train),batch_size=8,shuffle=True)\n",
        "test_loader=torch.utils.data.DataLoader(data_class(X_test,y_test), batch_size=8)"
      ],
      "metadata": {
        "id": "wv7-uAb3iDHv"
      },
      "execution_count": null,
      "outputs": []
    },
    {
      "cell_type": "markdown",
      "source": [
        "Modeling "
      ],
      "metadata": {
        "id": "_zfe5lkWMkBN"
      }
    },
    {
      "cell_type": "code",
      "source": [
        "# viewing data loader\n",
        "print(\"Number of training examples:\", len(train_loader))\n",
        "print(\"Number of testing examples:\", len(test_loader))\n",
        "\n",
        "# features in sample\n",
        "examples = iter(train_loader)\n",
        "samples, labels = examples.next()\n",
        "print(\"Sample shape: \", samples.shape)\n",
        "print(\"Label shape: \", labels.shape)\n",
        "\n",
        "# labels\n",
        "print(\"Labels: \", labels)"
      ],
      "metadata": {
        "colab": {
          "base_uri": "https://localhost:8080/"
        },
        "id": "eTWfjAU7n2Zn",
        "outputId": "041e649b-4c36-481e-ca2a-5fd793f2240c"
      },
      "execution_count": null,
      "outputs": [
        {
          "output_type": "stream",
          "name": "stdout",
          "text": [
            "Number of training examples: 217\n",
            "Number of testing examples: 55\n",
            "Sample shape:  torch.Size([8, 117])\n",
            "Label shape:  torch.Size([8, 1])\n",
            "Labels:  tensor([[0.],\n",
            "        [1.],\n",
            "        [1.],\n",
            "        [0.],\n",
            "        [1.],\n",
            "        [0.],\n",
            "        [1.],\n",
            "        [0.]])\n"
          ]
        }
      ]
    },
    {
      "cell_type": "code",
      "source": [
        "# defining the model\n",
        "class ANN(nn.Module):\n",
        "  def __init__(self, input_size, num_classes):\n",
        "    super(ANN, self).__init__()\n",
        "    self.relu = nn.ReLU()\n",
        "    self.input_layer = nn.Linear(input_size, 128)\n",
        "    self.hidden1 = nn.Linear(128,64)\n",
        "    self.hidden2 = nn.Linear(64,32)\n",
        "    self.hidden3 = nn.Linear(32,16)\n",
        "    self.hidden4 = nn.Linear(16,8)\n",
        "    self.output_layer= nn.Linear(8,num_classes)\n",
        "    self.activation = nn.Sigmoid()\n",
        "    self.batch_norm = nn.BatchNorm1d(8)\n",
        "  def forward(self, sample):\n",
        "    out = self.input_layer(sample)\n",
        "    out = self.relu(out)\n",
        "    out = self.hidden1(out)\n",
        "    out = self.relu(out)\n",
        "    out = self.hidden2(out)\n",
        "    out = self.relu(out)\n",
        "    out = self.hidden3(out)\n",
        "    out = self.relu(out)\n",
        "    out = self.hidden4(out)\n",
        "    out = self.relu(out)\n",
        "    out = self.batch_norm(out)\n",
        "    return self.activation(self.output_layer(out))\n",
        "model = ANN(117, 1)\n",
        "print(model)"
      ],
      "metadata": {
        "id": "8GmnRGedpc7J",
        "colab": {
          "base_uri": "https://localhost:8080/"
        },
        "outputId": "ddf553a7-1f07-4c4c-88c1-7efc643abe9a"
      },
      "execution_count": null,
      "outputs": [
        {
          "output_type": "stream",
          "name": "stdout",
          "text": [
            "ANN(\n",
            "  (relu): ReLU()\n",
            "  (input_layer): Linear(in_features=117, out_features=128, bias=True)\n",
            "  (hidden1): Linear(in_features=128, out_features=64, bias=True)\n",
            "  (hidden2): Linear(in_features=64, out_features=32, bias=True)\n",
            "  (hidden3): Linear(in_features=32, out_features=16, bias=True)\n",
            "  (hidden4): Linear(in_features=16, out_features=8, bias=True)\n",
            "  (output_layer): Linear(in_features=8, out_features=1, bias=True)\n",
            "  (activation): Sigmoid()\n",
            "  (batch_norm): BatchNorm1d(8, eps=1e-05, momentum=0.1, affine=True, track_running_stats=True)\n",
            ")\n"
          ]
        }
      ]
    },
    {
      "cell_type": "code",
      "source": [
        "# define loss and optimizer\n",
        "# loss_function = nn.functional.binary_cross_entropy_with_logits\n",
        "loss_function = nn.BCELoss()\n",
        "optimizer = torch.optim.Adam(model.parameters())"
      ],
      "metadata": {
        "id": "z2g8GhVZB_Re"
      },
      "execution_count": null,
      "outputs": []
    },
    {
      "cell_type": "code",
      "source": [
        "# training model\n",
        "num_epochs = 10\n",
        "total_steps = len(train_loader)\n",
        "for epoch in range(num_epochs):\n",
        "  for i, (samples,labels) in enumerate (train_loader):\n",
        "    samples = samples.to(device)\n",
        "    labels = labels.to(device)\n",
        "\n",
        "    output = model.forward(samples)\n",
        "    loss = loss_function(output, labels)\n",
        "\n",
        "    optimizer.zero_grad()\n",
        "    loss.backward()\n",
        "    optimizer.step()\n",
        "\n",
        "    if (i+1) % 100 == 0:\n",
        "      print(f'epoch {epoch+1} / {num_epochs}, step {i+1}/{total_steps}, loss = {loss.item():.4f}')"
      ],
      "metadata": {
        "id": "QiGsB2D6CP2h",
        "colab": {
          "base_uri": "https://localhost:8080/"
        },
        "outputId": "366a2a97-a898-46e3-e457-12df82e09707"
      },
      "execution_count": null,
      "outputs": [
        {
          "output_type": "stream",
          "name": "stdout",
          "text": [
            "epoch 1 / 10, step 100/217, loss = 0.5773\n",
            "epoch 1 / 10, step 200/217, loss = 0.3474\n",
            "epoch 2 / 10, step 100/217, loss = 0.4902\n",
            "epoch 2 / 10, step 200/217, loss = 0.2593\n",
            "epoch 3 / 10, step 100/217, loss = 0.5086\n",
            "epoch 3 / 10, step 200/217, loss = 0.9125\n",
            "epoch 4 / 10, step 100/217, loss = 0.3456\n",
            "epoch 4 / 10, step 200/217, loss = 0.4202\n",
            "epoch 5 / 10, step 100/217, loss = 0.4290\n",
            "epoch 5 / 10, step 200/217, loss = 0.6754\n",
            "epoch 6 / 10, step 100/217, loss = 0.4909\n",
            "epoch 6 / 10, step 200/217, loss = 0.5216\n",
            "epoch 7 / 10, step 100/217, loss = 0.7785\n",
            "epoch 7 / 10, step 200/217, loss = 0.5043\n",
            "epoch 8 / 10, step 100/217, loss = 0.3546\n",
            "epoch 8 / 10, step 200/217, loss = 0.4186\n",
            "epoch 9 / 10, step 100/217, loss = 0.5681\n",
            "epoch 9 / 10, step 200/217, loss = 0.4036\n",
            "epoch 10 / 10, step 100/217, loss = 0.9042\n",
            "epoch 10 / 10, step 200/217, loss = 0.5008\n"
          ]
        }
      ]
    },
    {
      "cell_type": "code",
      "source": [
        "# test set, do not updatee gradients\n",
        "with torch.no_grad():\n",
        "  accuracy_arr=[]\n",
        "  loss_arr=[]\n",
        "  f1_arr = []\n",
        "  recall_arr=[]\n",
        "  precision_arr=[]\n",
        "  labels_arr=[]\n",
        "  predictions_arr=[]\n",
        "  auc_arr=[]\n",
        "  corr_num = 0\n",
        "  sample_num=0\n",
        "\n",
        "  for indiv, labels in test_loader:\n",
        "    indiv =   indiv.to(device)\n",
        "    labels = labels.to(device)\n",
        "    \n",
        "    output = model(indiv)\n",
        "\n",
        "    sample_num += labels.shape[0]\n",
        "    predictions = torch.round(output)\n",
        "    corr_num += (predictions == labels).sum().item()\n",
        "\n",
        "    loss = loss_function(output, labels)\n",
        "    loss_arr.append(loss)\n",
        "    accuracy = corr_num / sample_num\n",
        "    accuracy_arr.append(accuracy)\n",
        "\n",
        "    f1 = f1_score(predictions, labels, labels=labels)\n",
        "    f1_arr.append(f1)\n",
        "    recall = recall_score(predictions, labels, labels=labels)\n",
        "    precision = precision_score(predictions, labels, labels=labels)\n",
        "    auc = roc_auc_score(predictions, labels, labels=labels)\n",
        "    recall_arr.append(recall)\n",
        "    precision_arr.append(precision)\n",
        "    auc_arr.append(auc)\n",
        "    labels_arr += labels.tolist()\n",
        "    predictions_arr += predictions.tolist()\n",
        "\n",
        "print(my_cm(labels_arr, predictions_arr))\n",
        "\n",
        "print(f'Average Accuracy: {sum(accuracy_arr)/len(accuracy_arr)}')\n",
        "print(f'Average Cost/Loss: {sum(loss_arr)/len(loss_arr)}')\n",
        "print(f'Average F1 score:\\t{np.average(np.array(f1_arr))}')\n",
        "print(f'Average AUC score:\\t{np.average(np.array(auc_arr))}')\n",
        "print(f'Average Recall score:\\t{np.average(np.array(recall_arr))}')\n",
        "print(f'Average Precision score:\\t{np.average(np.array(precision_arr))}')\n"
      ],
      "metadata": {
        "colab": {
          "base_uri": "https://localhost:8080/",
          "height": 393
        },
        "id": "T5R966ZVDtFb",
        "outputId": "ad1ae9a3-2980-4b7a-cc50-4b760aa44907"
      },
      "execution_count": null,
      "outputs": [
        {
          "output_type": "stream",
          "name": "stdout",
          "text": [
            "AxesSubplot(0.125,0.125;0.62x0.755)\n",
            "Average Accuracy: 0.7739648595220151\n",
            "Average Cost/Loss: 0.4961194097995758\n",
            "Average F1 score:\t0.7604447068083429\n",
            "Average AUC score:\t0.7737878787878788\n",
            "Average Recall score:\t0.8093939393939396\n",
            "Average Precision score:\t0.7835064935064935\n"
          ]
        },
        {
          "output_type": "display_data",
          "data": {
            "text/plain": [
              "<Figure size 432x288 with 2 Axes>"
            ],
            "image/png": "[encoded data removed]"
          },
          "metadata": {
            "needs_background": "light"
          }
        }
      ]
    },
    {
      "cell_type": "markdown",
      "source": [
        "Cross Validation"
      ],
      "metadata": {
        "id": "mupDlOaBNJi_"
      }
    },
    {
      "cell_type": "code",
      "source": [
        "def reset_weights(m):\n",
        "  for layer in m.children():\n",
        "   if hasattr(layer, 'reset_parameters'):\n",
        "    print(f'Reset trainable parameters of layer = {layer}')\n",
        "    layer.reset_parameters()"
      ],
      "metadata": {
        "id": "9N8vVf1CGlDm"
      },
      "execution_count": null,
      "outputs": []
    },
    {
      "cell_type": "code",
      "source": [
        "loss_function = nn.BCELoss()\n",
        "\n",
        "num_batch = 8\n",
        "num_epochs = 10\n",
        "accuracy_arr=[]\n",
        "loss_arr=[]\n",
        "f1_arr = []\n",
        "recall_arr=[]\n",
        "precision_arr=[]\n",
        "labels_arr=[]\n",
        "predictions_arr=[]\n",
        "f1_fold=[]\n",
        "auc_arr=[]\n",
        "for train_index, test_index in kf.split(data):\n",
        "  X_train, X_test = X.iloc[train_index], X.iloc[test_index]\n",
        "  y_train, y_test = y.iloc[train_index], y.iloc[test_index]\n",
        "  train_loader=torch.utils.data.DataLoader(data_class(X_train,y_train),batch_size=num_batch,shuffle=True)\n",
        "  test_loader=torch.utils.data.DataLoader(data_class(X_test,y_test), batch_size=num_batch)\n",
        "\n",
        "  model = ANN(117, 1)\n",
        "  model.to(device)\n",
        "  model.apply(reset_weights)\n",
        "  optimizer = torch.optim.Adam(model.parameters())\n",
        "  total_steps = len(train_loader)\n",
        "  for epoch in range(num_epochs):\n",
        "    for i, (samples,labels) in enumerate (train_loader):\n",
        "      samples = samples.to(device)\n",
        "      labels = labels.to(device)\n",
        "\n",
        "      output = model.forward(samples)\n",
        "      loss = loss_function(output, labels)\n",
        "\n",
        "      optimizer.zero_grad()\n",
        "      loss.backward()\n",
        "      optimizer.step()\n",
        "    \n",
        "    with torch.no_grad():\n",
        "      corr_num = 0\n",
        "      sample_num=0\n",
        "\n",
        "      for indv, labels in test_loader:\n",
        "        indv =  indv.to(device)\n",
        "        labels = labels.to(device)\n",
        "        if(indv.shape[0] < 2):\n",
        "          continue\n",
        "        output = model(indv)\n",
        "\n",
        "        sample_num += labels.shape[0]\n",
        "        predictions = torch.round(output)\n",
        "        corr_num += (predictions == labels).sum().item()\n",
        "\n",
        "        loss = loss_function(output, labels)\n",
        "        loss_arr.append(loss)\n",
        "        accuracy = corr_num / sample_num\n",
        "        accuracy_arr.append(accuracy)\n",
        "\n",
        "        f1 = f1_score(predictions, labels, labels=labels)\n",
        "        f1_arr.append(f1)\n",
        "        recall = recall_score(predictions, labels, labels=labels)\n",
        "        precision = precision_score(predictions, labels, labels=labels)\n",
        "        auc=roc_auc_score(predictions, labels, labels=labels)\n",
        "        f1_arr.append(f1)\n",
        "        auc_arr.append(auc)\n",
        "        recall_arr.append(recall)\n",
        "        precision_arr.append(precision)\n",
        "        labels_arr += labels.tolist()\n",
        "        predictions_arr += predictions.tolist()\n",
        "print(my_cm(labels_arr, predictions_arr))\n",
        "\n",
        "print(f'Average Accuracy: {sum(accuracy_arr)/len(accuracy_arr)}')\n",
        "print(f'Average Cost/Loss: {sum(loss_arr)/len(loss_arr)}')\n",
        "print(f'Average F1 score:\\t{np.average(np.array(f1_arr))}')\n",
        "print(f'Average AUC score:\\t{np.average(np.array(auc_arr))}')\n",
        "print(f'Average Recall score:\\t{np.average(np.array(recall_arr))}')\n",
        "print(f'Average Precision score:\\t{np.average(np.array(precision_arr))}')\n"
      ],
      "metadata": {
        "colab": {
          "base_uri": "https://localhost:8080/",
          "height": 1000
        },
        "id": "tJkymy7awJ3o",
        "outputId": "3c47ff89-21a2-42f2-eaf1-d87765851cf4"
      },
      "execution_count": null,
      "outputs": [
        {
          "output_type": "stream",
          "name": "stdout",
          "text": [
            "Reset trainable parameters of layer = Linear(in_features=117, out_features=128, bias=True)\n",
            "Reset trainable parameters of layer = Linear(in_features=128, out_features=64, bias=True)\n",
            "Reset trainable parameters of layer = Linear(in_features=64, out_features=32, bias=True)\n",
            "Reset trainable parameters of layer = Linear(in_features=32, out_features=16, bias=True)\n",
            "Reset trainable parameters of layer = Linear(in_features=16, out_features=8, bias=True)\n",
            "Reset trainable parameters of layer = Linear(in_features=8, out_features=1, bias=True)\n",
            "Reset trainable parameters of layer = BatchNorm1d(8, eps=1e-05, momentum=0.1, affine=True, track_running_stats=True)\n",
            "Reset trainable parameters of layer = Linear(in_features=117, out_features=128, bias=True)\n",
            "Reset trainable parameters of layer = Linear(in_features=128, out_features=64, bias=True)\n",
            "Reset trainable parameters of layer = Linear(in_features=64, out_features=32, bias=True)\n",
            "Reset trainable parameters of layer = Linear(in_features=32, out_features=16, bias=True)\n",
            "Reset trainable parameters of layer = Linear(in_features=16, out_features=8, bias=True)\n",
            "Reset trainable parameters of layer = Linear(in_features=8, out_features=1, bias=True)\n",
            "Reset trainable parameters of layer = BatchNorm1d(8, eps=1e-05, momentum=0.1, affine=True, track_running_stats=True)\n",
            "Reset trainable parameters of layer = Linear(in_features=117, out_features=128, bias=True)\n",
            "Reset trainable parameters of layer = Linear(in_features=128, out_features=64, bias=True)\n",
            "Reset trainable parameters of layer = Linear(in_features=64, out_features=32, bias=True)\n",
            "Reset trainable parameters of layer = Linear(in_features=32, out_features=16, bias=True)\n",
            "Reset trainable parameters of layer = Linear(in_features=16, out_features=8, bias=True)\n",
            "Reset trainable parameters of layer = Linear(in_features=8, out_features=1, bias=True)\n",
            "Reset trainable parameters of layer = BatchNorm1d(8, eps=1e-05, momentum=0.1, affine=True, track_running_stats=True)\n",
            "Reset trainable parameters of layer = Linear(in_features=117, out_features=128, bias=True)\n",
            "Reset trainable parameters of layer = Linear(in_features=128, out_features=64, bias=True)\n",
            "Reset trainable parameters of layer = Linear(in_features=64, out_features=32, bias=True)\n",
            "Reset trainable parameters of layer = Linear(in_features=32, out_features=16, bias=True)\n",
            "Reset trainable parameters of layer = Linear(in_features=16, out_features=8, bias=True)\n",
            "Reset trainable parameters of layer = Linear(in_features=8, out_features=1, bias=True)\n",
            "Reset trainable parameters of layer = BatchNorm1d(8, eps=1e-05, momentum=0.1, affine=True, track_running_stats=True)\n"
          ]
        },
        {
          "output_type": "stream",
          "name": "stderr",
          "text": [
            "/usr/local/lib/python3.7/dist-packages/sklearn/metrics/_classification.py:1318: UndefinedMetricWarning: Precision is ill-defined and being set to 0.0 due to no predicted samples. Use `zero_division` parameter to control this behavior.\n",
            "  _warn_prf(average, modifier, msg_start, len(result))\n",
            "/usr/local/lib/python3.7/dist-packages/sklearn/metrics/_classification.py:1318: UndefinedMetricWarning: Precision is ill-defined and being set to 0.0 due to no predicted samples. Use `zero_division` parameter to control this behavior.\n",
            "  _warn_prf(average, modifier, msg_start, len(result))\n",
            "/usr/local/lib/python3.7/dist-packages/sklearn/metrics/_classification.py:1318: UndefinedMetricWarning: Precision is ill-defined and being set to 0.0 due to no predicted samples. Use `zero_division` parameter to control this behavior.\n",
            "  _warn_prf(average, modifier, msg_start, len(result))\n",
            "/usr/local/lib/python3.7/dist-packages/sklearn/metrics/_classification.py:1318: UndefinedMetricWarning: Precision is ill-defined and being set to 0.0 due to no predicted samples. Use `zero_division` parameter to control this behavior.\n",
            "  _warn_prf(average, modifier, msg_start, len(result))\n",
            "/usr/local/lib/python3.7/dist-packages/sklearn/metrics/_classification.py:1318: UndefinedMetricWarning: Precision is ill-defined and being set to 0.0 due to no predicted samples. Use `zero_division` parameter to control this behavior.\n",
            "  _warn_prf(average, modifier, msg_start, len(result))\n",
            "/usr/local/lib/python3.7/dist-packages/sklearn/metrics/_classification.py:1318: UndefinedMetricWarning: Precision is ill-defined and being set to 0.0 due to no predicted samples. Use `zero_division` parameter to control this behavior.\n",
            "  _warn_prf(average, modifier, msg_start, len(result))\n",
            "/usr/local/lib/python3.7/dist-packages/sklearn/metrics/_classification.py:1318: UndefinedMetricWarning: Precision is ill-defined and being set to 0.0 due to no predicted samples. Use `zero_division` parameter to control this behavior.\n",
            "  _warn_prf(average, modifier, msg_start, len(result))\n",
            "/usr/local/lib/python3.7/dist-packages/sklearn/metrics/_classification.py:1318: UndefinedMetricWarning: Precision is ill-defined and being set to 0.0 due to no predicted samples. Use `zero_division` parameter to control this behavior.\n",
            "  _warn_prf(average, modifier, msg_start, len(result))\n",
            "/usr/local/lib/python3.7/dist-packages/sklearn/metrics/_classification.py:1318: UndefinedMetricWarning: Precision is ill-defined and being set to 0.0 due to no predicted samples. Use `zero_division` parameter to control this behavior.\n",
            "  _warn_prf(average, modifier, msg_start, len(result))\n",
            "/usr/local/lib/python3.7/dist-packages/sklearn/metrics/_classification.py:1318: UndefinedMetricWarning: Precision is ill-defined and being set to 0.0 due to no predicted samples. Use `zero_division` parameter to control this behavior.\n",
            "  _warn_prf(average, modifier, msg_start, len(result))\n"
          ]
        },
        {
          "output_type": "stream",
          "name": "stdout",
          "text": [
            "Reset trainable parameters of layer = Linear(in_features=117, out_features=128, bias=True)\n",
            "Reset trainable parameters of layer = Linear(in_features=128, out_features=64, bias=True)\n",
            "Reset trainable parameters of layer = Linear(in_features=64, out_features=32, bias=True)\n",
            "Reset trainable parameters of layer = Linear(in_features=32, out_features=16, bias=True)\n",
            "Reset trainable parameters of layer = Linear(in_features=16, out_features=8, bias=True)\n",
            "Reset trainable parameters of layer = Linear(in_features=8, out_features=1, bias=True)\n",
            "Reset trainable parameters of layer = BatchNorm1d(8, eps=1e-05, momentum=0.1, affine=True, track_running_stats=True)\n",
            "AxesSubplot(0.125,0.125;0.62x0.755)\n",
            "Average Accuracy: 0.7480467698195378\n",
            "Average Cost/Loss: 0.5097582936286926\n",
            "Average F1 score:\t0.7374659386197847\n",
            "Average AUC score:\t0.7591915227629513\n",
            "Average Recall score:\t0.7630298273155416\n",
            "Average Precision score:\t0.7697339961625675\n"
          ]
        },
        {
          "output_type": "display_data",
          "data": {
            "text/plain": [
              "<Figure size 432x288 with 2 Axes>"
            ],
            "image/png": "[encoded data removed]"
          },
          "metadata": {
            "needs_background": "light"
          }
        }
      ]
    }
  ]
}